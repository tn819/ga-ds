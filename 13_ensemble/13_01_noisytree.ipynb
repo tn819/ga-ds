{
 "cells": [
  {
   "cell_type": "markdown",
   "metadata": {},
   "source": [
    "# Small ipython notebook demonstrating noisiness of trees"
   ]
  },
  {
   "cell_type": "code",
   "execution_count": null,
   "metadata": {
    "collapsed": true
   },
   "outputs": [],
   "source": [
    "import pandas as pd\n",
    "import numpy as np\n",
    "import matplotlib.pyplot as plt\n",
    "import seaborn as sb\n",
    "\n",
    "from sklearn import datasets\n",
    "from sklearn import tree\n",
    "\n",
    "%matplotlib inline"
   ]
  },
  {
   "cell_type": "code",
   "execution_count": null,
   "metadata": {
    "collapsed": true
   },
   "outputs": [],
   "source": [
    "iris = datasets.load_iris()\n",
    "\n",
    "feat1_idx = 0\n",
    "feat2_idx = 2\n",
    "\n",
    "X_train = iris.data[:,[feat1_idx,feat2_idx]]\n",
    "y_train = iris.target"
   ]
  },
  {
   "cell_type": "code",
   "execution_count": null,
   "metadata": {
    "collapsed": false
   },
   "outputs": [],
   "source": [
    "model = tree.DecisionTreeClassifier()\n",
    "model.fit(X_train,y_train)\n",
    "model.score(X_train,y_train)"
   ]
  },
  {
   "cell_type": "code",
   "execution_count": null,
   "metadata": {
    "collapsed": false
   },
   "outputs": [],
   "source": [
    "x_min, x_max = X_train[:,0].min() - 0.5, X_train[:,0].max() + 0.5\n",
    "y_min, y_max = X_train[:,1].min() - 0.5, X_train[:,1].max() + 0.5"
   ]
  },
  {
   "cell_type": "code",
   "execution_count": null,
   "metadata": {
    "collapsed": false
   },
   "outputs": [],
   "source": [
    "step_size = .01\n",
    "xx, yy = np.meshgrid(np.arange(x_min,x_max,step_size), np.arange(y_min,y_max,step_size))"
   ]
  },
  {
   "cell_type": "code",
   "execution_count": null,
   "metadata": {
    "collapsed": false
   },
   "outputs": [],
   "source": [
    "zz = model.predict( np.c_[xx.ravel(),yy.ravel()]) \n",
    "zz = zz.reshape(xx.shape)"
   ]
  },
  {
   "cell_type": "code",
   "execution_count": null,
   "metadata": {
    "collapsed": false
   },
   "outputs": [],
   "source": [
    "cs = plt.contourf(xx, yy, zz, cmap=plt.cm.Paired)\n",
    "plt.xlabel(iris.feature_names[feat1_idx])\n",
    "plt.ylabel(iris.feature_names[feat2_idx])\n",
    "plt.title(\"Decision Tree Boundaries\")\n",
    "\n",
    "for i, color in zip(range(3), \"rby\"):\n",
    "    idx = np.where(y_train == i)\n",
    "    plt.scatter(X_train[idx, 0], X_train[idx, 1], c=color, label=iris.target_names[i],cmap=plt.cm.Paired)"
   ]
  },
  {
   "cell_type": "markdown",
   "metadata": {},
   "source": [
    "Let's see how much the tree changes when we use features 0 and features 1 to predict classes."
   ]
  },
  {
   "cell_type": "code",
   "execution_count": null,
   "metadata": {
    "collapsed": true
   },
   "outputs": [],
   "source": []
  },
  {
   "cell_type": "code",
   "execution_count": null,
   "metadata": {
    "collapsed": true
   },
   "outputs": [],
   "source": []
  }
 ],
 "metadata": {
  "kernelspec": {
   "display_name": "Python 2",
   "language": "python",
   "name": "python2"
  },
  "language_info": {
   "codemirror_mode": {
    "name": "ipython",
    "version": 2
   },
   "file_extension": ".py",
   "mimetype": "text/x-python",
   "name": "python",
   "nbconvert_exporter": "python",
   "pygments_lexer": "ipython2",
   "version": "2.7.11"
  }
 },
 "nbformat": 4,
 "nbformat_minor": 0
}
