{
 "cells": [
  {
   "cell_type": "markdown",
   "metadata": {},
   "source": [
    "# Kaggle In Class Competition\n",
    "\n",
    "<img src=\"http://cdn.alleywatch.com/wp-content/uploads/2013/06/Competition.jpg\" width=300/>\n",
    "<center>**Competition Time**</center>\n",
    "\n",
    "We're going to use all of the technique's we've learned in order to classify an old Kaggle competition. This competition data provides the scientists with 93 features (which seem to have been cleaned!), and asks users to classify each item/row into class_1 to class_9.\n",
    "\n",
    "At first, you will only have access to the training set. After some time, the test set will be released and we will have a chance to compare our best models!\n",
    "\n",
    "Things to try:\n",
    "* Start small and simple! Try simpler techniques such as logistic regression or SVMs.\n",
    "* Maybe you don't actually wan't ALL of the features. Maybe some are noisy. Would feature selection help?\n",
    "* This training dataset is large, so it may help to test your ideas out on subsets of the training data. Ask questions to others to help guide you!\n",
    "* Think about why you might want a decision tree or other classifier.\n",
    "* Build upon your base ideas with ensemble techniques."
   ]
  },
  {
   "cell_type": "code",
   "execution_count": 1,
   "metadata": {
    "collapsed": true
   },
   "outputs": [],
   "source": [
    "import pandas as pd\n",
    "import numpy as np\n",
    "from sklearn import datasets\n",
    "from sklearn import ensemble\n",
    "\n",
    "import matplotlib.pyplot as plt\n",
    "\n",
    "%matplotlib inline"
   ]
  },
  {
   "cell_type": "code",
   "execution_count": 2,
   "metadata": {
    "collapsed": true
   },
   "outputs": [],
   "source": [
    "# Train set - Use this data to build your model\n",
    "train = pd.read_csv('train.csv')"
   ]
  },
  {
   "cell_type": "code",
   "execution_count": null,
   "metadata": {
    "collapsed": true
   },
   "outputs": [],
   "source": []
  },
  {
   "cell_type": "code",
   "execution_count": null,
   "metadata": {
    "collapsed": true
   },
   "outputs": [],
   "source": []
  },
  {
   "cell_type": "code",
   "execution_count": null,
   "metadata": {
    "collapsed": true
   },
   "outputs": [],
   "source": []
  },
  {
   "cell_type": "code",
   "execution_count": null,
   "metadata": {
    "collapsed": true
   },
   "outputs": [],
   "source": []
  },
  {
   "cell_type": "code",
   "execution_count": null,
   "metadata": {
    "collapsed": true
   },
   "outputs": [],
   "source": []
  },
  {
   "cell_type": "code",
   "execution_count": null,
   "metadata": {
    "collapsed": true
   },
   "outputs": [],
   "source": [
    "# Later on - Will upload test set during class\n",
    "test = pd.read_csv('test.csv')"
   ]
  }
 ],
 "metadata": {
  "kernelspec": {
   "display_name": "Python 2",
   "language": "python",
   "name": "python2"
  },
  "language_info": {
   "codemirror_mode": {
    "name": "ipython",
    "version": 2
   },
   "file_extension": ".py",
   "mimetype": "text/x-python",
   "name": "python",
   "nbconvert_exporter": "python",
   "pygments_lexer": "ipython2",
   "version": "2.7.11"
  }
 },
 "nbformat": 4,
 "nbformat_minor": 0
}
