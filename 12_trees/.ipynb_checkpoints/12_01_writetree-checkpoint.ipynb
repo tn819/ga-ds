{
 "cells": [
  {
   "cell_type": "markdown",
   "metadata": {},
   "source": [
    "# Setup to view Decision Trees in Python\n",
    "\n",
    "<img src=\"http://i.stack.imgur.com/hwGVa.png\"/ width=\"500\">\n",
    "\n",
    "Viewing the decision trees will help us gain a lot of insight into the paths and reasonings behind the model. If you would like to view the decision trees (helpful), use the following steps, which have been [modified from SKLearn's documentation](http://scikit-learn.org/dev/modules/tree.html#classification):\n",
    "\n",
    "\n",
    "1. Try importing `pydot`. If it does not work, you will need to install it from the command line. `pip install pydot`. Pydot will allow us to create dot files (a special kind of graphics file).\n",
    "2. Try running the code below. If you get an error regarding `Couldn't import dot_parser, loading of dot files will not be possible.`, reference this [stackoverflowpost](http://stackoverflow.com/questions/15951748/pydot-and-graphviz-error-couldnt-import-dot-parser-loading-of-dot-files-will)\n",
    "3. You may need to separately install graphviz. \n",
    "  1. Try running in your command line: `brew install graphviz` if you have brew installed.\n",
    "  2. You can install it from the official site (if its up) at [graphviz.org](http://www.graphviz.org/Download_macos.php). \n",
    "  3. Alternatively, I had to install it from an [alternate link](http://download.cnet.com/Graphviz/3000-2054_4-50791.html). Graphviz is what allows us to view dot files and convert them from dot to png and other more readily available formats.\n",
    "\n",
    "If the below lines work correctly, you should be able to view a sample decision tree. Note that this may cause a lot of headache, so don't worry too much if you can't get it right away. Might take some googling and stack overflow searches on your part later on.\n"
   ]
  },
  {
   "cell_type": "code",
   "execution_count": 1,
   "metadata": {
    "collapsed": false
   },
   "outputs": [
    {
     "name": "stdout",
     "output_type": "stream",
     "text": [
      "Couldn't import dot_parser, loading of dot files will not be possible.\n"
     ]
    },
    {
     "ename": "NameError",
     "evalue": "global name 'dot_parser' is not defined",
     "output_type": "error",
     "traceback": [
      "\u001b[0;31m---------------------------------------------------------------------------\u001b[0m",
      "\u001b[0;31mNameError\u001b[0m                                 Traceback (most recent call last)",
      "\u001b[0;32m<ipython-input-1-a015d7e82a55>\u001b[0m in \u001b[0;36m<module>\u001b[0;34m()\u001b[0m\n\u001b[1;32m     24\u001b[0m \u001b[0;34m\u001b[0m\u001b[0m\n\u001b[1;32m     25\u001b[0m \u001b[0;31m# From the stringio, create a graph and output to screen\u001b[0m\u001b[0;34m\u001b[0m\u001b[0;34m\u001b[0m\u001b[0m\n\u001b[0;32m---> 26\u001b[0;31m \u001b[0mgraph\u001b[0m \u001b[0;34m=\u001b[0m \u001b[0mpydot\u001b[0m\u001b[0;34m.\u001b[0m\u001b[0mgraph_from_dot_data\u001b[0m\u001b[0;34m(\u001b[0m\u001b[0mdot_data\u001b[0m\u001b[0;34m.\u001b[0m\u001b[0mgetvalue\u001b[0m\u001b[0;34m(\u001b[0m\u001b[0;34m)\u001b[0m\u001b[0;34m)\u001b[0m\u001b[0;34m\u001b[0m\u001b[0m\n\u001b[0m\u001b[1;32m     27\u001b[0m \u001b[0mImage\u001b[0m\u001b[0;34m(\u001b[0m\u001b[0mgraph\u001b[0m\u001b[0;34m.\u001b[0m\u001b[0mcreate_png\u001b[0m\u001b[0;34m(\u001b[0m\u001b[0;34m)\u001b[0m\u001b[0;34m)\u001b[0m\u001b[0;34m\u001b[0m\u001b[0m\n",
      "\u001b[0;32m/Users/mac/anaconda/lib/python2.7/site-packages/pydot.pyc\u001b[0m in \u001b[0;36mgraph_from_dot_data\u001b[0;34m(data)\u001b[0m\n\u001b[1;32m    197\u001b[0m     \"\"\"\n\u001b[1;32m    198\u001b[0m \u001b[0;34m\u001b[0m\u001b[0m\n\u001b[0;32m--> 199\u001b[0;31m     \u001b[0;32mreturn\u001b[0m \u001b[0mdot_parser\u001b[0m\u001b[0;34m.\u001b[0m\u001b[0mparse_dot_data\u001b[0m\u001b[0;34m(\u001b[0m\u001b[0mdata\u001b[0m\u001b[0;34m)\u001b[0m\u001b[0;34m\u001b[0m\u001b[0m\n\u001b[0m\u001b[1;32m    200\u001b[0m \u001b[0;34m\u001b[0m\u001b[0m\n\u001b[1;32m    201\u001b[0m \u001b[0;34m\u001b[0m\u001b[0m\n",
      "\u001b[0;31mNameError\u001b[0m: global name 'dot_parser' is not defined"
     ]
    }
   ],
   "source": [
    "# Standard imports\n",
    "import numpy as np\n",
    "import pandas as pd\n",
    "import matplotlib.pyplot as plt\n",
    "import seaborn as sb\n",
    "from sklearn import tree\n",
    "from sklearn import datasets\n",
    "\n",
    "# Imports to allow us to write to io and view images in ipython\n",
    "from IPython.display import Image\n",
    "from sklearn.externals.six import StringIO\n",
    "import pydot\n",
    "\n",
    "%matplotlib inline\n",
    "\n",
    "# Fit a sample decision tree\n",
    "iris = datasets.load_iris()\n",
    "model = tree.DecisionTreeClassifier()\n",
    "model.fit(iris.data,iris.target)\n",
    "\n",
    "# Write a decision tree to a stringIO buffer using tree.export_graphviz\n",
    "dot_data = StringIO()\n",
    "tree.export_graphviz(model,out_file=dot_data)\n",
    "\n",
    "# From the stringio, create a graph and output to screen\n",
    "graph = pydot.graph_from_dot_data(dot_data.getvalue())\n",
    "Image(graph.create_png())"
   ]
  },
  {
   "cell_type": "code",
   "execution_count": 10,
   "metadata": {
    "collapsed": false
   },
   "outputs": [],
   "source": [
    "# Once we have converted a dot to a graph, we can write out the graph to any format\n",
    "graph.write_pdf(\"iris.pdf\")\n",
    "\n",
    "# Alternative method that writes to a file\n",
    "tree.export_graphviz(model,out_file=\"blah.dot\")\n",
    "import os\n",
    "os.system(\"dot -Tpdf blah.dot -o iris2.pdf\")\n",
    "os.unlink(\"blah.dot\")"
   ]
  },
  {
   "cell_type": "code",
   "execution_count": null,
   "metadata": {
    "collapsed": true
   },
   "outputs": [],
   "source": []
  }
 ],
 "metadata": {
  "kernelspec": {
   "display_name": "Python 2",
   "language": "python",
   "name": "python2"
  },
  "language_info": {
   "codemirror_mode": {
    "name": "ipython",
    "version": 2
   },
   "file_extension": ".py",
   "mimetype": "text/x-python",
   "name": "python",
   "nbconvert_exporter": "python",
   "pygments_lexer": "ipython2",
   "version": "2.7.11"
  }
 },
 "nbformat": 4,
 "nbformat_minor": 0
}
