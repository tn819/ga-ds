{
 "cells": [
  {
   "cell_type": "markdown",
   "metadata": {
    "collapsed": true
   },
   "source": [
    "# # Predicting Evergreeness of Content\n",
    "<img src=\"http://techvela.com/wp-content/uploads/2012/12/social-media-agency-leeds.png\" width=500/>\n",
    "\n",
    "\n",
    "We will be eventually using decision trees to classify certain aspects of [Stumbleupon](www.stumbleupon.com), a web page recommender. A description of the columns of the dataset is below:\n",
    "\n",
    "FieldName|Type|Description\n",
    "---------|----|-----------\n",
    "url|string|Url of the webpage to be classified\n",
    "title|string|Title of the article\n",
    "body|string|Body text of article\n",
    "urlid|integer| StumbleUpon's unique identifier for each url\n",
    "boilerplate|json|Boilerplate text\n",
    "alchemy_category|string|Alchemy category (per the publicly available Alchemy API found at www.alchemyapi.com)\n",
    "alchemy_category_score|double|Alchemy category score (per the publicly available Alchemy API found at www.alchemyapi.com)\n",
    "avglinksize| double|Average number of words in each link\n",
    "commonlinkratio_1|double|# of links sharing at least 1 word with 1 other links / # of links\n",
    "commonlinkratio_2|double|# of links sharing at least 1 word with 2 other links / # of links\n",
    "commonlinkratio_3|double|# of links sharing at least 1 word with 3 other links / # of links\n",
    "commonlinkratio_4|double|# of links sharing at least 1 word with 4 other links / # of links\n",
    "compression_ratio|double|Compression achieved on this page via gzip (measure of redundancy)\n",
    "embed_ratio|double|Count of number of <embed> usage\n",
    "frameBased|integer (0 or 1)|A page is frame-based (1) if it has no body markup but have a frameset markup\n",
    "frameTagRatio|double|Ratio of iframe markups over total number of markups\n",
    "hasDomainLink|integer (0 or 1)|True (1) if it contains an <a> with an url with domain\n",
    "html_ratio|double|Ratio of tags vs text in the page\n",
    "image_ratio|double|Ratio of <img> tags vs text in the page\n",
    "is_news|integer (0 or 1) | True (1) if StumbleUpon's news classifier determines that this webpage is news\n",
    "lengthyLinkDomain| integer (0 or 1)|True (1) if at least 3 <a> 's text contains more than 30 alphanumeric characters\n",
    "linkwordscore|double|Percentage of words on the page that are in hyperlink's text\n",
    "news_front_page| integer (0 or 1)|True (1) if StumbleUpon's news classifier determines that this webpage is front-page news\n",
    "non_markup_alphanum_characters|integer| Page's text's number of alphanumeric characters\n",
    "numberOfLinks|integer Number of <a>|markups\n",
    "numwords_in_url| double|Number of words in url\n",
    "parametrizedLinkRatio|double|A link is parametrized if it's url contains parameters or has an attached onClick event\n",
    "spelling_errors_ratio|double|Ratio of words not found in wiki (considered to be a spelling mistake)\n",
    "label|integer (0 or 1)|User-determined label. Either evergreen (1) or non-evergreen (0); available for train.tsv only"
   ]
  },
  {
   "cell_type": "code",
   "execution_count": 1,
   "metadata": {
    "collapsed": true
   },
   "outputs": [],
   "source": [
    "import pandas as pd\n",
    "import json\n",
    "\n",
    "pd.options.display.max_columns=30"
   ]
  },
  {
   "cell_type": "code",
<<<<<<< HEAD
   "execution_count": 4,
=======
   "execution_count": 2,
>>>>>>> upstream/master
   "metadata": {
    "collapsed": false,
    "scrolled": true
   },
   "outputs": [
    {
     "data": {
      "text/html": [
       "<div>\n",
       "<table border=\"1\" class=\"dataframe\">\n",
       "  <thead>\n",
       "    <tr style=\"text-align: right;\">\n",
       "      <th></th>\n",
       "      <th>url</th>\n",
       "      <th>urlid</th>\n",
       "      <th>boilerplate</th>\n",
       "      <th>alchemy_category</th>\n",
       "      <th>alchemy_category_score</th>\n",
       "      <th>avglinksize</th>\n",
       "      <th>commonlinkratio_1</th>\n",
       "      <th>commonlinkratio_2</th>\n",
       "      <th>commonlinkratio_3</th>\n",
       "      <th>commonlinkratio_4</th>\n",
       "      <th>compression_ratio</th>\n",
       "      <th>embed_ratio</th>\n",
       "      <th>framebased</th>\n",
       "      <th>frameTagRatio</th>\n",
       "      <th>hasDomainLink</th>\n",
       "      <th>html_ratio</th>\n",
       "      <th>image_ratio</th>\n",
       "      <th>is_news</th>\n",
       "      <th>lengthyLinkDomain</th>\n",
       "      <th>linkwordscore</th>\n",
       "      <th>news_front_page</th>\n",
       "      <th>non_markup_alphanum_characters</th>\n",
       "      <th>numberOfLinks</th>\n",
       "      <th>numwords_in_url</th>\n",
       "      <th>parametrizedLinkRatio</th>\n",
       "      <th>spelling_errors_ratio</th>\n",
       "      <th>label</th>\n",
       "      <th>title</th>\n",
       "      <th>body</th>\n",
       "    </tr>\n",
       "  </thead>\n",
       "  <tbody>\n",
       "    <tr>\n",
       "      <th>0</th>\n",
       "      <td>http://www.bloomberg.com/news/2010-12-23/ibm-p...</td>\n",
       "      <td>4042</td>\n",
       "      <td>{\"title\":\"IBM Sees Holographic Calls Air Breat...</td>\n",
       "      <td>business</td>\n",
       "      <td>0.789131</td>\n",
       "      <td>2.055556</td>\n",
       "      <td>0.676471</td>\n",
       "      <td>0.205882</td>\n",
       "      <td>0.047059</td>\n",
       "      <td>0.023529</td>\n",
       "      <td>0.443783</td>\n",
       "      <td>0</td>\n",
       "      <td>0</td>\n",
       "      <td>0.090774</td>\n",
       "      <td>0</td>\n",
       "      <td>0.245831</td>\n",
       "      <td>0.003883</td>\n",
       "      <td>1</td>\n",
       "      <td>1</td>\n",
       "      <td>24</td>\n",
       "      <td>0</td>\n",
       "      <td>5424</td>\n",
       "      <td>170</td>\n",
       "      <td>8</td>\n",
       "      <td>0.152941</td>\n",
       "      <td>0.079130</td>\n",
       "      <td>0</td>\n",
       "      <td>IBM Sees Holographic Calls Air Breathing Batte...</td>\n",
       "      <td>A sign stands outside the International Busine...</td>\n",
       "    </tr>\n",
       "    <tr>\n",
       "      <th>1</th>\n",
       "      <td>http://www.popsci.com/technology/article/2012-...</td>\n",
       "      <td>8471</td>\n",
       "      <td>{\"title\":\"The Fully Electronic Futuristic Star...</td>\n",
       "      <td>recreation</td>\n",
       "      <td>0.574147</td>\n",
       "      <td>3.677966</td>\n",
       "      <td>0.508021</td>\n",
       "      <td>0.288770</td>\n",
       "      <td>0.213904</td>\n",
       "      <td>0.144385</td>\n",
       "      <td>0.468649</td>\n",
       "      <td>0</td>\n",
       "      <td>0</td>\n",
       "      <td>0.098707</td>\n",
       "      <td>0</td>\n",
       "      <td>0.203490</td>\n",
       "      <td>0.088652</td>\n",
       "      <td>1</td>\n",
       "      <td>1</td>\n",
       "      <td>40</td>\n",
       "      <td>0</td>\n",
       "      <td>4973</td>\n",
       "      <td>187</td>\n",
       "      <td>9</td>\n",
       "      <td>0.181818</td>\n",
       "      <td>0.125448</td>\n",
       "      <td>1</td>\n",
       "      <td>The Fully Electronic Futuristic Starting Gun T...</td>\n",
       "      <td>And that can be carried on a plane without the...</td>\n",
       "    </tr>\n",
       "    <tr>\n",
       "      <th>2</th>\n",
       "      <td>http://www.menshealth.com/health/flu-fighting-...</td>\n",
       "      <td>1164</td>\n",
       "      <td>{\"title\":\"Fruits that Fight the Flu fruits tha...</td>\n",
       "      <td>health</td>\n",
       "      <td>0.996526</td>\n",
       "      <td>2.382883</td>\n",
       "      <td>0.562016</td>\n",
       "      <td>0.321705</td>\n",
       "      <td>0.120155</td>\n",
       "      <td>0.042636</td>\n",
       "      <td>0.525448</td>\n",
       "      <td>0</td>\n",
       "      <td>0</td>\n",
       "      <td>0.072448</td>\n",
       "      <td>0</td>\n",
       "      <td>0.226402</td>\n",
       "      <td>0.120536</td>\n",
       "      <td>1</td>\n",
       "      <td>1</td>\n",
       "      <td>55</td>\n",
       "      <td>0</td>\n",
       "      <td>2240</td>\n",
       "      <td>258</td>\n",
       "      <td>11</td>\n",
       "      <td>0.166667</td>\n",
       "      <td>0.057613</td>\n",
       "      <td>1</td>\n",
       "      <td>Fruits that Fight the Flu fruits that fight th...</td>\n",
       "      <td>Apples The most popular source of antioxidants...</td>\n",
       "    </tr>\n",
       "    <tr>\n",
       "      <th>3</th>\n",
       "      <td>http://www.dumblittleman.com/2007/12/10-foolpr...</td>\n",
       "      <td>6684</td>\n",
       "      <td>{\"title\":\"10 Foolproof Tips for Better Sleep \"...</td>\n",
       "      <td>health</td>\n",
       "      <td>0.801248</td>\n",
       "      <td>1.543103</td>\n",
       "      <td>0.400000</td>\n",
       "      <td>0.100000</td>\n",
       "      <td>0.016667</td>\n",
       "      <td>0.000000</td>\n",
       "      <td>0.480725</td>\n",
       "      <td>0</td>\n",
       "      <td>0</td>\n",
       "      <td>0.095861</td>\n",
       "      <td>0</td>\n",
       "      <td>0.265656</td>\n",
       "      <td>0.035343</td>\n",
       "      <td>1</td>\n",
       "      <td>0</td>\n",
       "      <td>24</td>\n",
       "      <td>0</td>\n",
       "      <td>2737</td>\n",
       "      <td>120</td>\n",
       "      <td>5</td>\n",
       "      <td>0.041667</td>\n",
       "      <td>0.100858</td>\n",
       "      <td>1</td>\n",
       "      <td>10 Foolproof Tips for Better Sleep</td>\n",
       "      <td>There was a period in my life when I had a lot...</td>\n",
       "    </tr>\n",
       "    <tr>\n",
       "      <th>4</th>\n",
       "      <td>http://bleacherreport.com/articles/1205138-the...</td>\n",
       "      <td>9006</td>\n",
       "      <td>{\"title\":\"The 50 Coolest Jerseys You Didn t Kn...</td>\n",
       "      <td>sports</td>\n",
       "      <td>0.719157</td>\n",
       "      <td>2.676471</td>\n",
       "      <td>0.500000</td>\n",
       "      <td>0.222222</td>\n",
       "      <td>0.123457</td>\n",
       "      <td>0.043210</td>\n",
       "      <td>0.446143</td>\n",
       "      <td>0</td>\n",
       "      <td>0</td>\n",
       "      <td>0.024908</td>\n",
       "      <td>0</td>\n",
       "      <td>0.228887</td>\n",
       "      <td>0.050473</td>\n",
       "      <td>1</td>\n",
       "      <td>1</td>\n",
       "      <td>14</td>\n",
       "      <td>0</td>\n",
       "      <td>12032</td>\n",
       "      <td>162</td>\n",
       "      <td>10</td>\n",
       "      <td>0.098765</td>\n",
       "      <td>0.082569</td>\n",
       "      <td>0</td>\n",
       "      <td>The 50 Coolest Jerseys You Didn t Know Existed...</td>\n",
       "      <td>Jersey sales is a curious business Whether you...</td>\n",
       "    </tr>\n",
<<<<<<< HEAD
       "    <tr>\n",
       "      <th>5</th>\n",
       "      <td>http://www.conveniencemedical.com/genital-herp...</td>\n",
       "      <td>7018</td>\n",
       "      <td>{\"url\":\"conveniencemedical genital herpes home...</td>\n",
       "      <td>?</td>\n",
       "      <td>?</td>\n",
       "      <td>119.000000</td>\n",
       "      <td>0.745455</td>\n",
       "      <td>0.581818</td>\n",
       "      <td>0.290909</td>\n",
       "      <td>0.018182</td>\n",
       "      <td>0.434639</td>\n",
       "      <td>0</td>\n",
       "      <td>0</td>\n",
       "      <td>0.019841</td>\n",
       "      <td>0</td>\n",
       "      <td>0.298300</td>\n",
       "      <td>0.038636</td>\n",
       "      <td>?</td>\n",
       "      <td>0</td>\n",
       "      <td>12</td>\n",
       "      <td>?</td>\n",
       "      <td>4368</td>\n",
       "      <td>55</td>\n",
       "      <td>3</td>\n",
       "      <td>0.054545</td>\n",
       "      <td>0.087356</td>\n",
       "      <td>0</td>\n",
       "      <td>Genital Herpes Treatment</td>\n",
       "      <td>Genital herpes is caused by herpes simplex vir...</td>\n",
       "    </tr>\n",
       "    <tr>\n",
       "      <th>6</th>\n",
       "      <td>http://gofashionlane.blogspot.tw/2012/06/ameri...</td>\n",
       "      <td>8685</td>\n",
       "      <td>{\"title\":\"fashion lane American Wild Child \",\"...</td>\n",
       "      <td>arts_entertainment</td>\n",
       "      <td>0.22111</td>\n",
       "      <td>0.773810</td>\n",
       "      <td>0.215054</td>\n",
       "      <td>0.053763</td>\n",
       "      <td>0.043011</td>\n",
       "      <td>0.043011</td>\n",
       "      <td>0.579596</td>\n",
       "      <td>0</td>\n",
       "      <td>0</td>\n",
       "      <td>0.039568</td>\n",
       "      <td>0</td>\n",
       "      <td>0.218978</td>\n",
       "      <td>0.311377</td>\n",
       "      <td>1</td>\n",
       "      <td>0</td>\n",
       "      <td>21</td>\n",
       "      <td>0</td>\n",
       "      <td>1287</td>\n",
       "      <td>93</td>\n",
       "      <td>3</td>\n",
       "      <td>0.548387</td>\n",
       "      <td>0.064327</td>\n",
       "      <td>1</td>\n",
       "      <td>fashion lane American Wild Child</td>\n",
       "      <td>Our favorite summer holiday is just around the...</td>\n",
       "    </tr>\n",
       "    <tr>\n",
       "      <th>7</th>\n",
       "      <td>http://www.insidershealth.com/article/racing_f...</td>\n",
       "      <td>3402</td>\n",
       "      <td>{\"url\":\"insidershealth article racing for reco...</td>\n",
       "      <td>?</td>\n",
       "      <td>?</td>\n",
       "      <td>1.883333</td>\n",
       "      <td>0.719697</td>\n",
       "      <td>0.265152</td>\n",
       "      <td>0.113636</td>\n",
       "      <td>0.015152</td>\n",
       "      <td>0.499348</td>\n",
       "      <td>0</td>\n",
       "      <td>0</td>\n",
       "      <td>0.026616</td>\n",
       "      <td>0</td>\n",
       "      <td>0.173746</td>\n",
       "      <td>0.025830</td>\n",
       "      <td>?</td>\n",
       "      <td>0</td>\n",
       "      <td>5</td>\n",
       "      <td>?</td>\n",
       "      <td>27656</td>\n",
       "      <td>132</td>\n",
       "      <td>4</td>\n",
       "      <td>0.068182</td>\n",
       "      <td>0.148551</td>\n",
       "      <td>0</td>\n",
       "      <td>Racing For Recovery by Dean Johnson racing for...</td>\n",
       "      <td>Racing For Recovery is the growing idea that d...</td>\n",
       "    </tr>\n",
       "    <tr>\n",
       "      <th>8</th>\n",
       "      <td>http://www.valetmag.com/the-handbook/features/...</td>\n",
       "      <td>477</td>\n",
       "      <td>{\"title\":\"Valet The Handbook 31 Days 31 days\",...</td>\n",
       "      <td>?</td>\n",
       "      <td>?</td>\n",
       "      <td>0.471503</td>\n",
       "      <td>0.190722</td>\n",
       "      <td>0.036082</td>\n",
       "      <td>0.000000</td>\n",
       "      <td>0.000000</td>\n",
       "      <td>0.383199</td>\n",
       "      <td>0</td>\n",
       "      <td>0</td>\n",
       "      <td>0.021705</td>\n",
       "      <td>0</td>\n",
       "      <td>0.114962</td>\n",
       "      <td>1.136646</td>\n",
       "      <td>1</td>\n",
       "      <td>0</td>\n",
       "      <td>17</td>\n",
       "      <td>0</td>\n",
       "      <td>2471</td>\n",
       "      <td>194</td>\n",
       "      <td>7</td>\n",
       "      <td>0.644330</td>\n",
       "      <td>0.125000</td>\n",
       "      <td>1</td>\n",
       "      <td>Valet The Handbook 31 Days 31 days</td>\n",
       "      <td>Resolutions are for suckers Instead of swearin...</td>\n",
       "    </tr>\n",
       "    <tr>\n",
       "      <th>9</th>\n",
       "      <td>http://www.howsweeteats.com/2010/03/24/cookies...</td>\n",
       "      <td>6731</td>\n",
       "      <td>{\"url\":\"howsweeteats 2010 03 24 cookies and cr...</td>\n",
       "      <td>?</td>\n",
       "      <td>?</td>\n",
       "      <td>2.410112</td>\n",
       "      <td>0.469325</td>\n",
       "      <td>0.101227</td>\n",
       "      <td>0.018405</td>\n",
       "      <td>0.003067</td>\n",
       "      <td>0.465859</td>\n",
       "      <td>0</td>\n",
       "      <td>0</td>\n",
       "      <td>0.012000</td>\n",
       "      <td>0</td>\n",
       "      <td>0.205117</td>\n",
       "      <td>0.206262</td>\n",
       "      <td>?</td>\n",
       "      <td>1</td>\n",
       "      <td>14</td>\n",
       "      <td>?</td>\n",
       "      <td>11459</td>\n",
       "      <td>326</td>\n",
       "      <td>4</td>\n",
       "      <td>0.236196</td>\n",
       "      <td>0.094412</td>\n",
       "      <td>1</td>\n",
       "      <td>Cookies and Cream Brownies How Sweet It Is</td>\n",
       "      <td>More brownies It seems that I can t get throug...</td>\n",
       "    </tr>\n",
=======
>>>>>>> upstream/master
       "  </tbody>\n",
       "</table>\n",
       "</div>"
      ],
      "text/plain": [
       "                                                 url  urlid  \\\n",
       "0  http://www.bloomberg.com/news/2010-12-23/ibm-p...   4042   \n",
       "1  http://www.popsci.com/technology/article/2012-...   8471   \n",
       "2  http://www.menshealth.com/health/flu-fighting-...   1164   \n",
       "3  http://www.dumblittleman.com/2007/12/10-foolpr...   6684   \n",
       "4  http://bleacherreport.com/articles/1205138-the...   9006   \n",
<<<<<<< HEAD
       "5  http://www.conveniencemedical.com/genital-herp...   7018   \n",
       "6  http://gofashionlane.blogspot.tw/2012/06/ameri...   8685   \n",
       "7  http://www.insidershealth.com/article/racing_f...   3402   \n",
       "8  http://www.valetmag.com/the-handbook/features/...    477   \n",
       "9  http://www.howsweeteats.com/2010/03/24/cookies...   6731   \n",
       "\n",
       "                                         boilerplate    alchemy_category  \\\n",
       "0  {\"title\":\"IBM Sees Holographic Calls Air Breat...            business   \n",
       "1  {\"title\":\"The Fully Electronic Futuristic Star...          recreation   \n",
       "2  {\"title\":\"Fruits that Fight the Flu fruits tha...              health   \n",
       "3  {\"title\":\"10 Foolproof Tips for Better Sleep \"...              health   \n",
       "4  {\"title\":\"The 50 Coolest Jerseys You Didn t Kn...              sports   \n",
       "5  {\"url\":\"conveniencemedical genital herpes home...                   ?   \n",
       "6  {\"title\":\"fashion lane American Wild Child \",\"...  arts_entertainment   \n",
       "7  {\"url\":\"insidershealth article racing for reco...                   ?   \n",
       "8  {\"title\":\"Valet The Handbook 31 Days 31 days\",...                   ?   \n",
       "9  {\"url\":\"howsweeteats 2010 03 24 cookies and cr...                   ?   \n",
=======
       "\n",
       "                                         boilerplate alchemy_category  \\\n",
       "0  {\"title\":\"IBM Sees Holographic Calls Air Breat...         business   \n",
       "1  {\"title\":\"The Fully Electronic Futuristic Star...       recreation   \n",
       "2  {\"title\":\"Fruits that Fight the Flu fruits tha...           health   \n",
       "3  {\"title\":\"10 Foolproof Tips for Better Sleep \"...           health   \n",
       "4  {\"title\":\"The 50 Coolest Jerseys You Didn t Kn...           sports   \n",
>>>>>>> upstream/master
       "\n",
       "  alchemy_category_score  avglinksize  commonlinkratio_1  commonlinkratio_2  \\\n",
       "0               0.789131     2.055556           0.676471           0.205882   \n",
       "1               0.574147     3.677966           0.508021           0.288770   \n",
       "2               0.996526     2.382883           0.562016           0.321705   \n",
       "3               0.801248     1.543103           0.400000           0.100000   \n",
       "4               0.719157     2.676471           0.500000           0.222222   \n",
<<<<<<< HEAD
       "5                      ?   119.000000           0.745455           0.581818   \n",
       "6                0.22111     0.773810           0.215054           0.053763   \n",
       "7                      ?     1.883333           0.719697           0.265152   \n",
       "8                      ?     0.471503           0.190722           0.036082   \n",
       "9                      ?     2.410112           0.469325           0.101227   \n",
=======
>>>>>>> upstream/master
       "\n",
       "   commonlinkratio_3  commonlinkratio_4  compression_ratio  embed_ratio  \\\n",
       "0           0.047059           0.023529           0.443783            0   \n",
       "1           0.213904           0.144385           0.468649            0   \n",
       "2           0.120155           0.042636           0.525448            0   \n",
       "3           0.016667           0.000000           0.480725            0   \n",
       "4           0.123457           0.043210           0.446143            0   \n",
<<<<<<< HEAD
       "5           0.290909           0.018182           0.434639            0   \n",
       "6           0.043011           0.043011           0.579596            0   \n",
       "7           0.113636           0.015152           0.499348            0   \n",
       "8           0.000000           0.000000           0.383199            0   \n",
       "9           0.018405           0.003067           0.465859            0   \n",
=======
>>>>>>> upstream/master
       "\n",
       "   framebased  frameTagRatio  hasDomainLink  html_ratio  image_ratio is_news  \\\n",
       "0           0       0.090774              0    0.245831     0.003883       1   \n",
       "1           0       0.098707              0    0.203490     0.088652       1   \n",
       "2           0       0.072448              0    0.226402     0.120536       1   \n",
       "3           0       0.095861              0    0.265656     0.035343       1   \n",
       "4           0       0.024908              0    0.228887     0.050473       1   \n",
<<<<<<< HEAD
       "5           0       0.019841              0    0.298300     0.038636       ?   \n",
       "6           0       0.039568              0    0.218978     0.311377       1   \n",
       "7           0       0.026616              0    0.173746     0.025830       ?   \n",
       "8           0       0.021705              0    0.114962     1.136646       1   \n",
       "9           0       0.012000              0    0.205117     0.206262       ?   \n",
=======
>>>>>>> upstream/master
       "\n",
       "   lengthyLinkDomain  linkwordscore news_front_page  \\\n",
       "0                  1             24               0   \n",
       "1                  1             40               0   \n",
       "2                  1             55               0   \n",
       "3                  0             24               0   \n",
       "4                  1             14               0   \n",
<<<<<<< HEAD
       "5                  0             12               ?   \n",
       "6                  0             21               0   \n",
       "7                  0              5               ?   \n",
       "8                  0             17               0   \n",
       "9                  1             14               ?   \n",
=======
>>>>>>> upstream/master
       "\n",
       "   non_markup_alphanum_characters  numberOfLinks  numwords_in_url  \\\n",
       "0                            5424            170                8   \n",
       "1                            4973            187                9   \n",
       "2                            2240            258               11   \n",
       "3                            2737            120                5   \n",
       "4                           12032            162               10   \n",
<<<<<<< HEAD
       "5                            4368             55                3   \n",
       "6                            1287             93                3   \n",
       "7                           27656            132                4   \n",
       "8                            2471            194                7   \n",
       "9                           11459            326                4   \n",
=======
>>>>>>> upstream/master
       "\n",
       "   parametrizedLinkRatio  spelling_errors_ratio  label  \\\n",
       "0               0.152941               0.079130      0   \n",
       "1               0.181818               0.125448      1   \n",
       "2               0.166667               0.057613      1   \n",
       "3               0.041667               0.100858      1   \n",
       "4               0.098765               0.082569      0   \n",
<<<<<<< HEAD
       "5               0.054545               0.087356      0   \n",
       "6               0.548387               0.064327      1   \n",
       "7               0.068182               0.148551      0   \n",
       "8               0.644330               0.125000      1   \n",
       "9               0.236196               0.094412      1   \n",
=======
>>>>>>> upstream/master
       "\n",
       "                                               title  \\\n",
       "0  IBM Sees Holographic Calls Air Breathing Batte...   \n",
       "1  The Fully Electronic Futuristic Starting Gun T...   \n",
       "2  Fruits that Fight the Flu fruits that fight th...   \n",
       "3                10 Foolproof Tips for Better Sleep    \n",
       "4  The 50 Coolest Jerseys You Didn t Know Existed...   \n",
<<<<<<< HEAD
       "5                          Genital Herpes Treatment    \n",
       "6                  fashion lane American Wild Child    \n",
       "7  Racing For Recovery by Dean Johnson racing for...   \n",
       "8                 Valet The Handbook 31 Days 31 days   \n",
       "9        Cookies and Cream Brownies How Sweet It Is    \n",
=======
>>>>>>> upstream/master
       "\n",
       "                                                body  \n",
       "0  A sign stands outside the International Busine...  \n",
       "1  And that can be carried on a plane without the...  \n",
       "2  Apples The most popular source of antioxidants...  \n",
       "3  There was a period in my life when I had a lot...  \n",
<<<<<<< HEAD
       "4  Jersey sales is a curious business Whether you...  \n",
       "5  Genital herpes is caused by herpes simplex vir...  \n",
       "6  Our favorite summer holiday is just around the...  \n",
       "7  Racing For Recovery is the growing idea that d...  \n",
       "8  Resolutions are for suckers Instead of swearin...  \n",
       "9  More brownies It seems that I can t get throug...  "
      ]
     },
     "execution_count": 4,
=======
       "4  Jersey sales is a curious business Whether you...  "
      ]
     },
     "execution_count": 2,
>>>>>>> upstream/master
     "metadata": {},
     "output_type": "execute_result"
    }
   ],
   "source": [
    "# Load up the data\n",
    "\n",
    "data = pd.read_csv(\"stumbleupon.tsv\", sep='\\t')\n",
    "data['title'] = data.boilerplate.map(lambda x: json.loads(x).get('title', ''))\n",
    "data['body'] = data.boilerplate.map(lambda x: json.loads(x).get('body', ''))\n",
    "data.head(n=10)"
   ]
  },
  {
   "cell_type": "markdown",
   "metadata": {},
   "source": [
    "## Predicting \"Greenness\" Of Content\n",
    "\n",
    "### What are 'evergreen' sites?\n",
    "\n",
    "> #### Evergreen sites are those that are always relevant.  As opposed to breaking news or current events, evergreen websites are relevant no matter the time or season. \n",
    "\n",
    "> #### A sample of URLs is below, where label = 1 are 'evergreen' websites"
   ]
  },
  {
   "cell_type": "code",
   "execution_count": 3,
   "metadata": {
    "collapsed": false
   },
   "outputs": [
    {
     "data": {
      "text/html": [
       "<div>\n",
       "<table border=\"1\" class=\"dataframe\">\n",
       "  <thead>\n",
       "    <tr style=\"text-align: right;\">\n",
       "      <th></th>\n",
       "      <th>url</th>\n",
       "      <th>label</th>\n",
       "    </tr>\n",
       "  </thead>\n",
       "  <tbody>\n",
       "    <tr>\n",
       "      <th>0</th>\n",
       "      <td>http://www.bloomberg.com/news/2010-12-23/ibm-p...</td>\n",
       "      <td>0</td>\n",
       "    </tr>\n",
       "    <tr>\n",
       "      <th>1</th>\n",
       "      <td>http://www.popsci.com/technology/article/2012-...</td>\n",
       "      <td>1</td>\n",
       "    </tr>\n",
       "    <tr>\n",
       "      <th>2</th>\n",
       "      <td>http://www.menshealth.com/health/flu-fighting-...</td>\n",
       "      <td>1</td>\n",
       "    </tr>\n",
       "    <tr>\n",
       "      <th>3</th>\n",
       "      <td>http://www.dumblittleman.com/2007/12/10-foolpr...</td>\n",
       "      <td>1</td>\n",
       "    </tr>\n",
       "    <tr>\n",
       "      <th>4</th>\n",
       "      <td>http://bleacherreport.com/articles/1205138-the...</td>\n",
       "      <td>0</td>\n",
       "    </tr>\n",
       "  </tbody>\n",
       "</table>\n",
       "</div>"
      ],
      "text/plain": [
       "                                                 url  label\n",
       "0  http://www.bloomberg.com/news/2010-12-23/ibm-p...      0\n",
       "1  http://www.popsci.com/technology/article/2012-...      1\n",
       "2  http://www.menshealth.com/health/flu-fighting-...      1\n",
       "3  http://www.dumblittleman.com/2007/12/10-foolpr...      1\n",
       "4  http://bleacherreport.com/articles/1205138-the...      0"
      ]
     },
     "execution_count": 3,
     "metadata": {},
     "output_type": "execute_result"
    }
   ],
   "source": [
    "data[['url', 'label']].head()"
   ]
  },
  {
   "cell_type": "markdown",
   "metadata": {
    "collapsed": true
   },
   "source": [
    "### Exercises to Get Started"
   ]
  },
  {
   "cell_type": "markdown",
   "metadata": {},
   "source": [
    " ### Exercise: 1. In a group: Brainstorm 3 - 5 features you could develop that would be useful for predicting evergreen websites.\n",
    " ###  Exercise: 2. After looking at the dataset, can you model or quantify any of the characteristics you wanted?\n",
    "- I.E. If you believe high-image content websites are likely to be evergreen, how can you build a feature that represents that?\n",
    "- I.E. If you believe weather content is likely NOT to be evergreen, how might you build a feature that represents that?\n",
    "\n",
    "### Split up and develop 1-3 of the those features independently."
   ]
  },
  {
   "cell_type": "code",
   "execution_count": 17,
   "metadata": {
    "collapsed": false
   },
   "outputs": [
    {
     "ename": "SyntaxError",
     "evalue": "invalid syntax (<ipython-input-17-a93fa537d3ce>, line 1)",
     "output_type": "error",
     "traceback": [
      "\u001b[0;36m  File \u001b[0;32m\"<ipython-input-17-a93fa537d3ce>\"\u001b[0;36m, line \u001b[0;32m1\u001b[0m\n\u001b[0;31m    pd.get_dummies[]\u001b[0m\n\u001b[0m                   ^\u001b[0m\n\u001b[0;31mSyntaxError\u001b[0m\u001b[0;31m:\u001b[0m invalid syntax\n"
     ]
    }
   ],
   "source": [
    "# pd.get_dummies[]\n",
    "# image_ratio\n",
    "# alchemy_category\n",
    "# linkwordscore\n",
    "\n",
    "# data.groupby(['image_ratio']).mean()\n"
   ]
  },
  {
   "cell_type": "markdown",
   "metadata": {},
   "source": [
    "### Exercise: 3. Does being a news site affect evergreeness? \n",
    "Compute or plot the percentage of news related evergreen sites."
   ]
  },
  {
   "cell_type": "code",
<<<<<<< HEAD
   "execution_count": 25,
=======
   "execution_count": 4,
>>>>>>> upstream/master
   "metadata": {
    "collapsed": false,
    "scrolled": true
   },
   "outputs": [
    {
     "data": {
<<<<<<< HEAD
      "text/plain": [
       "<seaborn.axisgrid.FacetGrid at 0x111b11dd0>"
      ]
     },
     "execution_count": 25,
     "metadata": {},
     "output_type": "execute_result"
    },
    {
     "data": {
      "image/png": "iVBORw0KGgoAAAANSUhEUgAAARkAAAEZCAYAAACjEFEXAAAABHNCSVQICAgIfAhkiAAAAAlwSFlz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\n",
      "text/plain": [
       "<matplotlib.figure.Figure at 0x113407e90>"
      ]
     },
     "metadata": {},
     "output_type": "display_data"
    }
   ],
   "source": [
    "news_by_evergreen = data.groupby(['is_news']).mean()\n",
    "news_by_evergreen[['label']]\n",
    "\n",
    "import seaborn as sb\n",
    "%matplotlib inline\n",
    "\n",
    "sb.factorplot(x='is_news',y='label',kid='bar', data=data)"
=======
      "text/html": [
       "<div>\n",
       "<table border=\"1\" class=\"dataframe\">\n",
       "  <thead>\n",
       "    <tr style=\"text-align: right;\">\n",
       "      <th></th>\n",
       "      <th>label</th>\n",
       "    </tr>\n",
       "    <tr>\n",
       "      <th>is_news</th>\n",
       "      <th></th>\n",
       "    </tr>\n",
       "  </thead>\n",
       "  <tbody>\n",
       "    <tr>\n",
       "      <th>1</th>\n",
       "      <td>0.516916</td>\n",
       "    </tr>\n",
       "    <tr>\n",
       "      <th>?</th>\n",
       "      <td>0.507562</td>\n",
       "    </tr>\n",
       "  </tbody>\n",
       "</table>\n",
       "</div>"
      ],
      "text/plain": [
       "            label\n",
       "is_news          \n",
       "1        0.516916\n",
       "?        0.507562"
      ]
     },
     "execution_count": 4,
     "metadata": {},
     "output_type": "execute_result"
    }
   ],
   "source": [
    "import seaborn as sb\n",
    "%matplotlib inline\n",
    "\n",
    "# Option 1: Find out P ( evergreen | is_news = 1) vs P ( evergreen | is_news = ?)\n",
    "\n",
    "data.groupby(['is_news'])[['label']].mean()\n",
    "\n",
    "##  OR\n",
    "\n",
    "# import seaborn as sb\n",
    "# %matplotlib inline\n",
    "\n",
    "# sb.factorplot(x='is_news', \n",
    "#               y='label',\n",
    "#               kind='bar',\n",
    "#               data = data)\n"
>>>>>>> upstream/master
   ]
  },
  {
   "cell_type": "markdown",
   "metadata": {},
   "source": [
    "### Exercise: 4. Does category in general affect evergreeness? \n",
    "Plot the rate of evergreen sites for all Alchemy categories."
   ]
  },
  {
   "cell_type": "code",
<<<<<<< HEAD
   "execution_count": 27,
=======
   "execution_count": 5,
>>>>>>> upstream/master
   "metadata": {
    "collapsed": false
   },
   "outputs": [
    {
<<<<<<< HEAD
     "data": {
      "text/html": [
       "<div>\n",
       "<table border=\"1\" class=\"dataframe\">\n",
       "  <thead>\n",
       "    <tr style=\"text-align: right;\">\n",
       "      <th></th>\n",
       "      <th>label</th>\n",
       "    </tr>\n",
       "    <tr>\n",
       "      <th>alchemy_category</th>\n",
       "      <th></th>\n",
       "    </tr>\n",
       "  </thead>\n",
       "  <tbody>\n",
       "    <tr>\n",
       "      <th>?</th>\n",
       "      <td>0.502135</td>\n",
       "    </tr>\n",
       "    <tr>\n",
       "      <th>arts_entertainment</th>\n",
       "      <td>0.371945</td>\n",
       "    </tr>\n",
       "    <tr>\n",
       "      <th>business</th>\n",
       "      <td>0.711364</td>\n",
       "    </tr>\n",
       "    <tr>\n",
       "      <th>computer_internet</th>\n",
       "      <td>0.246622</td>\n",
       "    </tr>\n",
       "    <tr>\n",
       "      <th>culture_politics</th>\n",
       "      <td>0.457726</td>\n",
       "    </tr>\n",
       "    <tr>\n",
       "      <th>gaming</th>\n",
       "      <td>0.368421</td>\n",
       "    </tr>\n",
       "    <tr>\n",
       "      <th>health</th>\n",
       "      <td>0.573123</td>\n",
       "    </tr>\n",
       "    <tr>\n",
       "      <th>law_crime</th>\n",
       "      <td>0.419355</td>\n",
       "    </tr>\n",
       "    <tr>\n",
       "      <th>recreation</th>\n",
       "      <td>0.684296</td>\n",
       "    </tr>\n",
       "    <tr>\n",
       "      <th>religion</th>\n",
       "      <td>0.416667</td>\n",
       "    </tr>\n",
       "    <tr>\n",
       "      <th>science_technology</th>\n",
       "      <td>0.456747</td>\n",
       "    </tr>\n",
       "    <tr>\n",
       "      <th>sports</th>\n",
       "      <td>0.205263</td>\n",
       "    </tr>\n",
       "    <tr>\n",
       "      <th>unknown</th>\n",
       "      <td>0.333333</td>\n",
       "    </tr>\n",
       "    <tr>\n",
       "      <th>weather</th>\n",
       "      <td>0.000000</td>\n",
       "    </tr>\n",
       "  </tbody>\n",
       "</table>\n",
       "</div>"
      ],
      "text/plain": [
       "                       label\n",
       "alchemy_category            \n",
       "?                   0.502135\n",
       "arts_entertainment  0.371945\n",
       "business            0.711364\n",
       "computer_internet   0.246622\n",
       "culture_politics    0.457726\n",
       "gaming              0.368421\n",
       "health              0.573123\n",
       "law_crime           0.419355\n",
       "recreation          0.684296\n",
       "religion            0.416667\n",
       "science_technology  0.456747\n",
       "sports              0.205263\n",
       "unknown             0.333333\n",
       "weather             0.000000"
      ]
     },
     "execution_count": 27,
     "metadata": {},
     "output_type": "execute_result"
    }
   ],
   "source": [
    "alchemy_by_evergreen = data.groupby(['alchemy_category']).mean()\n",
    "alchemy_by_evergreen[['label']]"
=======
     "name": "stdout",
     "output_type": "stream",
     "text": [
      "                       label\n",
      "alchemy_category            \n",
      "?                   0.502135\n",
      "arts_entertainment  0.371945\n",
      "business            0.711364\n",
      "computer_internet   0.246622\n",
      "culture_politics    0.457726\n",
      "gaming              0.368421\n",
      "health              0.573123\n",
      "law_crime           0.419355\n",
      "recreation          0.684296\n",
      "religion            0.416667\n",
      "science_technology  0.456747\n",
      "sports              0.205263\n",
      "unknown             0.333333\n",
      "weather             0.000000\n"
     ]
    },
    {
     "data": {
      "text/plain": [
       "<seaborn.axisgrid.FacetGrid at 0x10ebdbdd0>"
      ]
     },
     "execution_count": 5,
     "metadata": {},
     "output_type": "execute_result"
    },
    {
     "data": {
      "image/png": "iVBORw0KGgoAAAANSUhEUgAAAjkAAAJ1CAYAAAA7ceF6AAAABHNCSVQICAgIfAhkiAAAAAlwSFlz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\nOAAAAABJRU5ErkJggg==\n",
      "text/plain": [
       "<matplotlib.figure.Figure at 0x10ebdbc10>"
      ]
     },
     "metadata": {},
     "output_type": "display_data"
    }
   ],
   "source": [
    "print data.groupby(['alchemy_category'])[['label']].mean()\n",
    "\n",
    "\n",
    "##  OR\n",
    "\n",
    "import seaborn as sb\n",
    "%matplotlib inline\n",
    "\n",
    "p = sb.factorplot(x='alchemy_category', \n",
    "              y='label',\n",
    "              kind='bar',\n",
    "              data = data,\n",
    "              size = 8\n",
    "            )\n",
    "p.set_xticklabels(rotation=45, horizontalalignment='right')"
>>>>>>> upstream/master
   ]
  },
  {
   "cell_type": "markdown",
   "metadata": {},
   "source": [
    "### Exercise: 5. How many articles are there per category?"
   ]
  },
  {
   "cell_type": "code",
<<<<<<< HEAD
   "execution_count": 47,
=======
   "execution_count": 7,
>>>>>>> upstream/master
   "metadata": {
    "collapsed": false
   },
   "outputs": [
    {
<<<<<<< HEAD
     "data": {
      "text/html": [
       "<div>\n",
       "<table border=\"1\" class=\"dataframe\">\n",
       "  <thead>\n",
       "    <tr style=\"text-align: right;\">\n",
       "      <th></th>\n",
       "      <th>url</th>\n",
       "      <th>urlid</th>\n",
       "      <th>boilerplate</th>\n",
       "      <th>alchemy_category_score</th>\n",
       "      <th>avglinksize</th>\n",
       "      <th>commonlinkratio_1</th>\n",
       "      <th>commonlinkratio_2</th>\n",
       "      <th>commonlinkratio_3</th>\n",
       "      <th>commonlinkratio_4</th>\n",
       "      <th>compression_ratio</th>\n",
       "      <th>embed_ratio</th>\n",
       "      <th>framebased</th>\n",
       "      <th>frameTagRatio</th>\n",
       "      <th>hasDomainLink</th>\n",
       "      <th>html_ratio</th>\n",
       "      <th>image_ratio</th>\n",
       "      <th>is_news</th>\n",
       "      <th>lengthyLinkDomain</th>\n",
       "      <th>linkwordscore</th>\n",
       "      <th>news_front_page</th>\n",
       "      <th>non_markup_alphanum_characters</th>\n",
       "      <th>numberOfLinks</th>\n",
       "      <th>numwords_in_url</th>\n",
       "      <th>parametrizedLinkRatio</th>\n",
       "      <th>spelling_errors_ratio</th>\n",
       "      <th>label</th>\n",
       "      <th>title</th>\n",
       "      <th>body</th>\n",
       "      <th>recipe</th>\n",
       "    </tr>\n",
       "    <tr>\n",
       "      <th>alchemy_category</th>\n",
       "      <th></th>\n",
       "      <th></th>\n",
       "      <th></th>\n",
       "      <th></th>\n",
       "      <th></th>\n",
       "      <th></th>\n",
       "      <th></th>\n",
       "      <th></th>\n",
       "      <th></th>\n",
       "      <th></th>\n",
       "      <th></th>\n",
       "      <th></th>\n",
       "      <th></th>\n",
       "      <th></th>\n",
       "      <th></th>\n",
       "      <th></th>\n",
       "      <th></th>\n",
       "      <th></th>\n",
       "      <th></th>\n",
       "      <th></th>\n",
       "      <th></th>\n",
       "      <th></th>\n",
       "      <th></th>\n",
       "      <th></th>\n",
       "      <th></th>\n",
       "      <th></th>\n",
       "      <th></th>\n",
       "      <th></th>\n",
       "      <th></th>\n",
       "    </tr>\n",
       "  </thead>\n",
       "  <tbody>\n",
       "    <tr>\n",
       "      <th>?</th>\n",
       "      <td>2342</td>\n",
       "      <td>2342</td>\n",
       "      <td>2342</td>\n",
       "      <td>2342</td>\n",
       "      <td>2342</td>\n",
       "      <td>2342</td>\n",
       "      <td>2342</td>\n",
       "      <td>2342</td>\n",
       "      <td>2342</td>\n",
       "      <td>2342</td>\n",
       "      <td>2342</td>\n",
       "      <td>2342</td>\n",
       "      <td>2342</td>\n",
       "      <td>2342</td>\n",
       "      <td>2342</td>\n",
       "      <td>2342</td>\n",
       "      <td>2342</td>\n",
       "      <td>2342</td>\n",
       "      <td>2342</td>\n",
       "      <td>2342</td>\n",
       "      <td>2342</td>\n",
       "      <td>2342</td>\n",
       "      <td>2342</td>\n",
       "      <td>2342</td>\n",
       "      <td>2342</td>\n",
       "      <td>2342</td>\n",
       "      <td>2338</td>\n",
       "      <td>2318</td>\n",
       "      <td>2338</td>\n",
       "    </tr>\n",
       "    <tr>\n",
       "      <th>arts_entertainment</th>\n",
       "      <td>941</td>\n",
       "      <td>941</td>\n",
       "      <td>941</td>\n",
       "      <td>941</td>\n",
       "      <td>941</td>\n",
       "      <td>941</td>\n",
       "      <td>941</td>\n",
       "      <td>941</td>\n",
       "      <td>941</td>\n",
       "      <td>941</td>\n",
       "      <td>941</td>\n",
       "      <td>941</td>\n",
       "      <td>941</td>\n",
       "      <td>941</td>\n",
       "      <td>941</td>\n",
       "      <td>941</td>\n",
       "      <td>941</td>\n",
       "      <td>941</td>\n",
       "      <td>941</td>\n",
       "      <td>941</td>\n",
       "      <td>941</td>\n",
       "      <td>941</td>\n",
       "      <td>941</td>\n",
       "      <td>941</td>\n",
       "      <td>941</td>\n",
       "      <td>941</td>\n",
       "      <td>940</td>\n",
       "      <td>934</td>\n",
       "      <td>940</td>\n",
       "    </tr>\n",
       "    <tr>\n",
       "      <th>business</th>\n",
       "      <td>880</td>\n",
       "      <td>880</td>\n",
       "      <td>880</td>\n",
       "      <td>880</td>\n",
       "      <td>880</td>\n",
       "      <td>880</td>\n",
       "      <td>880</td>\n",
       "      <td>880</td>\n",
       "      <td>880</td>\n",
       "      <td>880</td>\n",
       "      <td>880</td>\n",
       "      <td>880</td>\n",
       "      <td>880</td>\n",
       "      <td>880</td>\n",
       "      <td>880</td>\n",
       "      <td>880</td>\n",
       "      <td>880</td>\n",
       "      <td>880</td>\n",
       "      <td>880</td>\n",
       "      <td>880</td>\n",
       "      <td>880</td>\n",
       "      <td>880</td>\n",
       "      <td>880</td>\n",
       "      <td>880</td>\n",
       "      <td>880</td>\n",
       "      <td>880</td>\n",
       "      <td>879</td>\n",
       "      <td>868</td>\n",
       "      <td>879</td>\n",
       "    </tr>\n",
       "    <tr>\n",
       "      <th>computer_internet</th>\n",
       "      <td>296</td>\n",
       "      <td>296</td>\n",
       "      <td>296</td>\n",
       "      <td>296</td>\n",
       "      <td>296</td>\n",
       "      <td>296</td>\n",
       "      <td>296</td>\n",
       "      <td>296</td>\n",
       "      <td>296</td>\n",
       "      <td>296</td>\n",
       "      <td>296</td>\n",
       "      <td>296</td>\n",
       "      <td>296</td>\n",
       "      <td>296</td>\n",
       "      <td>296</td>\n",
       "      <td>296</td>\n",
       "      <td>296</td>\n",
       "      <td>296</td>\n",
       "      <td>296</td>\n",
       "      <td>296</td>\n",
       "      <td>296</td>\n",
       "      <td>296</td>\n",
       "      <td>296</td>\n",
       "      <td>296</td>\n",
       "      <td>296</td>\n",
       "      <td>296</td>\n",
       "      <td>296</td>\n",
       "      <td>295</td>\n",
       "      <td>296</td>\n",
       "    </tr>\n",
       "    <tr>\n",
       "      <th>culture_politics</th>\n",
       "      <td>343</td>\n",
       "      <td>343</td>\n",
       "      <td>343</td>\n",
       "      <td>343</td>\n",
       "      <td>343</td>\n",
       "      <td>343</td>\n",
       "      <td>343</td>\n",
       "      <td>343</td>\n",
       "      <td>343</td>\n",
       "      <td>343</td>\n",
       "      <td>343</td>\n",
       "      <td>343</td>\n",
       "      <td>343</td>\n",
       "      <td>343</td>\n",
       "      <td>343</td>\n",
       "      <td>343</td>\n",
       "      <td>343</td>\n",
       "      <td>343</td>\n",
       "      <td>343</td>\n",
       "      <td>343</td>\n",
       "      <td>343</td>\n",
       "      <td>343</td>\n",
       "      <td>343</td>\n",
       "      <td>343</td>\n",
       "      <td>343</td>\n",
       "      <td>343</td>\n",
       "      <td>342</td>\n",
       "      <td>339</td>\n",
       "      <td>342</td>\n",
       "    </tr>\n",
       "    <tr>\n",
       "      <th>gaming</th>\n",
       "      <td>76</td>\n",
       "      <td>76</td>\n",
       "      <td>76</td>\n",
       "      <td>76</td>\n",
       "      <td>76</td>\n",
       "      <td>76</td>\n",
       "      <td>76</td>\n",
       "      <td>76</td>\n",
       "      <td>76</td>\n",
       "      <td>76</td>\n",
       "      <td>76</td>\n",
       "      <td>76</td>\n",
       "      <td>76</td>\n",
       "      <td>76</td>\n",
       "      <td>76</td>\n",
       "      <td>76</td>\n",
       "      <td>76</td>\n",
       "      <td>76</td>\n",
       "      <td>76</td>\n",
       "      <td>76</td>\n",
       "      <td>76</td>\n",
       "      <td>76</td>\n",
       "      <td>76</td>\n",
       "      <td>76</td>\n",
       "      <td>76</td>\n",
       "      <td>76</td>\n",
       "      <td>76</td>\n",
       "      <td>76</td>\n",
       "      <td>76</td>\n",
       "    </tr>\n",
       "    <tr>\n",
       "      <th>health</th>\n",
       "      <td>506</td>\n",
       "      <td>506</td>\n",
       "      <td>506</td>\n",
       "      <td>506</td>\n",
       "      <td>506</td>\n",
       "      <td>506</td>\n",
       "      <td>506</td>\n",
       "      <td>506</td>\n",
       "      <td>506</td>\n",
       "      <td>506</td>\n",
       "      <td>506</td>\n",
       "      <td>506</td>\n",
       "      <td>506</td>\n",
       "      <td>506</td>\n",
       "      <td>506</td>\n",
       "      <td>506</td>\n",
       "      <td>506</td>\n",
       "      <td>506</td>\n",
       "      <td>506</td>\n",
       "      <td>506</td>\n",
       "      <td>506</td>\n",
       "      <td>506</td>\n",
       "      <td>506</td>\n",
       "      <td>506</td>\n",
       "      <td>506</td>\n",
       "      <td>506</td>\n",
       "      <td>506</td>\n",
       "      <td>506</td>\n",
       "      <td>506</td>\n",
       "    </tr>\n",
       "    <tr>\n",
       "      <th>law_crime</th>\n",
       "      <td>31</td>\n",
       "      <td>31</td>\n",
       "      <td>31</td>\n",
       "      <td>31</td>\n",
       "      <td>31</td>\n",
       "      <td>31</td>\n",
       "      <td>31</td>\n",
       "      <td>31</td>\n",
       "      <td>31</td>\n",
       "      <td>31</td>\n",
       "      <td>31</td>\n",
       "      <td>31</td>\n",
       "      <td>31</td>\n",
       "      <td>31</td>\n",
       "      <td>31</td>\n",
       "      <td>31</td>\n",
       "      <td>31</td>\n",
       "      <td>31</td>\n",
       "      <td>31</td>\n",
       "      <td>31</td>\n",
       "      <td>31</td>\n",
       "      <td>31</td>\n",
       "      <td>31</td>\n",
       "      <td>31</td>\n",
       "      <td>31</td>\n",
       "      <td>31</td>\n",
       "      <td>31</td>\n",
       "      <td>31</td>\n",
       "      <td>31</td>\n",
       "    </tr>\n",
       "    <tr>\n",
       "      <th>recreation</th>\n",
       "      <td>1229</td>\n",
       "      <td>1229</td>\n",
       "      <td>1229</td>\n",
       "      <td>1229</td>\n",
       "      <td>1229</td>\n",
       "      <td>1229</td>\n",
       "      <td>1229</td>\n",
       "      <td>1229</td>\n",
       "      <td>1229</td>\n",
       "      <td>1229</td>\n",
       "      <td>1229</td>\n",
       "      <td>1229</td>\n",
       "      <td>1229</td>\n",
       "      <td>1229</td>\n",
       "      <td>1229</td>\n",
       "      <td>1229</td>\n",
       "      <td>1229</td>\n",
       "      <td>1229</td>\n",
       "      <td>1229</td>\n",
       "      <td>1229</td>\n",
       "      <td>1229</td>\n",
       "      <td>1229</td>\n",
       "      <td>1229</td>\n",
       "      <td>1229</td>\n",
       "      <td>1229</td>\n",
       "      <td>1229</td>\n",
       "      <td>1226</td>\n",
       "      <td>1223</td>\n",
       "      <td>1226</td>\n",
       "    </tr>\n",
       "    <tr>\n",
       "      <th>religion</th>\n",
       "      <td>72</td>\n",
       "      <td>72</td>\n",
       "      <td>72</td>\n",
       "      <td>72</td>\n",
       "      <td>72</td>\n",
       "      <td>72</td>\n",
       "      <td>72</td>\n",
       "      <td>72</td>\n",
       "      <td>72</td>\n",
       "      <td>72</td>\n",
       "      <td>72</td>\n",
       "      <td>72</td>\n",
       "      <td>72</td>\n",
       "      <td>72</td>\n",
       "      <td>72</td>\n",
       "      <td>72</td>\n",
       "      <td>72</td>\n",
       "      <td>72</td>\n",
       "      <td>72</td>\n",
       "      <td>72</td>\n",
       "      <td>72</td>\n",
       "      <td>72</td>\n",
       "      <td>72</td>\n",
       "      <td>72</td>\n",
       "      <td>72</td>\n",
       "      <td>72</td>\n",
       "      <td>72</td>\n",
       "      <td>72</td>\n",
       "      <td>72</td>\n",
       "    </tr>\n",
       "    <tr>\n",
       "      <th>science_technology</th>\n",
       "      <td>289</td>\n",
       "      <td>289</td>\n",
       "      <td>289</td>\n",
       "      <td>289</td>\n",
       "      <td>289</td>\n",
       "      <td>289</td>\n",
       "      <td>289</td>\n",
       "      <td>289</td>\n",
       "      <td>289</td>\n",
       "      <td>289</td>\n",
       "      <td>289</td>\n",
       "      <td>289</td>\n",
       "      <td>289</td>\n",
       "      <td>289</td>\n",
       "      <td>289</td>\n",
       "      <td>289</td>\n",
       "      <td>289</td>\n",
       "      <td>289</td>\n",
       "      <td>289</td>\n",
       "      <td>289</td>\n",
       "      <td>289</td>\n",
       "      <td>289</td>\n",
       "      <td>289</td>\n",
       "      <td>289</td>\n",
       "      <td>289</td>\n",
       "      <td>289</td>\n",
       "      <td>287</td>\n",
       "      <td>287</td>\n",
       "      <td>287</td>\n",
       "    </tr>\n",
       "    <tr>\n",
       "      <th>sports</th>\n",
       "      <td>380</td>\n",
       "      <td>380</td>\n",
       "      <td>380</td>\n",
       "      <td>380</td>\n",
       "      <td>380</td>\n",
       "      <td>380</td>\n",
       "      <td>380</td>\n",
       "      <td>380</td>\n",
       "      <td>380</td>\n",
       "      <td>380</td>\n",
       "      <td>380</td>\n",
       "      <td>380</td>\n",
       "      <td>380</td>\n",
       "      <td>380</td>\n",
       "      <td>380</td>\n",
       "      <td>380</td>\n",
       "      <td>380</td>\n",
       "      <td>380</td>\n",
       "      <td>380</td>\n",
       "      <td>380</td>\n",
       "      <td>380</td>\n",
       "      <td>380</td>\n",
       "      <td>380</td>\n",
       "      <td>380</td>\n",
       "      <td>380</td>\n",
       "      <td>380</td>\n",
       "      <td>380</td>\n",
       "      <td>379</td>\n",
       "      <td>380</td>\n",
       "    </tr>\n",
       "    <tr>\n",
       "      <th>unknown</th>\n",
       "      <td>6</td>\n",
       "      <td>6</td>\n",
       "      <td>6</td>\n",
       "      <td>6</td>\n",
       "      <td>6</td>\n",
       "      <td>6</td>\n",
       "      <td>6</td>\n",
       "      <td>6</td>\n",
       "      <td>6</td>\n",
       "      <td>6</td>\n",
       "      <td>6</td>\n",
       "      <td>6</td>\n",
       "      <td>6</td>\n",
       "      <td>6</td>\n",
       "      <td>6</td>\n",
       "      <td>6</td>\n",
       "      <td>6</td>\n",
       "      <td>6</td>\n",
       "      <td>6</td>\n",
       "      <td>6</td>\n",
       "      <td>6</td>\n",
       "      <td>6</td>\n",
       "      <td>6</td>\n",
       "      <td>6</td>\n",
       "      <td>6</td>\n",
       "      <td>6</td>\n",
       "      <td>6</td>\n",
       "      <td>6</td>\n",
       "      <td>6</td>\n",
       "    </tr>\n",
       "    <tr>\n",
       "      <th>weather</th>\n",
       "      <td>4</td>\n",
       "      <td>4</td>\n",
       "      <td>4</td>\n",
       "      <td>4</td>\n",
       "      <td>4</td>\n",
       "      <td>4</td>\n",
       "      <td>4</td>\n",
       "      <td>4</td>\n",
       "      <td>4</td>\n",
       "      <td>4</td>\n",
       "      <td>4</td>\n",
       "      <td>4</td>\n",
       "      <td>4</td>\n",
       "      <td>4</td>\n",
       "      <td>4</td>\n",
       "      <td>4</td>\n",
       "      <td>4</td>\n",
       "      <td>4</td>\n",
       "      <td>4</td>\n",
       "      <td>4</td>\n",
       "      <td>4</td>\n",
       "      <td>4</td>\n",
       "      <td>4</td>\n",
       "      <td>4</td>\n",
       "      <td>4</td>\n",
       "      <td>4</td>\n",
       "      <td>4</td>\n",
       "      <td>4</td>\n",
       "      <td>4</td>\n",
       "    </tr>\n",
       "  </tbody>\n",
       "</table>\n",
       "</div>"
      ],
      "text/plain": [
       "                     url  urlid  boilerplate  alchemy_category_score  \\\n",
       "alchemy_category                                                       \n",
       "?                   2342   2342         2342                    2342   \n",
       "arts_entertainment   941    941          941                     941   \n",
       "business             880    880          880                     880   \n",
       "computer_internet    296    296          296                     296   \n",
       "culture_politics     343    343          343                     343   \n",
       "gaming                76     76           76                      76   \n",
       "health               506    506          506                     506   \n",
       "law_crime             31     31           31                      31   \n",
       "recreation          1229   1229         1229                    1229   \n",
       "religion              72     72           72                      72   \n",
       "science_technology   289    289          289                     289   \n",
       "sports               380    380          380                     380   \n",
       "unknown                6      6            6                       6   \n",
       "weather                4      4            4                       4   \n",
       "\n",
       "                    avglinksize  commonlinkratio_1  commonlinkratio_2  \\\n",
       "alchemy_category                                                        \n",
       "?                          2342               2342               2342   \n",
       "arts_entertainment          941                941                941   \n",
       "business                    880                880                880   \n",
       "computer_internet           296                296                296   \n",
       "culture_politics            343                343                343   \n",
       "gaming                       76                 76                 76   \n",
       "health                      506                506                506   \n",
       "law_crime                    31                 31                 31   \n",
       "recreation                 1229               1229               1229   \n",
       "religion                     72                 72                 72   \n",
       "science_technology          289                289                289   \n",
       "sports                      380                380                380   \n",
       "unknown                       6                  6                  6   \n",
       "weather                       4                  4                  4   \n",
       "\n",
       "                    commonlinkratio_3  commonlinkratio_4  compression_ratio  \\\n",
       "alchemy_category                                                              \n",
       "?                                2342               2342               2342   \n",
       "arts_entertainment                941                941                941   \n",
       "business                          880                880                880   \n",
       "computer_internet                 296                296                296   \n",
       "culture_politics                  343                343                343   \n",
       "gaming                             76                 76                 76   \n",
       "health                            506                506                506   \n",
       "law_crime                          31                 31                 31   \n",
       "recreation                       1229               1229               1229   \n",
       "religion                           72                 72                 72   \n",
       "science_technology                289                289                289   \n",
       "sports                            380                380                380   \n",
       "unknown                             6                  6                  6   \n",
       "weather                             4                  4                  4   \n",
       "\n",
       "                    embed_ratio  framebased  frameTagRatio  hasDomainLink  \\\n",
       "alchemy_category                                                            \n",
       "?                          2342        2342           2342           2342   \n",
       "arts_entertainment          941         941            941            941   \n",
       "business                    880         880            880            880   \n",
       "computer_internet           296         296            296            296   \n",
       "culture_politics            343         343            343            343   \n",
       "gaming                       76          76             76             76   \n",
       "health                      506         506            506            506   \n",
       "law_crime                    31          31             31             31   \n",
       "recreation                 1229        1229           1229           1229   \n",
       "religion                     72          72             72             72   \n",
       "science_technology          289         289            289            289   \n",
       "sports                      380         380            380            380   \n",
       "unknown                       6           6              6              6   \n",
       "weather                       4           4              4              4   \n",
       "\n",
       "                    html_ratio  image_ratio  is_news  lengthyLinkDomain  \\\n",
       "alchemy_category                                                          \n",
       "?                         2342         2342     2342               2342   \n",
       "arts_entertainment         941          941      941                941   \n",
       "business                   880          880      880                880   \n",
       "computer_internet          296          296      296                296   \n",
       "culture_politics           343          343      343                343   \n",
       "gaming                      76           76       76                 76   \n",
       "health                     506          506      506                506   \n",
       "law_crime                   31           31       31                 31   \n",
       "recreation                1229         1229     1229               1229   \n",
       "religion                    72           72       72                 72   \n",
       "science_technology         289          289      289                289   \n",
       "sports                     380          380      380                380   \n",
       "unknown                      6            6        6                  6   \n",
       "weather                      4            4        4                  4   \n",
       "\n",
       "                    linkwordscore  news_front_page  \\\n",
       "alchemy_category                                     \n",
       "?                            2342             2342   \n",
       "arts_entertainment            941              941   \n",
       "business                      880              880   \n",
       "computer_internet             296              296   \n",
       "culture_politics              343              343   \n",
       "gaming                         76               76   \n",
       "health                        506              506   \n",
       "law_crime                      31               31   \n",
       "recreation                   1229             1229   \n",
       "religion                       72               72   \n",
       "science_technology            289              289   \n",
       "sports                        380              380   \n",
       "unknown                         6                6   \n",
       "weather                         4                4   \n",
       "\n",
       "                    non_markup_alphanum_characters  numberOfLinks  \\\n",
       "alchemy_category                                                    \n",
       "?                                             2342           2342   \n",
       "arts_entertainment                             941            941   \n",
       "business                                       880            880   \n",
       "computer_internet                              296            296   \n",
       "culture_politics                               343            343   \n",
       "gaming                                          76             76   \n",
       "health                                         506            506   \n",
       "law_crime                                       31             31   \n",
       "recreation                                    1229           1229   \n",
       "religion                                        72             72   \n",
       "science_technology                             289            289   \n",
       "sports                                         380            380   \n",
       "unknown                                          6              6   \n",
       "weather                                          4              4   \n",
       "\n",
       "                    numwords_in_url  parametrizedLinkRatio  \\\n",
       "alchemy_category                                             \n",
       "?                              2342                   2342   \n",
       "arts_entertainment              941                    941   \n",
       "business                        880                    880   \n",
       "computer_internet               296                    296   \n",
       "culture_politics                343                    343   \n",
       "gaming                           76                     76   \n",
       "health                          506                    506   \n",
       "law_crime                        31                     31   \n",
       "recreation                     1229                   1229   \n",
       "religion                         72                     72   \n",
       "science_technology              289                    289   \n",
       "sports                          380                    380   \n",
       "unknown                           6                      6   \n",
       "weather                           4                      4   \n",
       "\n",
       "                    spelling_errors_ratio  label  title  body  recipe  \n",
       "alchemy_category                                                       \n",
       "?                                    2342   2342   2338  2318    2338  \n",
       "arts_entertainment                    941    941    940   934     940  \n",
       "business                              880    880    879   868     879  \n",
       "computer_internet                     296    296    296   295     296  \n",
       "culture_politics                      343    343    342   339     342  \n",
       "gaming                                 76     76     76    76      76  \n",
       "health                                506    506    506   506     506  \n",
       "law_crime                              31     31     31    31      31  \n",
       "recreation                           1229   1229   1226  1223    1226  \n",
       "religion                               72     72     72    72      72  \n",
       "science_technology                    289    289    287   287     287  \n",
       "sports                                380    380    380   379     380  \n",
       "unknown                                 6      6      6     6       6  \n",
       "weather                                 4      4      4     4       4  "
      ]
     },
     "execution_count": 47,
     "metadata": {},
     "output_type": "execute_result"
    }
   ],
   "source": [
    "news_by_alchemy = data.groupby(['alchemy_category']).count()\n",
    "news_by_alchemy"
=======
     "name": "stdout",
     "output_type": "stream",
     "text": [
      "                    label\n",
      "alchemy_category         \n",
      "?                    2342\n",
      "arts_entertainment    941\n",
      "business              880\n",
      "computer_internet     296\n",
      "culture_politics      343\n",
      "gaming                 76\n",
      "health                506\n",
      "law_crime              31\n",
      "recreation           1229\n",
      "religion               72\n",
      "science_technology    289\n",
      "sports                380\n",
      "unknown                 6\n",
      "weather                 4\n"
     ]
    },
    {
     "data": {
      "text/plain": [
       "<seaborn.axisgrid.FacetGrid at 0x10f6c2810>"
      ]
     },
     "execution_count": 7,
     "metadata": {},
     "output_type": "execute_result"
    },
    {
     "data": {
      "image/png": "iVBORw0KGgoAAAANSUhEUgAAAjkAAAJ1CAYAAAA7ceF6AAAABHNCSVQICAgIfAhkiAAAAAlwSFlz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\ncszMzKxTcpBjZmZmndL/AC83qjdpKdYRAAAAAElFTkSuQmCC\n",
      "text/plain": [
       "<matplotlib.figure.Figure at 0x10f6c2890>"
      ]
     },
     "metadata": {},
     "output_type": "display_data"
    }
   ],
   "source": [
    "print data.groupby(['alchemy_category'])[['label']].count()\n",
    "\n",
    "\n",
    "##  OR\n",
    "\n",
    "import seaborn as sb\n",
    "%matplotlib inline\n",
    "\n",
    "p = sb.factorplot(x='alchemy_category', \n",
    "              y='label',\n",
    "              kind='bar',\n",
    "              data = data,\n",
    "              size = 8,\n",
    "              estimator=len\n",
    "            )\n",
    "p.set_xticklabels(rotation=45, horizontalalignment='right')"
>>>>>>> upstream/master
   ]
  },
  {
   "cell_type": "markdown",
   "metadata": {},
   "source": [
    "> #### Let's try extracting some of the text content.\n",
    "> ### Exercise: 6. Create a feature for the title containing 'recipe'. \n",
    "Is the % of evegreen websites higher or lower on pages that have recipe in the the title?"
   ]
  },
  {
   "cell_type": "code",
<<<<<<< HEAD
   "execution_count": 32,
=======
   "execution_count": 8,
>>>>>>> upstream/master
   "metadata": {
    "collapsed": false
   },
   "outputs": [],
   "source": [
<<<<<<< HEAD
    "#data['recipe'] = data['title'].map(lambda t:1 if 'recipe' in str(t).lower() else 0)\n",
    "\n",
    "data['recipe'] = data['title'].str.contains('recipe')"
   ]
=======
    "# Option 1: Create a function to check for this\n",
    "\n",
    "def has_recipe(text_in):\n",
    "    try:\n",
    "        if 'recipe' in str(text_in).lower():\n",
    "            return 1\n",
    "        else:\n",
    "            return 0\n",
    "    except: \n",
    "        return 0\n",
    "\n",
    "data['recipe'] = data['title'].map(has_recipe)\n",
    "\n",
    "# Option 2: lambda functions\n",
    "\n",
    "#data['recipe'] = data['title'].map(lambda t: 1 if 'recipe' in str(t).lower() else 0)\n",
    "\n",
    "\n",
    "# Option 3: string functions\n",
    "data['recipe'] = data['title'].str.contains('recipe')"
   ]
  },
  {
   "cell_type": "code",
   "execution_count": 9,
   "metadata": {
    "collapsed": false
   },
   "outputs": [
    {
     "data": {
      "text/plain": [
       "0.047812542326967356"
      ]
     },
     "execution_count": 9,
     "metadata": {},
     "output_type": "execute_result"
    }
   ],
   "source": []
>>>>>>> upstream/master
  },
  {
   "cell_type": "markdown",
   "metadata": {
    "collapsed": true
   },
   "source": [
    "###  Let's Explore Some Decision Trees"
   ]
  },
  {
   "cell_type": "markdown",
   "metadata": {},
   "source": [
    " ### Demo: Build a decision tree model to predict the \"evergreeness\" of a given website. "
   ]
  },
  {
   "cell_type": "code",
<<<<<<< HEAD
   "execution_count": 35,
=======
   "execution_count": 11,
>>>>>>> upstream/master
   "metadata": {
    "collapsed": false
   },
   "outputs": [
    {
     "data": {
      "text/html": [
       "<div>\n",
       "<table border=\"1\" class=\"dataframe\">\n",
       "  <thead>\n",
       "    <tr style=\"text-align: right;\">\n",
       "      <th></th>\n",
       "      <th>image_ratio</th>\n",
       "      <th>html_ratio</th>\n",
       "      <th>recipe</th>\n",
       "    </tr>\n",
       "  </thead>\n",
       "  <tbody>\n",
       "    <tr>\n",
       "      <th>0</th>\n",
       "      <td>0.003883</td>\n",
       "      <td>0.245831</td>\n",
       "      <td>False</td>\n",
       "    </tr>\n",
       "    <tr>\n",
       "      <th>1</th>\n",
       "      <td>0.088652</td>\n",
       "      <td>0.203490</td>\n",
       "      <td>False</td>\n",
       "    </tr>\n",
       "    <tr>\n",
       "      <th>2</th>\n",
       "      <td>0.120536</td>\n",
       "      <td>0.226402</td>\n",
       "      <td>False</td>\n",
       "    </tr>\n",
       "    <tr>\n",
       "      <th>3</th>\n",
       "      <td>0.035343</td>\n",
       "      <td>0.265656</td>\n",
       "      <td>False</td>\n",
       "    </tr>\n",
       "    <tr>\n",
       "      <th>4</th>\n",
       "      <td>0.050473</td>\n",
       "      <td>0.228887</td>\n",
       "      <td>False</td>\n",
       "    </tr>\n",
       "  </tbody>\n",
       "</table>\n",
       "</div>"
      ],
      "text/plain": [
       "   image_ratio  html_ratio recipe\n",
       "0     0.003883    0.245831  False\n",
       "1     0.088652    0.203490  False\n",
       "2     0.120536    0.226402  False\n",
       "3     0.035343    0.265656  False\n",
       "4     0.050473    0.228887  False"
      ]
     },
     "execution_count": 11,
     "metadata": {},
     "output_type": "execute_result"
    }
   ],
   "source": [
    "from sklearn.tree import DecisionTreeClassifier\n",
    "from sklearn import tree\n",
    "\n",
    "model = DecisionTreeClassifier()\n",
    "\n",
    "X = data[['image_ratio', 'html_ratio', 'recipe', 'label']].dropna()\n",
    "y = X['label']\n",
<<<<<<< HEAD
    "X.drop('label', axis=1, inplace=True)\n"
=======
    "X.drop('label', axis=1, inplace=True)\n",
    "\n",
    "\n",
    "X.head()"
>>>>>>> upstream/master
   ]
  },
  {
   "cell_type": "code",
<<<<<<< HEAD
   "execution_count": 36,
   "metadata": {
    "collapsed": false,
    "scrolled": true
   },
   "outputs": [
    {
     "name": "stdout",
     "output_type": "stream",
     "text": [
      "Couldn't import dot_parser, loading of dot files will not be possible.\n"
     ]
    }
   ],
=======
   "execution_count": 12,
   "metadata": {
    "collapsed": true
   },
   "outputs": [],
>>>>>>> upstream/master
   "source": [
    "# Fits the model\n",
    "model.fit(X, y)\n",
    "\n",
    "\n",
    "from IPython.display import Image\n",
    "from sklearn.externals.six import StringIO\n",
    "import pydot\n",
    "\n",
    "#dot_data = StringIO()\n",
    "#tree.export_graphviz(model,out_file=dot_data)\n",
    "\n",
    "# From the stringio, create a graph and output to screen\n",
    "#graph = pydot.graph_from_dot_data(dot_data.getvalue())\n",
    "#Image(graph.create_png())"
   ]
  },
  {
   "cell_type": "code",
<<<<<<< HEAD
   "execution_count": 37,
=======
   "execution_count": 13,
>>>>>>> upstream/master
   "metadata": {
    "collapsed": false
   },
   "outputs": [
    {
<<<<<<< HEAD
     "name": "stderr",
     "output_type": "stream",
     "text": [
      "/Users/mac/anaconda/lib/python2.7/site-packages/ipykernel/__main__.py:5: FutureWarning: sort(columns=....) is deprecated, use sort_values(by=.....)\n"
     ]
    },
    {
=======
>>>>>>> upstream/master
     "data": {
      "text/html": [
       "<div>\n",
       "<table border=\"1\" class=\"dataframe\">\n",
       "  <thead>\n",
       "    <tr style=\"text-align: right;\">\n",
       "      <th></th>\n",
       "      <th>Features</th>\n",
       "      <th>Importance Score</th>\n",
       "    </tr>\n",
       "  </thead>\n",
       "  <tbody>\n",
       "    <tr>\n",
       "      <th>1</th>\n",
       "      <td>html_ratio</td>\n",
<<<<<<< HEAD
       "      <td>0.547753</td>\n",
=======
       "      <td>0.54859</td>\n",
>>>>>>> upstream/master
       "    </tr>\n",
       "    <tr>\n",
       "      <th>0</th>\n",
       "      <td>image_ratio</td>\n",
<<<<<<< HEAD
       "      <td>0.423387</td>\n",
=======
       "      <td>0.42255</td>\n",
>>>>>>> upstream/master
       "    </tr>\n",
       "    <tr>\n",
       "      <th>2</th>\n",
       "      <td>recipe</td>\n",
<<<<<<< HEAD
       "      <td>0.028860</td>\n",
=======
       "      <td>0.02886</td>\n",
>>>>>>> upstream/master
       "    </tr>\n",
       "  </tbody>\n",
       "</table>\n",
       "</div>"
      ],
      "text/plain": [
       "      Features  Importance Score\n",
<<<<<<< HEAD
       "1   html_ratio          0.547753\n",
       "0  image_ratio          0.423387\n",
       "2       recipe          0.028860"
      ]
     },
     "execution_count": 37,
=======
       "1   html_ratio           0.54859\n",
       "0  image_ratio           0.42255\n",
       "2       recipe           0.02886"
      ]
     },
     "execution_count": 13,
>>>>>>> upstream/master
     "metadata": {},
     "output_type": "execute_result"
    }
   ],
   "source": [
    "features = X.columns\n",
    "feature_importances = model.feature_importances_\n",
    "\n",
    "features_df = pd.DataFrame({'Features': features, 'Importance Score': feature_importances})\n",
    "features_df.sort('Importance Score', inplace=True, ascending=False)\n",
    "\n",
    "features_df.head()"
   ]
  },
  {
   "cell_type": "markdown",
   "metadata": {
    "collapsed": true
   },
   "source": [
    "## Decision Trees in scikit-learn"
   ]
  },
  {
   "cell_type": "markdown",
   "metadata": {},
   "source": [
    " ### Exercise: Evaluate the decision tree using cross-validation; use AUC as the evaluation metric."
   ]
  },
  {
   "cell_type": "code",
<<<<<<< HEAD
   "execution_count": 41,
=======
   "execution_count": 15,
>>>>>>> upstream/master
   "metadata": {
    "collapsed": false
   },
   "outputs": [
    {
<<<<<<< HEAD
     "data": {
      "text/plain": [
       "array([ 0.52517709,  0.51402095,  0.54397633,  0.52615201,  0.54607814,\n",
       "        0.5483358 ,  0.52442055,  0.50969505,  0.52828553,  0.54324659])"
      ]
     },
     "execution_count": 41,
     "metadata": {},
     "output_type": "execute_result"
=======
     "name": "stdout",
     "output_type": "stream",
     "text": [
      "CV AUC [ 0.53148343  0.52574723  0.52880892  0.53932634  0.54722721], Average AUC 0.534518624152\n"
     ]
>>>>>>> upstream/master
    }
   ],
   "source": [
    "from sklearn.cross_validation import cross_val_score\n",
    "from sklearn.cross_validation import KFold\n",
<<<<<<< HEAD
    "cv_scores = cross_val_score(model,X,y,scoring ='roc_auc',cv=KFold(len(X),n_folds=10,shuffle=True))\n",
    "cv_scores"
=======
    "\n",
    "\n",
    "scores = cross_val_score(model, X, y, scoring='roc_auc', cv=KFold(len(X),n_folds=5,shuffle=True))\n",
    "print('CV AUC {}, Average AUC {}'.format(scores, scores.mean()))"
   ]
  },
  {
   "cell_type": "markdown",
   "metadata": {
    "collapsed": true
   },
   "source": [
    "###  Adjusting Decision Trees to Avoid Overfitting"
>>>>>>> upstream/master
   ]
  },
  {
   "cell_type": "markdown",
   "metadata": {},
   "source": [
    " ### Demo: Control for overfitting in the decision model by adjusting the maximum number of questions (max_depth) or the minimum number of records in each final node (min_samples_leaf)"
   ]
  },
  {
   "cell_type": "code",
<<<<<<< HEAD
   "execution_count": 45,
=======
   "execution_count": 16,
>>>>>>> upstream/master
   "metadata": {
    "collapsed": true
   },
   "outputs": [],
   "source": [
    "from IPython.display import Image\n",
    "from sklearn.externals.six import StringIO\n",
    "import pydot\n",
    "\n",
    "def build_tree_image(model,feat_names=None):\n",
    "    dot_data = StringIO()\n",
    "    tree.export_graphviz(model,out_file=dot_data,feature_names=feat_names)\n",
    "    \n",
    "    # From the stringio, create a graph and output to screen\n",
    "    graph = pydot.graph_from_dot_data(dot_data.getvalue())\n",
    "    return graph.create_png()"
   ]
  },
  {
   "cell_type": "code",
<<<<<<< HEAD
   "execution_count": 44,
=======
   "execution_count": 17,
>>>>>>> upstream/master
   "metadata": {
    "collapsed": false
   },
   "outputs": [
    {
<<<<<<< HEAD
     "ename": "NameError",
     "evalue": "global name 'dot_parser' is not defined",
     "output_type": "error",
     "traceback": [
      "\u001b[0;31m---------------------------------------------------------------------------\u001b[0m",
      "\u001b[0;31mNameError\u001b[0m                                 Traceback (most recent call last)",
      "\u001b[0;32m<ipython-input-44-e83c9579f231>\u001b[0m in \u001b[0;36m<module>\u001b[0;34m()\u001b[0m\n\u001b[1;32m      4\u001b[0m \u001b[0;34m\u001b[0m\u001b[0m\n\u001b[1;32m      5\u001b[0m \u001b[0mmodel\u001b[0m\u001b[0;34m.\u001b[0m\u001b[0mfit\u001b[0m\u001b[0;34m(\u001b[0m\u001b[0mX\u001b[0m\u001b[0;34m,\u001b[0m \u001b[0my\u001b[0m\u001b[0;34m)\u001b[0m\u001b[0;34m\u001b[0m\u001b[0m\n\u001b[0;32m----> 6\u001b[0;31m \u001b[0mImage\u001b[0m\u001b[0;34m(\u001b[0m\u001b[0mbuild_tree_image\u001b[0m\u001b[0;34m(\u001b[0m\u001b[0mmodel\u001b[0m\u001b[0;34m,\u001b[0m\u001b[0;34m[\u001b[0m\u001b[0;34m'image_ratio'\u001b[0m\u001b[0;34m,\u001b[0m \u001b[0;34m'html_ratio'\u001b[0m\u001b[0;34m,\u001b[0m \u001b[0;34m'recipe'\u001b[0m\u001b[0;34m]\u001b[0m\u001b[0;34m)\u001b[0m\u001b[0;34m)\u001b[0m\u001b[0;34m\u001b[0m\u001b[0m\n\u001b[0m",
      "\u001b[0;32m<ipython-input-42-26788c2f7d59>\u001b[0m in \u001b[0;36mbuild_tree_image\u001b[0;34m(model, feat_names)\u001b[0m\n\u001b[1;32m      8\u001b[0m \u001b[0;34m\u001b[0m\u001b[0m\n\u001b[1;32m      9\u001b[0m     \u001b[0;31m# From the stringio, create a graph and output to screen\u001b[0m\u001b[0;34m\u001b[0m\u001b[0;34m\u001b[0m\u001b[0m\n\u001b[0;32m---> 10\u001b[0;31m     \u001b[0mgraph\u001b[0m \u001b[0;34m=\u001b[0m \u001b[0mpydot\u001b[0m\u001b[0;34m.\u001b[0m\u001b[0mgraph_from_dot_data\u001b[0m\u001b[0;34m(\u001b[0m\u001b[0mdot_data\u001b[0m\u001b[0;34m.\u001b[0m\u001b[0mgetvalue\u001b[0m\u001b[0;34m(\u001b[0m\u001b[0;34m)\u001b[0m\u001b[0;34m)\u001b[0m\u001b[0;34m\u001b[0m\u001b[0m\n\u001b[0m\u001b[1;32m     11\u001b[0m     \u001b[0;32mreturn\u001b[0m \u001b[0mgraph\u001b[0m\u001b[0;34m.\u001b[0m\u001b[0mcreate_png\u001b[0m\u001b[0;34m(\u001b[0m\u001b[0;34m)\u001b[0m\u001b[0;34m\u001b[0m\u001b[0m\n",
      "\u001b[0;32m/Users/mac/anaconda/lib/python2.7/site-packages/pydot.pyc\u001b[0m in \u001b[0;36mgraph_from_dot_data\u001b[0;34m(data)\u001b[0m\n\u001b[1;32m    197\u001b[0m     \"\"\"\n\u001b[1;32m    198\u001b[0m \u001b[0;34m\u001b[0m\u001b[0m\n\u001b[0;32m--> 199\u001b[0;31m     \u001b[0;32mreturn\u001b[0m \u001b[0mdot_parser\u001b[0m\u001b[0;34m.\u001b[0m\u001b[0mparse_dot_data\u001b[0m\u001b[0;34m(\u001b[0m\u001b[0mdata\u001b[0m\u001b[0;34m)\u001b[0m\u001b[0;34m\u001b[0m\u001b[0m\n\u001b[0m\u001b[1;32m    200\u001b[0m \u001b[0;34m\u001b[0m\u001b[0m\n\u001b[1;32m    201\u001b[0m \u001b[0;34m\u001b[0m\u001b[0m\n",
      "\u001b[0;31mNameError\u001b[0m: global name 'dot_parser' is not defined"
     ]
=======
     "data": {
      "image/png": "iVBORw0KGgoAAAANSUhEUgAAAxsAAAEzCAYAAABZvh67AAAAAXNSR0IArs4c6QAAQABJREFUeAHs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\n",
      "text/plain": [
       "<IPython.core.display.Image object>"
      ]
     },
     "execution_count": 17,
     "metadata": {},
     "output_type": "execute_result"
>>>>>>> upstream/master
    }
   ],
   "source": [
    "model = DecisionTreeClassifier(\n",
    "                max_depth = 2,\n",
    "                min_samples_leaf = 5)\n",
    "\n",
    "model.fit(X, y)\n",
    "Image(build_tree_image(model,['image_ratio', 'html_ratio', 'recipe']))"
   ]
  },
  {
   "cell_type": "code",
   "execution_count": 20,
   "metadata": {
    "collapsed": false
   },
   "outputs": [
    {
     "name": "stdout",
     "output_type": "stream",
     "text": [
      "CV AUC [ 0.5879095   0.57362485  0.5651904   0.56958817  0.57440564], Average AUC 0.574143712196\n"
     ]
    }
   ],
   "source": [
    "\n",
    "scores = cross_val_score(model, X, y, scoring='roc_auc', cv=KFold(len(X),n_folds=5,shuffle=True))\n",
    "print('CV AUC {}, Average AUC {}'.format(scores, scores.mean()))"
   ]
  },
  {
   "cell_type": "markdown",
   "metadata": {},
   "source": [
    " ### Demo: Build a random forest model to predict the evergreeness of a website. "
   ]
  },
  {
   "cell_type": "code",
   "execution_count": 37,
   "metadata": {
    "collapsed": false
   },
   "outputs": [
    {
     "data": {
      "text/plain": [
       "RandomForestClassifier(bootstrap=True, class_weight=None, criterion='gini',\n",
       "            max_depth=None, max_features='auto', max_leaf_nodes=None,\n",
       "            min_samples_leaf=1, min_samples_split=2,\n",
       "            min_weight_fraction_leaf=0.0, n_estimators=20, n_jobs=1,\n",
       "            oob_score=False, random_state=None, verbose=0,\n",
       "            warm_start=False)"
      ]
     },
     "execution_count": 37,
     "metadata": {},
     "output_type": "execute_result"
    }
   ],
   "source": [
    "from sklearn.ensemble import RandomForestClassifier\n",
    "\n",
    "model = RandomForestClassifier(n_estimators = 20)\n",
    "\n",
    "model.fit(X, y)"
   ]
  },
  {
   "cell_type": "markdown",
   "metadata": {},
   "source": [
    "### Demo: Extracting importance of features"
   ]
  },
  {
   "cell_type": "code",
   "execution_count": 38,
   "metadata": {
    "collapsed": false
   },
   "outputs": [
    {
     "data": {
      "text/html": [
       "<div>\n",
       "<table border=\"1\" class=\"dataframe\">\n",
       "  <thead>\n",
       "    <tr style=\"text-align: right;\">\n",
       "      <th></th>\n",
       "      <th>Features</th>\n",
       "      <th>Importance Score</th>\n",
       "    </tr>\n",
       "  </thead>\n",
       "  <tbody>\n",
       "    <tr>\n",
       "      <th>1</th>\n",
       "      <td>html_ratio</td>\n",
       "      <td>0.525298</td>\n",
       "    </tr>\n",
       "    <tr>\n",
       "      <th>0</th>\n",
       "      <td>image_ratio</td>\n",
       "      <td>0.446239</td>\n",
       "    </tr>\n",
       "    <tr>\n",
       "      <th>2</th>\n",
       "      <td>recipe</td>\n",
       "      <td>0.028463</td>\n",
       "    </tr>\n",
       "  </tbody>\n",
       "</table>\n",
       "</div>"
      ],
      "text/plain": [
       "      Features  Importance Score\n",
       "1   html_ratio          0.525298\n",
       "0  image_ratio          0.446239\n",
       "2       recipe          0.028463"
      ]
     },
     "execution_count": 38,
     "metadata": {},
     "output_type": "execute_result"
    }
   ],
   "source": [
    "features = X.columns\n",
    "feature_importances = model.feature_importances_\n",
    "\n",
    "features_df = pd.DataFrame({'Features': features, 'Importance Score': feature_importances})\n",
    "features_df.sort('Importance Score', inplace=True, ascending=False)\n",
    "\n",
    "features_df.head()"
   ]
  },
  {
   "cell_type": "markdown",
   "metadata": {},
   "source": [
    " ### Exercise: Evaluate the Random Forest model using cross-validation; increase the number of estimators and view how that improves predictive performance."
   ]
  },
  {
   "cell_type": "code",
   "execution_count": 39,
   "metadata": {
    "collapsed": false
   },
   "outputs": [
    {
     "name": "stdout",
     "output_type": "stream",
     "text": [
      "CV AUC [ 0.56220316  0.58855902  0.58170532], Average AUC 0.577489164295\n",
      "n trees: 1, CV AUC [ 0.52129538  0.54450538  0.53559076], Average AUC 0.533797174189\n",
      "n trees: 11, CV AUC [ 0.56946638  0.57433669  0.57662598], Average AUC 0.573476349935\n",
      "n trees: 21, CV AUC [ 0.5701654   0.58864064  0.5762301 ], Average AUC 0.578345379615\n",
      "n trees: 31, CV AUC [ 0.55940049  0.58164927  0.578063  ], Average AUC 0.573037586756\n",
      "n trees: 41, CV AUC [ 0.56269812  0.58373518  0.57511819], Average AUC 0.573850494303\n",
      "n trees: 51, CV AUC [ 0.56981044  0.58546981  0.57954433], Average AUC 0.578274861329\n",
      "n trees: 61, CV AUC [ 0.56888393  0.5867854   0.58304279], Average AUC 0.579570703511\n",
      "n trees: 71, CV AUC [ 0.5644194   0.59029034  0.58153532], Average AUC 0.578748354637\n",
      "n trees: 81, CV AUC [ 0.56617933  0.58542585  0.5856066 ], Average AUC 0.579070593245\n",
      "n trees: 91, CV AUC [ 0.56817798  0.58965782  0.58311985], Average AUC 0.580318548106\n"
     ]
    }
   ],
   "source": [
    "from sklearn.cross_validation import cross_val_score\n",
    "\n",
    "scores = cross_val_score(model, X, y, scoring='roc_auc')\n",
    "print('CV AUC {}, Average AUC {}'.format(scores, scores.mean()))\n",
    "\n",
    "for n_trees in range(1, 100, 10):\n",
    "    model = RandomForestClassifier(n_estimators = n_trees)\n",
    "    scores = cross_val_score(model, X, y, scoring='roc_auc')\n",
    "    print('n trees: {}, CV AUC {}, Average AUC {}'.format(n_trees, scores, scores.mean()))"
   ]
  },
  {
   "cell_type": "markdown",
   "metadata": {},
   "source": [
    "##  Independent Practice: Evaluate Random Forest Using Cross-Validation"
   ]
  },
  {
   "cell_type": "markdown",
   "metadata": {},
   "source": [
    "1. Continue adding input variables to the model that you think may be relevant\n",
    "2. For each feature:\n",
    "  - Evaluate the model for improved predictive performance using cross-validation\n",
    "  - Evaluate the _importance_ of the feature\n",
    "  - \n",
    "3. **Bonus**: Just like the 'recipe' feature, add in similar text features and evaluate their performance.\n"
   ]
  },
  {
   "cell_type": "code",
   "execution_count": null,
   "metadata": {
    "collapsed": false
   },
   "outputs": [],
   "source": [
    "## 1. Building a model with more relevant features\n",
    "\n",
    "model = RandomForestClassifier(n_estimators=50)\n",
    "\n",
    "# Continue to add features to X\n",
    "#     Build dummy features, include quantitative features, or add text features\n",
    "X = data[['image_ratio', 'html_ratio', 'recipe', 'label']].dropna()\n",
    "\n",
    "y = X['label']\n",
    "\n",
    "X.drop('label', axis=1, inplace=True)\n",
    "\n",
    "\n",
    "## 2a. Evaluate predictive performance for the given feature set\n",
    "scores = cross_val_score(model, X, y, scoring='roc_auc')\n",
    "print('CV AUC {}, Average AUC {}'.format(scores, scores.mean()))\n",
    "\n",
    "# 3 (BONUS): Adding in text features\n",
    "\n",
    "# Check for keywords in the title\n",
    "data['PhotoInTitle'] = data['title'].fillna('').str.lower().str.contains('photo').astype(int)\n",
    "X = data[['image_ratio', 'html_ratio', 'recipe', 'PhotoInTitle', 'label']].dropna()\n",
    "X.drop('label', axis=1, inplace=True)\n",
    "\n",
    "\n",
    "scores = cross_val_score(model, X, y, scoring='roc_auc')\n",
    "print('CV AUC {}, Average AUC {}'.format(scores, scores.mean()))\n",
    "\n",
    "\n",
    "## 2b. Evaluating feature importances\n",
    "\n",
    "# Fit a model on the whole dataset\n",
    "model.fit(X, y)\n",
    "\n",
    "# Get columns and their scores\n",
    "features = X.columns\n",
    "feature_importances = model.feature_importances_\n",
    "features_df = pd.DataFrame({'Features': features, 'Importance Score': feature_importances})\n",
    "features_df.sort_values('Importance Score', inplace=True, ascending=False)\n",
    "\n",
    "features_df.head()"
   ]
  },
  {
   "cell_type": "code",
   "execution_count": null,
   "metadata": {
    "collapsed": true
   },
   "outputs": [],
   "source": []
  }
 ],
 "metadata": {
  "kernelspec": {
   "display_name": "Python 2",
   "language": "python",
   "name": "python2"
  },
  "language_info": {
   "codemirror_mode": {
    "name": "ipython",
    "version": 2
   },
   "file_extension": ".py",
   "mimetype": "text/x-python",
   "name": "python",
   "nbconvert_exporter": "python",
   "pygments_lexer": "ipython2",
   "version": "2.7.11"
  }
 },
 "nbformat": 4,
 "nbformat_minor": 0
}
