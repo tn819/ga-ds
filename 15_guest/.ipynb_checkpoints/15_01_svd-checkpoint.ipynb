{
 "cells": [
  {
   "cell_type": "markdown",
   "metadata": {},
   "source": [
    "# SVD Math\n",
    "\n",
    "Let's explore the usage of SVD decomposition in numpy."
   ]
  },
  {
   "cell_type": "code",
   "execution_count": 1,
   "metadata": {
    "collapsed": true
   },
   "outputs": [],
   "source": [
    "import numpy as np\n",
    "import seaborn as sb\n",
    "from matplotlib import pyplot as plt\n",
    "%matplotlib inline"
   ]
  },
  {
   "cell_type": "markdown",
   "metadata": {},
   "source": [
    "### Singular Value Decomposition\n",
    "\n",
    "#### SVD\n",
    "\n",
    "If A is a $N \\times n$ matrix, then the _Singular Value Decomposition_ (SVD) of $A$ is given by \n",
    "\n",
    "$$A = U \\Sigma V^{T}$$\n",
    "\n",
    "where\n",
    "\n",
    "- $U$ and $V$ are orthogonal matrices, meaning that $UU^T = \\textbf{1}$ and $VV^T = \\textbf{1}$ are identity matrices, and\n",
    "- $\\Sigma$ is a diagonal matrix, meaning that the values lie *only* on the diagonal (This does not mean that $\\Sigma$ is also a square matrix!)\n",
    "\n",
    "\n",
    "- U shape: $N \\times N$\n",
    "- $\\Sigma$ shape: $N \\times n$\n",
    "- VT shape: $n \\times n$\n",
    "\n",
    "In particular, $U$ and $V$ are square matrices consisting of the eigenvectors of $AA^T$ and $A^TA$, respectively. Note that $\\Sigma$ is _not_ necessarily a square matrix (since generally $N \\neq n$). Its values are non-negative real numbers, and are the _singular values_ of $A$, which are defined as the square root of the eigenvalues of $AA^T$ (or $A^TA$, which are the same).\n",
    "\n",
    "Let's see that in action. Let's start with some arbitraty matrix $M$ and compute its SVD."
   ]
  },
  {
   "cell_type": "code",
   "execution_count": 2,
   "metadata": {
    "collapsed": false
   },
   "outputs": [
    {
     "data": {
      "text/plain": [
       "array([[  4.89657932e-01,   7.42007048e-04,   2.52805156e-01],\n",
       "       [  7.45433983e-02,   1.86422182e-01,   4.40239231e-01],\n",
       "       [  9.72657489e-01,   6.17987076e-01,   7.99956532e-01],\n",
       "       [  8.18836330e-01,   4.87873232e-01,   8.06110176e-01],\n",
       "       [  9.06551465e-01,   6.23803112e-01,   4.73801906e-01]])"
      ]
     },
     "execution_count": 2,
     "metadata": {},
     "output_type": "execute_result"
    }
   ],
   "source": [
    "M = np.random.random((5,3))\n",
    "M"
   ]
  },
  {
   "cell_type": "code",
   "execution_count": 3,
   "metadata": {
    "collapsed": false
   },
   "outputs": [
    {
     "name": "stdout",
     "output_type": "stream",
     "text": [
      "[[-0.21236896 -0.28508383  0.84763865 -0.35538716  0.16980964]\n",
      " [-0.16595705  0.76088498 -0.07485139 -0.55084007  0.29066268]\n",
      " [-0.61087677  0.04401987 -0.04896204 -0.15654347 -0.77329728]\n",
      " [-0.54073314  0.29986076  0.20188511  0.70232174  0.2892711 ]\n",
      " [-0.511659   -0.49792272 -0.48244285 -0.22915825  0.4527841 ]]\n",
      "[ 2.29612562  0.39097423  0.27280901]\n",
      "[[-0.70429516 -0.43185499 -0.5634444 ]\n",
      " [-0.62897761  0.01157701  0.77733721]\n",
      " [ 0.32917395 -0.90186875  0.27978075]]\n"
     ]
    }
   ],
   "source": [
    "U, s, VT = np.linalg.svd(M)  # returns matrix, array (only diagonal)\n",
    "print U\n",
    "print s\n",
    "print VT"
   ]
  },
  {
   "cell_type": "markdown",
   "metadata": {},
   "source": [
    "Note that `numpy`'s `linalg.svd` returns `U, s, VT`, where\n",
    "- `s` is the actual diagonal of $\\Sigma$ (not the entire matrix) and\n",
    "- `VT` is the transpose of $V$.\n",
    "\n",
    "Note that $\\Sigma$ is a diagonal matrix, but not a square matrix."
   ]
  },
  {
   "cell_type": "code",
   "execution_count": 4,
   "metadata": {
    "collapsed": false
   },
   "outputs": [
    {
     "data": {
      "text/plain": [
       "array([[ 2.29612562,  0.        ,  0.        ],\n",
       "       [ 0.        ,  0.39097423,  0.        ],\n",
       "       [ 0.        ,  0.        ,  0.27280901],\n",
       "       [ 0.        ,  0.        ,  0.        ],\n",
       "       [ 0.        ,  0.        ,  0.        ]])"
      ]
     },
     "execution_count": 4,
     "metadata": {},
     "output_type": "execute_result"
    }
   ],
   "source": [
    "S = np.zeros(M.shape)\n",
    "S[:min(M.shape), :min(M.shape)] = np.diag(s)\n",
    "S"
   ]
  },
  {
   "cell_type": "markdown",
   "metadata": {},
   "source": [
    "Let's check if the SVD equation holds:"
   ]
  },
  {
   "cell_type": "code",
   "execution_count": 5,
   "metadata": {
    "collapsed": false
   },
   "outputs": [
    {
     "data": {
      "text/plain": [
       "True"
      ]
     },
     "execution_count": 5,
     "metadata": {},
     "output_type": "execute_result"
    }
   ],
   "source": [
    "np.isclose(M, U.dot(S).dot(VT)).all()"
   ]
  },
  {
   "cell_type": "markdown",
   "metadata": {},
   "source": [
    "Good!\n",
    "\n",
    "Let's check if the values in $\\Sigma$ are indeed the square roots of the eigenvalues of $AA^T$ resp. $A^TA$.  \n",
    "\n",
    "We sort the eigenvalues, so we can compare them easily. We also round down to some decimal to clearly show the values that are nearly zero."
   ]
  },
  {
   "cell_type": "code",
   "execution_count": 6,
   "metadata": {
    "collapsed": false,
    "scrolled": true
   },
   "outputs": [
    {
     "name": "stdout",
     "output_type": "stream",
     "text": [
      "[ 5.2721929  0.1528608  0.0744248  0.        -0.       ]\n",
      "[ 5.2721929  0.1528608  0.0744248]\n",
      "[ 5.2721929  0.1528608  0.0744248]\n"
     ]
    }
   ],
   "source": [
    "values1 = np.sort(np.linalg.eig(M.dot(M.T))[0])[::-1].round(7)\n",
    "values2 = np.sort(np.linalg.eig(M.T.dot(M))[0])[::-1].round(7)\n",
    "squares = np.sort(np.square(s))[::-1].round(7)\n",
    "print values1\n",
    "print values2\n",
    "print squares"
   ]
  },
  {
   "cell_type": "markdown",
   "metadata": {},
   "source": [
    "Let's inspect $U$ check if its columns are indeed equal to the eigenvectors of $AA^T$.  \n",
    "\n",
    "We sort the eigenvectors according to their eigenvalue, so we can compare them easily again."
   ]
  },
  {
   "cell_type": "code",
   "execution_count": 7,
   "metadata": {
    "collapsed": false
   },
   "outputs": [
    {
     "name": "stdout",
     "output_type": "stream",
     "text": [
      "[[-0.21236896 -0.28508383  0.84763865 -0.35538716  0.16980964]\n",
      " [-0.16595705  0.76088498 -0.07485139 -0.55084007  0.29066268]\n",
      " [-0.61087677  0.04401987 -0.04896204 -0.15654347 -0.77329728]\n",
      " [-0.54073314  0.29986076  0.20188511  0.70232174  0.2892711 ]\n",
      " [-0.511659   -0.49792272 -0.48244285 -0.22915825  0.4527841 ]]\n",
      "[[ 0.21236896  0.28508383  0.84763865 -0.17665974 -0.07022028]\n",
      " [ 0.16595705 -0.76088498 -0.07485139 -0.25698109 -0.08656808]\n",
      " [ 0.61087677 -0.04401987 -0.04896204 -0.59776077 -0.71871413]\n",
      " [ 0.54073314 -0.29986076  0.20188511  0.73219707  0.64550809]\n",
      " [ 0.511659    0.49792272 -0.48244285  0.09654831  0.23311881]]\n",
      "[[-1.         -1.          1.          2.01170434 -2.41824216]\n",
      " [-1.         -1.          1.          2.14350432 -3.35761935]\n",
      " [-1.         -1.          1.          0.26188314  1.07594557]\n",
      " [-1.         -1.          1.          0.9591977   0.44812932]\n",
      " [-1.         -1.          1.         -2.37350852  1.94228897]]\n"
     ]
    }
   ],
   "source": [
    "values, vectors = np.linalg.eig(M.dot(M.T))\n",
    "vectors = vectors[:, values.argsort()[::-1]]\n",
    "print U\n",
    "print vectors\n",
    "print U / vectors"
   ]
  },
  {
   "cell_type": "markdown",
   "metadata": {},
   "source": [
    "Note that they're equal up to a possible sign (+/-), since the orientation of eigenvectors and eigenvalues is arbitrary. Also note that the last eigenvectors are just noise as their corresponding eigenvalues are near-zero.\n",
    "\n",
    "Let's inspect $V$ and $A^TA$."
   ]
  },
  {
   "cell_type": "code",
   "execution_count": 8,
   "metadata": {
    "collapsed": false,
    "scrolled": true
   },
   "outputs": [
    {
     "name": "stdout",
     "output_type": "stream",
     "text": [
      "[[-0.70429516 -0.62897761  0.32917395]\n",
      " [-0.43185499  0.01157701 -0.90186875]\n",
      " [-0.5634444   0.77733721  0.27978075]]\n",
      "[[-0.70429516 -0.62897761  0.32917395]\n",
      " [-0.43185499  0.01157701 -0.90186875]\n",
      " [-0.5634444   0.77733721  0.27978075]]\n",
      "[[ 1.  1.  1.]\n",
      " [ 1.  1.  1.]\n",
      " [ 1.  1.  1.]]\n"
     ]
    }
   ],
   "source": [
    "V = VT.T\n",
    "values, vectors = np.linalg.eig(M.T.dot(M))\n",
    "vectors = vectors[:, values.argsort()[::-1]]\n",
    "print V\n",
    "print vectors\n",
    "print V / vectors"
   ]
  },
  {
   "cell_type": "markdown",
   "metadata": {},
   "source": [
    "Great, that all seems to work!\n",
    "\n",
    "#### Truncated SVD\n",
    "\n",
    "How does this decomposition help us with data science?  As we saw in the example above already, if $\\Sigma$ is not a square matrix, a lot of the column vectors in $U$ are irrelevant since they correspond to zero-value eigenvalues. Moreover, in practice, you'd have many eigenvalues that are very small. Since the values in $\\Sigma$ are ordered from big to small, we could significantly reduce the dimensions of $\\Sigma$ by limiting this matrix to an actual square matrix of dimension $k$, only containing the first $k$ rows and columns of $\\Sigma$, and throwing away the smallest singular values.\n",
    "\n",
    "\\begin{align*}\n",
    "A = U \\Sigma V^{T} \\approx U' \\Sigma' V'^{T} \\\\\n",
    "\\end{align*}\n",
    "\n",
    "We often ommit these accents and simply write $A = U \\Sigma V^{T}$ when we in fact mean the _truncated SVD_ decomposition. Since we truncate only the smallest singular values, this loss in accuracy is only small if we choose $k$ large enough. This is a small price for a huge gain in insight in our data."
   ]
  },
  {
   "cell_type": "code",
   "execution_count": 11,
   "metadata": {
    "collapsed": false
   },
   "outputs": [
    {
     "name": "stdout",
     "output_type": "stream",
     "text": [
      "[[  4.89657932e-01   7.42007048e-04   2.52805156e-01]\n",
      " [  7.45433983e-02   1.86422182e-01   4.40239231e-01]\n",
      " [  9.72657489e-01   6.17987076e-01   7.99956532e-01]\n",
      " [  8.18836330e-01   4.87873232e-01   8.06110176e-01]\n",
      " [  9.06551465e-01   6.23803112e-01   4.73801906e-01]]\n",
      "[[ 0.41353861  0.20929326  0.18810769]\n",
      " [ 0.08126517  0.1680059   0.44595239]\n",
      " [ 0.97705436  0.60594056  0.80369364]\n",
      " [ 0.80070672  0.53754463  0.79070095]\n",
      " [ 0.94987561  0.50510388  0.51062518]]\n"
     ]
    }
   ],
   "source": [
    "n_samples, n_features = M.shape\n",
    "k = 2\n",
    "M_svd = U[:n_samples, :k].dot(S[:k, :k]).dot(V[:n_features, :k].T)\n",
    "print M\n",
    "print M_svd "
   ]
  },
  {
   "cell_type": "markdown",
   "metadata": {},
   "source": [
    "How to measure the quality of this?"
   ]
  },
  {
   "cell_type": "code",
   "execution_count": 12,
   "metadata": {
    "collapsed": false
   },
   "outputs": [
    {
     "name": "stdout",
     "output_type": "stream",
     "text": [
      "M is a 5x3-matrix, but we only choose the largest 2 singular values\n",
      "\n",
      "We kept 90% of our singular values, weighted by their size:\n",
      "- before: [ 2.29612562  0.39097423  0.27280901]\n",
      "- after:  [ 2.29612562  0.39097423]\n",
      "\n",
      "Relative differences with original matrix (18.71 on average):\n",
      "[[ -1.60000000e-01   2.81060000e+02  -2.60000000e-01]\n",
      " [  9.00000000e-02  -1.00000000e-01   1.00000000e-02]\n",
      " [  0.00000000e+00  -2.00000000e-02   0.00000000e+00]\n",
      " [ -2.00000000e-02   1.00000000e-01  -2.00000000e-02]\n",
      " [  5.00000000e-02  -1.90000000e-01   8.00000000e-02]]\n"
     ]
    }
   ],
   "source": [
    "s_kept = s[:k]\n",
    "print \"M is a %dx%d-matrix, but we only choose the largest %d singular values\" % (n_samples, n_features, k)\n",
    "print \"\\nWe kept %d%% of our singular values, weighted by their size:\" % (100. * s_kept.sum() / s.sum())\n",
    "print \"- before:\", s\n",
    "print \"- after: \", s_kept\n",
    "diff = ((M_svd - M) / M).round(2)\n",
    "print \"\\nRelative differences with original matrix (%.2f on average):\" % diff.mean()\n",
    "print diff"
   ]
  },
  {
   "cell_type": "markdown",
   "metadata": {},
   "source": [
    "For an individual data point, the difference can be substantial, but for the population as a whole, we are pretty close to our initial matrix. \n",
    "\n",
    "\n",
    "#### Interpretation\n",
    "\n",
    "Let's $A$ be our $N \\times n$ feature matrix with $N$ samples and $n$ features, and let's write the SVD as follows, trunacted to some dimension $k < n$:\n",
    "\n",
    "\\begin{align}\n",
    "A = U \\Sigma V^{T}\n",
    "\\end{align}\n",
    "\n",
    "Each of these matrices represents some grouping the data:\n",
    "- $U$ ($N \\times k$) represents how each datapoint relates to some latent concept,\n",
    "- $V$ ($n \\times k$) represents how each concept relates to each original feature, and\n",
    "- $\\Sigma$ ($k \\times k$) represents the strength of each of those concepts in the dataset.\n",
    "\n",
    "This reduces the number of dimensions from $n$ to $k$, since instead of modelling our data for each feature, we now model our data for each concept. Our intuition is that datapoints with similar relevant features will get similar concepts.\n",
    "\n",
    "A very concrete example of this is text classification, in which case this method is often called _Latent semantic Analysis_ (LSA).  As always with Natural Language Processing (NLP), we transform our $N$ documents into a $N \\times n$ feature matrix, where each column represents a certain word or n-gram (e.g., using `CountVectorizer`).  Please refer to the **notebook about LSA** in this folder for a clear demonstration about this.\n",
    "\n",
    "### Principal Component Analysis\n",
    "\n",
    "Principal Component Analysis (PCA) is directlty related to SVD by the following expression:\n",
    "\n",
    "\\begin{align*}\n",
    "A &= U \\Sigma V^{T} \\\\\n",
    "AA^T &= (U \\Sigma V^{T})(V \\Sigma U^{T}) \\\\\n",
    "&= U \\Sigma^2 U^{T}\n",
    "\\end{align*}\n",
    "\n",
    "Note that we used that $V$ is an orthogonal matrix, and hence $V^TV = \\textbf{1}$.  Then we have:\n",
    "- $AA^T$ is called the _covariance matrix_ (assuimg that all features $A$ were scaled with mean zero),\n",
    "- $U$ is a square matrix consisting of the eigenvectors of $AA^T$, and\n",
    "- $\\Sigma^2$ is a square diagonal matrix with the eigenvalues of $AA^T$.\n",
    "\n",
    "This means they are unique set of points that can be scaled by the covariance matrix but not rotated.  Therefore, they represent a new set of axes for our space.  This means our data can be shifted form our current axes or perspective to a new coordinate system - we can move our data points from samples in our feature space to samples in some underlying concept space. Pease refer to the **notebook about PCA** for an in-depth look into the math behind this.\n",
    "\n",
    "### Further reading\n",
    "\n",
    "- [Linear algebra explained in four pages](http://cnd.mcgill.ca/~ivan/miniref/linear_algebra_in_4_pages.pdf)\n",
    "- [Latent Semantic Analysis](https://en.wikipedia.org/wiki/Latent_semantic_indexing) on Wikipedia"
   ]
  },
  {
   "cell_type": "code",
   "execution_count": null,
   "metadata": {
    "collapsed": true
   },
   "outputs": [],
   "source": []
  },
  {
   "cell_type": "code",
   "execution_count": null,
   "metadata": {
    "collapsed": true
   },
   "outputs": [],
   "source": []
  }
 ],
 "metadata": {
  "kernelspec": {
   "display_name": "Python 2",
   "language": "python",
   "name": "python2"
  },
  "language_info": {
   "codemirror_mode": {
    "name": "ipython",
    "version": 2
   },
   "file_extension": ".py",
   "mimetype": "text/x-python",
   "name": "python",
   "nbconvert_exporter": "python",
   "pygments_lexer": "ipython2",
   "version": "2.7.11"
  }
 },
 "nbformat": 4,
 "nbformat_minor": 0
}
