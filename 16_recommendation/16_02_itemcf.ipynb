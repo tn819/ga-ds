{
 "cells": [
  {
   "cell_type": "code",
   "execution_count": null,
   "metadata": {
    "collapsed": true
   },
   "outputs": [],
   "source": [
    "# Collaborative Filtering - Item CF Example\n",
    "<img src=\"http://grouplens.org/site-content/uploads/ml-logo.png\"/>\n",
    "\n",
    "\n",
    "We are going to use the Movielens dataset to build a recommendation system. The dataset provides recommendations over 100,000 ratings from 1000 users on 1700 movies. Full data can be found [here](http://grouplens.org/datasets/movielens/100k/). Please go ahead and download/unzip the data before we continue."
   ]
  },
  {
   "cell_type": "code",
   "execution_count": 1,
   "metadata": {
    "collapsed": true
   },
   "outputs": [],
   "source": [
    "import pandas as pd\n",
    "import numpy as np\n",
    "import matplotlib.pyplot as plt\n",
    "import seaborn as sb\n",
    "\n",
    "%matplotlib inline\n"
   ]
  },
  {
   "cell_type": "code",
<<<<<<< HEAD
   "execution_count": 5,
=======
   "execution_count": 2,
>>>>>>> upstream/master
   "metadata": {
    "collapsed": false
   },
   "outputs": [],
   "source": [
    "# You will have to possibly change where \"u.data\" and \"u.item\" can be found after downloading the dataset!\n",
    "\n",
    "rating_headers = ['user_id', 'movie_id', 'rating', 'timestamp']\n",
    "movie_ratings = pd.read_csv('ml-100k/u.data',sep=\"\\t\",names=rating_headers)\n",
    "\n",
    "movie_headers = ['movie_id','title','release_date','video_release_date','imdb_url','unknown','action','adventure',\n",
    "                 'animation','childrens','comedy','crime','docu','drama','fantasy','film-noir','horror','musical',\n",
    "                 'mystery','romance','scifi','thriller','war','western']\n",
    "movie_titles = pd.read_csv('ml-100k/u.item',sep='|',names=movie_headers)"
   ]
  },
  {
   "cell_type": "code",
<<<<<<< HEAD
   "execution_count": 6,
=======
   "execution_count": 3,
>>>>>>> upstream/master
   "metadata": {
    "collapsed": false
   },
   "outputs": [
    {
     "data": {
      "text/html": [
       "<div>\n",
       "<table border=\"1\" class=\"dataframe\">\n",
       "  <thead>\n",
       "    <tr style=\"text-align: right;\">\n",
       "      <th></th>\n",
       "      <th>user_id</th>\n",
       "      <th>movie_id</th>\n",
       "      <th>rating</th>\n",
       "      <th>timestamp</th>\n",
       "    </tr>\n",
       "  </thead>\n",
       "  <tbody>\n",
       "    <tr>\n",
       "      <th>0</th>\n",
       "      <td>196</td>\n",
       "      <td>242</td>\n",
       "      <td>3</td>\n",
       "      <td>881250949</td>\n",
       "    </tr>\n",
       "    <tr>\n",
       "      <th>1</th>\n",
       "      <td>186</td>\n",
       "      <td>302</td>\n",
       "      <td>3</td>\n",
       "      <td>891717742</td>\n",
       "    </tr>\n",
       "    <tr>\n",
       "      <th>2</th>\n",
       "      <td>22</td>\n",
       "      <td>377</td>\n",
       "      <td>1</td>\n",
       "      <td>878887116</td>\n",
       "    </tr>\n",
       "    <tr>\n",
       "      <th>3</th>\n",
       "      <td>244</td>\n",
       "      <td>51</td>\n",
       "      <td>2</td>\n",
       "      <td>880606923</td>\n",
       "    </tr>\n",
       "    <tr>\n",
       "      <th>4</th>\n",
       "      <td>166</td>\n",
       "      <td>346</td>\n",
       "      <td>1</td>\n",
       "      <td>886397596</td>\n",
       "    </tr>\n",
       "  </tbody>\n",
       "</table>\n",
       "</div>"
      ],
      "text/plain": [
       "   user_id  movie_id  rating  timestamp\n",
       "0      196       242       3  881250949\n",
       "1      186       302       3  891717742\n",
       "2       22       377       1  878887116\n",
       "3      244        51       2  880606923\n",
       "4      166       346       1  886397596"
      ]
     },
<<<<<<< HEAD
     "execution_count": 6,
=======
     "execution_count": 3,
>>>>>>> upstream/master
     "metadata": {},
     "output_type": "execute_result"
    }
   ],
   "source": [
    "movie_ratings.head()"
   ]
  },
  {
   "cell_type": "code",
<<<<<<< HEAD
   "execution_count": 7,
=======
   "execution_count": 4,
>>>>>>> upstream/master
   "metadata": {
    "collapsed": false
   },
   "outputs": [
    {
     "data": {
      "text/html": [
       "<div>\n",
       "<table border=\"1\" class=\"dataframe\">\n",
       "  <thead>\n",
       "    <tr style=\"text-align: right;\">\n",
       "      <th></th>\n",
       "      <th>user_id</th>\n",
       "      <th>movie_id</th>\n",
       "      <th>rating</th>\n",
       "    </tr>\n",
       "  </thead>\n",
       "  <tbody>\n",
       "    <tr>\n",
       "      <th>0</th>\n",
       "      <td>196</td>\n",
       "      <td>242</td>\n",
       "      <td>3</td>\n",
       "    </tr>\n",
       "    <tr>\n",
       "      <th>1</th>\n",
       "      <td>186</td>\n",
       "      <td>302</td>\n",
       "      <td>3</td>\n",
       "    </tr>\n",
       "    <tr>\n",
       "      <th>2</th>\n",
       "      <td>22</td>\n",
       "      <td>377</td>\n",
       "      <td>1</td>\n",
       "    </tr>\n",
       "    <tr>\n",
       "      <th>3</th>\n",
       "      <td>244</td>\n",
       "      <td>51</td>\n",
       "      <td>2</td>\n",
       "    </tr>\n",
       "    <tr>\n",
       "      <th>4</th>\n",
       "      <td>166</td>\n",
       "      <td>346</td>\n",
       "      <td>1</td>\n",
       "    </tr>\n",
       "  </tbody>\n",
       "</table>\n",
       "</div>"
      ],
      "text/plain": [
       "   user_id  movie_id  rating\n",
       "0      196       242       3\n",
       "1      186       302       3\n",
       "2       22       377       1\n",
       "3      244        51       2\n",
       "4      166       346       1"
      ]
     },
<<<<<<< HEAD
     "execution_count": 7,
=======
     "execution_count": 4,
>>>>>>> upstream/master
     "metadata": {},
     "output_type": "execute_result"
    }
   ],
   "source": [
    "# We don't really care for the timestamp, so lets drop it\n",
    "movie_ratings.drop(\"timestamp\",axis=1,inplace=True)\n",
    "movie_ratings.head()"
   ]
  },
  {
   "cell_type": "code",
<<<<<<< HEAD
   "execution_count": 8,
=======
   "execution_count": 5,
>>>>>>> upstream/master
   "metadata": {
    "collapsed": false
   },
   "outputs": [
    {
     "data": {
      "text/html": [
       "<div>\n",
       "<table border=\"1\" class=\"dataframe\">\n",
       "  <thead>\n",
       "    <tr style=\"text-align: right;\">\n",
       "      <th></th>\n",
       "      <th>movie_id</th>\n",
       "      <th>title</th>\n",
       "      <th>release_date</th>\n",
       "      <th>video_release_date</th>\n",
       "      <th>imdb_url</th>\n",
       "      <th>unknown</th>\n",
       "      <th>action</th>\n",
       "      <th>adventure</th>\n",
       "      <th>animation</th>\n",
       "      <th>childrens</th>\n",
       "      <th>...</th>\n",
       "      <th>fantasy</th>\n",
       "      <th>film-noir</th>\n",
       "      <th>horror</th>\n",
       "      <th>musical</th>\n",
       "      <th>mystery</th>\n",
       "      <th>romance</th>\n",
       "      <th>scifi</th>\n",
       "      <th>thriller</th>\n",
       "      <th>war</th>\n",
       "      <th>western</th>\n",
       "    </tr>\n",
       "  </thead>\n",
       "  <tbody>\n",
       "    <tr>\n",
       "      <th>0</th>\n",
       "      <td>1</td>\n",
       "      <td>Toy Story (1995)</td>\n",
       "      <td>01-Jan-1995</td>\n",
       "      <td>NaN</td>\n",
       "      <td>http://us.imdb.com/M/title-exact?Toy%20Story%2...</td>\n",
       "      <td>0</td>\n",
       "      <td>0</td>\n",
       "      <td>0</td>\n",
       "      <td>1</td>\n",
       "      <td>1</td>\n",
       "      <td>...</td>\n",
       "      <td>0</td>\n",
       "      <td>0</td>\n",
       "      <td>0</td>\n",
       "      <td>0</td>\n",
       "      <td>0</td>\n",
       "      <td>0</td>\n",
       "      <td>0</td>\n",
       "      <td>0</td>\n",
       "      <td>0</td>\n",
       "      <td>0</td>\n",
       "    </tr>\n",
       "    <tr>\n",
       "      <th>1</th>\n",
       "      <td>2</td>\n",
       "      <td>GoldenEye (1995)</td>\n",
       "      <td>01-Jan-1995</td>\n",
       "      <td>NaN</td>\n",
       "      <td>http://us.imdb.com/M/title-exact?GoldenEye%20(...</td>\n",
       "      <td>0</td>\n",
       "      <td>1</td>\n",
       "      <td>1</td>\n",
       "      <td>0</td>\n",
       "      <td>0</td>\n",
       "      <td>...</td>\n",
       "      <td>0</td>\n",
       "      <td>0</td>\n",
       "      <td>0</td>\n",
       "      <td>0</td>\n",
       "      <td>0</td>\n",
       "      <td>0</td>\n",
       "      <td>0</td>\n",
       "      <td>1</td>\n",
       "      <td>0</td>\n",
       "      <td>0</td>\n",
       "    </tr>\n",
       "    <tr>\n",
       "      <th>2</th>\n",
       "      <td>3</td>\n",
       "      <td>Four Rooms (1995)</td>\n",
       "      <td>01-Jan-1995</td>\n",
       "      <td>NaN</td>\n",
       "      <td>http://us.imdb.com/M/title-exact?Four%20Rooms%...</td>\n",
       "      <td>0</td>\n",
       "      <td>0</td>\n",
       "      <td>0</td>\n",
       "      <td>0</td>\n",
       "      <td>0</td>\n",
       "      <td>...</td>\n",
       "      <td>0</td>\n",
       "      <td>0</td>\n",
       "      <td>0</td>\n",
       "      <td>0</td>\n",
       "      <td>0</td>\n",
       "      <td>0</td>\n",
       "      <td>0</td>\n",
       "      <td>1</td>\n",
       "      <td>0</td>\n",
       "      <td>0</td>\n",
       "    </tr>\n",
       "    <tr>\n",
       "      <th>3</th>\n",
       "      <td>4</td>\n",
       "      <td>Get Shorty (1995)</td>\n",
       "      <td>01-Jan-1995</td>\n",
       "      <td>NaN</td>\n",
       "      <td>http://us.imdb.com/M/title-exact?Get%20Shorty%...</td>\n",
       "      <td>0</td>\n",
       "      <td>1</td>\n",
       "      <td>0</td>\n",
       "      <td>0</td>\n",
       "      <td>0</td>\n",
       "      <td>...</td>\n",
       "      <td>0</td>\n",
       "      <td>0</td>\n",
       "      <td>0</td>\n",
       "      <td>0</td>\n",
       "      <td>0</td>\n",
       "      <td>0</td>\n",
       "      <td>0</td>\n",
       "      <td>0</td>\n",
       "      <td>0</td>\n",
       "      <td>0</td>\n",
       "    </tr>\n",
       "    <tr>\n",
       "      <th>4</th>\n",
       "      <td>5</td>\n",
       "      <td>Copycat (1995)</td>\n",
       "      <td>01-Jan-1995</td>\n",
       "      <td>NaN</td>\n",
       "      <td>http://us.imdb.com/M/title-exact?Copycat%20(1995)</td>\n",
       "      <td>0</td>\n",
       "      <td>0</td>\n",
       "      <td>0</td>\n",
       "      <td>0</td>\n",
       "      <td>0</td>\n",
       "      <td>...</td>\n",
       "      <td>0</td>\n",
       "      <td>0</td>\n",
       "      <td>0</td>\n",
       "      <td>0</td>\n",
       "      <td>0</td>\n",
       "      <td>0</td>\n",
       "      <td>0</td>\n",
       "      <td>1</td>\n",
       "      <td>0</td>\n",
       "      <td>0</td>\n",
       "    </tr>\n",
       "  </tbody>\n",
       "</table>\n",
       "<p>5 rows × 24 columns</p>\n",
       "</div>"
      ],
      "text/plain": [
       "   movie_id              title release_date  video_release_date  \\\n",
       "0         1   Toy Story (1995)  01-Jan-1995                 NaN   \n",
       "1         2   GoldenEye (1995)  01-Jan-1995                 NaN   \n",
       "2         3  Four Rooms (1995)  01-Jan-1995                 NaN   \n",
       "3         4  Get Shorty (1995)  01-Jan-1995                 NaN   \n",
       "4         5     Copycat (1995)  01-Jan-1995                 NaN   \n",
       "\n",
       "                                            imdb_url  unknown  action  \\\n",
       "0  http://us.imdb.com/M/title-exact?Toy%20Story%2...        0       0   \n",
       "1  http://us.imdb.com/M/title-exact?GoldenEye%20(...        0       1   \n",
       "2  http://us.imdb.com/M/title-exact?Four%20Rooms%...        0       0   \n",
       "3  http://us.imdb.com/M/title-exact?Get%20Shorty%...        0       1   \n",
       "4  http://us.imdb.com/M/title-exact?Copycat%20(1995)        0       0   \n",
       "\n",
       "   adventure  animation  childrens   ...     fantasy  film-noir  horror  \\\n",
       "0          0          1          1   ...           0          0       0   \n",
       "1          1          0          0   ...           0          0       0   \n",
       "2          0          0          0   ...           0          0       0   \n",
       "3          0          0          0   ...           0          0       0   \n",
       "4          0          0          0   ...           0          0       0   \n",
       "\n",
       "   musical  mystery  romance  scifi  thriller  war  western  \n",
       "0        0        0        0      0         0    0        0  \n",
       "1        0        0        0      0         1    0        0  \n",
       "2        0        0        0      0         1    0        0  \n",
       "3        0        0        0      0         0    0        0  \n",
       "4        0        0        0      0         1    0        0  \n",
       "\n",
       "[5 rows x 24 columns]"
      ]
     },
<<<<<<< HEAD
     "execution_count": 8,
=======
     "execution_count": 5,
>>>>>>> upstream/master
     "metadata": {},
     "output_type": "execute_result"
    }
   ],
   "source": [
    "movie_titles.head()"
   ]
  },
  {
   "cell_type": "code",
<<<<<<< HEAD
   "execution_count": 9,
=======
   "execution_count": 6,
>>>>>>> upstream/master
   "metadata": {
    "collapsed": false
   },
   "outputs": [
    {
     "data": {
      "text/html": [
       "<div>\n",
       "<table border=\"1\" class=\"dataframe\">\n",
       "  <thead>\n",
       "    <tr style=\"text-align: right;\">\n",
       "      <th></th>\n",
       "      <th>movie_id</th>\n",
       "      <th>title</th>\n",
       "    </tr>\n",
       "  </thead>\n",
       "  <tbody>\n",
       "    <tr>\n",
       "      <th>0</th>\n",
       "      <td>1</td>\n",
       "      <td>Toy Story (1995)</td>\n",
       "    </tr>\n",
       "    <tr>\n",
       "      <th>1</th>\n",
       "      <td>2</td>\n",
       "      <td>GoldenEye (1995)</td>\n",
       "    </tr>\n",
       "    <tr>\n",
       "      <th>2</th>\n",
       "      <td>3</td>\n",
       "      <td>Four Rooms (1995)</td>\n",
       "    </tr>\n",
       "    <tr>\n",
       "      <th>3</th>\n",
       "      <td>4</td>\n",
       "      <td>Get Shorty (1995)</td>\n",
       "    </tr>\n",
       "    <tr>\n",
       "      <th>4</th>\n",
       "      <td>5</td>\n",
       "      <td>Copycat (1995)</td>\n",
       "    </tr>\n",
       "  </tbody>\n",
       "</table>\n",
       "</div>"
      ],
      "text/plain": [
       "   movie_id              title\n",
       "0         1   Toy Story (1995)\n",
       "1         2   GoldenEye (1995)\n",
       "2         3  Four Rooms (1995)\n",
       "3         4  Get Shorty (1995)\n",
       "4         5     Copycat (1995)"
      ]
     },
<<<<<<< HEAD
     "execution_count": 9,
=======
     "execution_count": 6,
>>>>>>> upstream/master
     "metadata": {},
     "output_type": "execute_result"
    }
   ],
   "source": [
    "# For now, all we really care about are the movie_id and the title-- the first two columns\n",
    "movie_titles.drop(movie_titles.columns[2:movie_titles.shape[1]],axis=1,inplace=True)\n",
    "movie_titles.head()"
   ]
  },
  {
   "cell_type": "code",
<<<<<<< HEAD
   "execution_count": 10,
=======
   "execution_count": 7,
>>>>>>> upstream/master
   "metadata": {
    "collapsed": false
   },
   "outputs": [
    {
     "data": {
      "text/html": [
       "<div>\n",
       "<table border=\"1\" class=\"dataframe\">\n",
       "  <thead>\n",
       "    <tr style=\"text-align: right;\">\n",
       "      <th></th>\n",
       "      <th>user_id</th>\n",
       "      <th>movie_id</th>\n",
       "      <th>rating</th>\n",
       "      <th>title</th>\n",
       "    </tr>\n",
       "  </thead>\n",
       "  <tbody>\n",
       "    <tr>\n",
       "      <th>0</th>\n",
       "      <td>196</td>\n",
       "      <td>242</td>\n",
       "      <td>3</td>\n",
       "      <td>Kolya (1996)</td>\n",
       "    </tr>\n",
       "    <tr>\n",
       "      <th>1</th>\n",
       "      <td>63</td>\n",
       "      <td>242</td>\n",
       "      <td>3</td>\n",
       "      <td>Kolya (1996)</td>\n",
       "    </tr>\n",
       "    <tr>\n",
       "      <th>2</th>\n",
       "      <td>226</td>\n",
       "      <td>242</td>\n",
       "      <td>5</td>\n",
       "      <td>Kolya (1996)</td>\n",
       "    </tr>\n",
       "    <tr>\n",
       "      <th>3</th>\n",
       "      <td>154</td>\n",
       "      <td>242</td>\n",
       "      <td>3</td>\n",
       "      <td>Kolya (1996)</td>\n",
       "    </tr>\n",
       "    <tr>\n",
       "      <th>4</th>\n",
       "      <td>306</td>\n",
       "      <td>242</td>\n",
       "      <td>5</td>\n",
       "      <td>Kolya (1996)</td>\n",
       "    </tr>\n",
       "  </tbody>\n",
       "</table>\n",
       "</div>"
      ],
      "text/plain": [
       "   user_id  movie_id  rating         title\n",
       "0      196       242       3  Kolya (1996)\n",
       "1       63       242       3  Kolya (1996)\n",
       "2      226       242       5  Kolya (1996)\n",
       "3      154       242       3  Kolya (1996)\n",
       "4      306       242       5  Kolya (1996)"
      ]
     },
<<<<<<< HEAD
     "execution_count": 10,
=======
     "execution_count": 7,
>>>>>>> upstream/master
     "metadata": {},
     "output_type": "execute_result"
    }
   ],
   "source": [
    "# Okay, let's merge on the movie ratings and movie titles by movie id\n",
    "# This will give us a more easily readable dataset\n",
    "df = movie_ratings.merge(movie_titles)\n",
    "df.head()"
   ]
  },
  {
   "cell_type": "code",
<<<<<<< HEAD
   "execution_count": 11,
=======
   "execution_count": 8,
>>>>>>> upstream/master
   "metadata": {
    "collapsed": false
   },
   "outputs": [
    {
     "data": {
      "text/plain": [
       "4    34174\n",
       "3    27145\n",
       "5    21201\n",
       "2    11370\n",
       "1     6110\n",
<<<<<<< HEAD
       "Name: rating, dtype: int64"
      ]
     },
     "execution_count": 11,
=======
       "dtype: int64"
      ]
     },
     "execution_count": 8,
>>>>>>> upstream/master
     "metadata": {},
     "output_type": "execute_result"
    }
   ],
   "source": [
    "# What do these ratings look like?\n",
    "df.rating.value_counts()"
   ]
  },
  {
   "cell_type": "code",
<<<<<<< HEAD
   "execution_count": 12,
=======
   "execution_count": 9,
>>>>>>> upstream/master
   "metadata": {
    "collapsed": false
   },
   "outputs": [
    {
     "data": {
      "text/plain": [
<<<<<<< HEAD
       "array([[<matplotlib.axes._subplots.AxesSubplot object at 0x10852ccd0>]], dtype=object)"
      ]
     },
     "execution_count": 12,
=======
       "array([[<matplotlib.axes._subplots.AxesSubplot object at 0x10a4b18d0>]], dtype=object)"
      ]
     },
     "execution_count": 9,
>>>>>>> upstream/master
     "metadata": {},
     "output_type": "execute_result"
    },
    {
     "data": {
      "image/png": "iVBORw0KGgoAAAANSUhEUgAAAYUAAAEKCAYAAAD9xUlFAAAABHNCSVQICAgIfAhkiAAAAAlwSFlz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\n",
      "text/plain": [
<<<<<<< HEAD
       "<matplotlib.figure.Figure at 0x10836bbd0>"
=======
       "<matplotlib.figure.Figure at 0x10a4b1190>"
>>>>>>> upstream/master
      ]
     },
     "metadata": {},
     "output_type": "display_data"
    }
   ],
   "source": [
    "df.hist('rating',bins=5) "
   ]
  },
  {
   "cell_type": "markdown",
   "metadata": {},
   "source": [
    "# Gameplan\n",
    "\n",
    "\n",
    "Okay, so we have a full dataset. We want to now perform some item based collaborative filtering. Before we can do that, we should normalize the ratings globally, and then reform the data into a matrix of user x movie.\n",
    "\n",
    "**Quiz:** Why would we not want to normalize ratings per movie?\n",
    "\n"
   ]
  },
  {
   "cell_type": "code",
<<<<<<< HEAD
   "execution_count": 13,
=======
   "execution_count": 10,
>>>>>>> upstream/master
   "metadata": {
    "collapsed": false
   },
   "outputs": [
    {
     "data": {
      "text/html": [
       "<div>\n",
       "<table border=\"1\" class=\"dataframe\">\n",
       "  <thead>\n",
       "    <tr style=\"text-align: right;\">\n",
       "      <th></th>\n",
       "      <th>user_id</th>\n",
       "      <th>movie_id</th>\n",
       "      <th>rating</th>\n",
       "      <th>title</th>\n",
       "      <th>rating_norm</th>\n",
       "    </tr>\n",
       "  </thead>\n",
       "  <tbody>\n",
       "    <tr>\n",
       "      <th>0</th>\n",
       "      <td>196</td>\n",
       "      <td>242</td>\n",
       "      <td>3</td>\n",
       "      <td>Kolya (1996)</td>\n",
       "      <td>-0.52986</td>\n",
       "    </tr>\n",
       "    <tr>\n",
       "      <th>1</th>\n",
       "      <td>63</td>\n",
       "      <td>242</td>\n",
       "      <td>3</td>\n",
       "      <td>Kolya (1996)</td>\n",
       "      <td>-0.52986</td>\n",
       "    </tr>\n",
       "    <tr>\n",
       "      <th>2</th>\n",
       "      <td>226</td>\n",
       "      <td>242</td>\n",
       "      <td>5</td>\n",
       "      <td>Kolya (1996)</td>\n",
       "      <td>1.47014</td>\n",
       "    </tr>\n",
       "    <tr>\n",
       "      <th>3</th>\n",
       "      <td>154</td>\n",
       "      <td>242</td>\n",
       "      <td>3</td>\n",
       "      <td>Kolya (1996)</td>\n",
       "      <td>-0.52986</td>\n",
       "    </tr>\n",
       "    <tr>\n",
       "      <th>4</th>\n",
       "      <td>306</td>\n",
       "      <td>242</td>\n",
       "      <td>5</td>\n",
       "      <td>Kolya (1996)</td>\n",
       "      <td>1.47014</td>\n",
       "    </tr>\n",
       "  </tbody>\n",
       "</table>\n",
       "</div>"
      ],
      "text/plain": [
       "   user_id  movie_id  rating         title  rating_norm\n",
       "0      196       242       3  Kolya (1996)     -0.52986\n",
       "1       63       242       3  Kolya (1996)     -0.52986\n",
       "2      226       242       5  Kolya (1996)      1.47014\n",
       "3      154       242       3  Kolya (1996)     -0.52986\n",
       "4      306       242       5  Kolya (1996)      1.47014"
      ]
     },
<<<<<<< HEAD
     "execution_count": 13,
=======
     "execution_count": 10,
>>>>>>> upstream/master
     "metadata": {},
     "output_type": "execute_result"
    }
   ],
   "source": [
    "df['rating_norm'] = df.rating - df.rating.mean()\n",
    "df.head()"
   ]
  },
  {
   "cell_type": "code",
<<<<<<< HEAD
   "execution_count": 14,
=======
   "execution_count": 11,
>>>>>>> upstream/master
   "metadata": {
    "collapsed": false
   },
   "outputs": [
    {
     "data": {
      "text/plain": [
<<<<<<< HEAD
       "<matplotlib.axes._subplots.AxesSubplot at 0x10967e090>"
      ]
     },
     "execution_count": 14,
=======
       "<matplotlib.axes._subplots.AxesSubplot at 0x10abc0190>"
      ]
     },
     "execution_count": 11,
>>>>>>> upstream/master
     "metadata": {},
     "output_type": "execute_result"
    },
    {
     "data": {
      "image/png": "iVBORw0KGgoAAAANSUhEUgAAAYUAAAECCAYAAAARlssoAAAABHNCSVQICAgIfAhkiAAAAAlwSFlz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\nqVztAAAAAElFTkSuQmCC\n",
      "text/plain": [
<<<<<<< HEAD
       "<matplotlib.figure.Figure at 0x10239b390>"
=======
       "<matplotlib.figure.Figure at 0x10ac14f90>"
>>>>>>> upstream/master
      ]
     },
     "metadata": {},
     "output_type": "display_data"
    }
   ],
   "source": [
    "df.rating_norm.hist()"
   ]
  },
  {
   "cell_type": "code",
<<<<<<< HEAD
   "execution_count": 15,
=======
   "execution_count": 12,
>>>>>>> upstream/master
   "metadata": {
    "collapsed": false,
    "scrolled": true
   },
   "outputs": [
    {
     "data": {
      "text/html": [
       "<div>\n",
       "<table border=\"1\" class=\"dataframe\">\n",
       "  <thead>\n",
       "    <tr style=\"text-align: right;\">\n",
       "      <th>title</th>\n",
       "      <th>'Til There Was You (1997)</th>\n",
       "      <th>1-900 (1994)</th>\n",
       "      <th>101 Dalmatians (1996)</th>\n",
       "      <th>12 Angry Men (1957)</th>\n",
       "      <th>187 (1997)</th>\n",
       "      <th>2 Days in the Valley (1996)</th>\n",
       "      <th>20,000 Leagues Under the Sea (1954)</th>\n",
       "      <th>2001: A Space Odyssey (1968)</th>\n",
       "      <th>3 Ninjas: High Noon At Mega Mountain (1998)</th>\n",
       "      <th>39 Steps, The (1935)</th>\n",
       "      <th>...</th>\n",
       "      <th>Yankee Zulu (1994)</th>\n",
       "      <th>Year of the Horse (1997)</th>\n",
       "      <th>You So Crazy (1994)</th>\n",
       "      <th>Young Frankenstein (1974)</th>\n",
       "      <th>Young Guns (1988)</th>\n",
       "      <th>Young Guns II (1990)</th>\n",
       "      <th>Young Poisoner's Handbook, The (1995)</th>\n",
       "      <th>Zeus and Roxanne (1997)</th>\n",
       "      <th>unknown</th>\n",
       "      <th>� k�ldum klaka (Cold Fever) (1994)</th>\n",
       "    </tr>\n",
       "    <tr>\n",
       "      <th>user_id</th>\n",
       "      <th></th>\n",
       "      <th></th>\n",
       "      <th></th>\n",
       "      <th></th>\n",
       "      <th></th>\n",
       "      <th></th>\n",
       "      <th></th>\n",
       "      <th></th>\n",
       "      <th></th>\n",
       "      <th></th>\n",
       "      <th></th>\n",
       "      <th></th>\n",
       "      <th></th>\n",
       "      <th></th>\n",
       "      <th></th>\n",
       "      <th></th>\n",
       "      <th></th>\n",
       "      <th></th>\n",
       "      <th></th>\n",
       "      <th></th>\n",
       "      <th></th>\n",
       "    </tr>\n",
       "  </thead>\n",
       "  <tbody>\n",
       "    <tr>\n",
       "      <th>1</th>\n",
       "      <td>0</td>\n",
       "      <td>0</td>\n",
       "      <td>-1.52986</td>\n",
       "      <td>1.47014</td>\n",
       "      <td>0.00000</td>\n",
       "      <td>0</td>\n",
       "      <td>-0.52986</td>\n",
       "      <td>0.47014</td>\n",
       "      <td>0.00000</td>\n",
       "      <td>0</td>\n",
       "      <td>...</td>\n",
       "      <td>0</td>\n",
       "      <td>0</td>\n",
       "      <td>0</td>\n",
       "      <td>1.47014</td>\n",
       "      <td>-0.52986</td>\n",
       "      <td>0</td>\n",
       "      <td>0</td>\n",
       "      <td>0</td>\n",
       "      <td>0.47014</td>\n",
       "      <td>0</td>\n",
       "    </tr>\n",
       "    <tr>\n",
       "      <th>2</th>\n",
       "      <td>0</td>\n",
       "      <td>0</td>\n",
       "      <td>0.00000</td>\n",
       "      <td>0.00000</td>\n",
       "      <td>0.00000</td>\n",
       "      <td>0</td>\n",
       "      <td>0.00000</td>\n",
       "      <td>0.00000</td>\n",
       "      <td>-2.52986</td>\n",
       "      <td>0</td>\n",
       "      <td>...</td>\n",
       "      <td>0</td>\n",
       "      <td>0</td>\n",
       "      <td>0</td>\n",
       "      <td>0.00000</td>\n",
       "      <td>0.00000</td>\n",
       "      <td>0</td>\n",
       "      <td>0</td>\n",
       "      <td>0</td>\n",
       "      <td>0.00000</td>\n",
       "      <td>0</td>\n",
       "    </tr>\n",
       "    <tr>\n",
       "      <th>3</th>\n",
       "      <td>0</td>\n",
       "      <td>0</td>\n",
       "      <td>0.00000</td>\n",
       "      <td>0.00000</td>\n",
       "      <td>-1.52986</td>\n",
       "      <td>0</td>\n",
       "      <td>0.00000</td>\n",
       "      <td>0.00000</td>\n",
       "      <td>0.00000</td>\n",
       "      <td>0</td>\n",
       "      <td>...</td>\n",
       "      <td>0</td>\n",
       "      <td>0</td>\n",
       "      <td>0</td>\n",
       "      <td>0.00000</td>\n",
       "      <td>0.00000</td>\n",
       "      <td>0</td>\n",
       "      <td>0</td>\n",
       "      <td>0</td>\n",
       "      <td>0.00000</td>\n",
       "      <td>0</td>\n",
       "    </tr>\n",
       "    <tr>\n",
       "      <th>4</th>\n",
       "      <td>0</td>\n",
       "      <td>0</td>\n",
       "      <td>0.00000</td>\n",
       "      <td>0.00000</td>\n",
       "      <td>0.00000</td>\n",
       "      <td>0</td>\n",
       "      <td>0.00000</td>\n",
       "      <td>0.00000</td>\n",
       "      <td>0.00000</td>\n",
       "      <td>0</td>\n",
       "      <td>...</td>\n",
       "      <td>0</td>\n",
       "      <td>0</td>\n",
       "      <td>0</td>\n",
       "      <td>0.00000</td>\n",
       "      <td>0.00000</td>\n",
       "      <td>0</td>\n",
       "      <td>0</td>\n",
       "      <td>0</td>\n",
       "      <td>0.00000</td>\n",
       "      <td>0</td>\n",
       "    </tr>\n",
       "    <tr>\n",
       "      <th>5</th>\n",
       "      <td>0</td>\n",
       "      <td>0</td>\n",
       "      <td>-1.52986</td>\n",
       "      <td>0.00000</td>\n",
       "      <td>0.00000</td>\n",
       "      <td>0</td>\n",
       "      <td>0.00000</td>\n",
       "      <td>0.47014</td>\n",
       "      <td>0.00000</td>\n",
       "      <td>0</td>\n",
       "      <td>...</td>\n",
       "      <td>0</td>\n",
       "      <td>0</td>\n",
       "      <td>0</td>\n",
       "      <td>0.47014</td>\n",
       "      <td>0.00000</td>\n",
       "      <td>0</td>\n",
       "      <td>0</td>\n",
       "      <td>0</td>\n",
       "      <td>0.47014</td>\n",
       "      <td>0</td>\n",
       "    </tr>\n",
       "  </tbody>\n",
       "</table>\n",
       "<p>5 rows × 1664 columns</p>\n",
       "</div>"
      ],
      "text/plain": [
       "title    'Til There Was You (1997)  1-900 (1994)  101 Dalmatians (1996)  \\\n",
       "user_id                                                                   \n",
       "1                                0             0               -1.52986   \n",
       "2                                0             0                0.00000   \n",
       "3                                0             0                0.00000   \n",
       "4                                0             0                0.00000   \n",
       "5                                0             0               -1.52986   \n",
       "\n",
       "title    12 Angry Men (1957)  187 (1997)  2 Days in the Valley (1996)  \\\n",
       "user_id                                                                 \n",
       "1                    1.47014     0.00000                            0   \n",
       "2                    0.00000     0.00000                            0   \n",
       "3                    0.00000    -1.52986                            0   \n",
       "4                    0.00000     0.00000                            0   \n",
       "5                    0.00000     0.00000                            0   \n",
       "\n",
       "title    20,000 Leagues Under the Sea (1954)  2001: A Space Odyssey (1968)  \\\n",
       "user_id                                                                      \n",
       "1                                   -0.52986                       0.47014   \n",
       "2                                    0.00000                       0.00000   \n",
       "3                                    0.00000                       0.00000   \n",
       "4                                    0.00000                       0.00000   \n",
       "5                                    0.00000                       0.47014   \n",
       "\n",
       "title    3 Ninjas: High Noon At Mega Mountain (1998)  39 Steps, The (1935)  \\\n",
       "user_id                                                                      \n",
       "1                                            0.00000                     0   \n",
       "2                                           -2.52986                     0   \n",
       "3                                            0.00000                     0   \n",
       "4                                            0.00000                     0   \n",
       "5                                            0.00000                     0   \n",
       "\n",
       "title                   ...                  Yankee Zulu (1994)  \\\n",
       "user_id                 ...                                       \n",
       "1                       ...                                   0   \n",
       "2                       ...                                   0   \n",
       "3                       ...                                   0   \n",
       "4                       ...                                   0   \n",
       "5                       ...                                   0   \n",
       "\n",
       "title    Year of the Horse (1997)  You So Crazy (1994)  \\\n",
       "user_id                                                  \n",
       "1                               0                    0   \n",
       "2                               0                    0   \n",
       "3                               0                    0   \n",
       "4                               0                    0   \n",
       "5                               0                    0   \n",
       "\n",
       "title    Young Frankenstein (1974)  Young Guns (1988)  Young Guns II (1990)  \\\n",
       "user_id                                                                       \n",
       "1                          1.47014           -0.52986                     0   \n",
       "2                          0.00000            0.00000                     0   \n",
       "3                          0.00000            0.00000                     0   \n",
       "4                          0.00000            0.00000                     0   \n",
       "5                          0.47014            0.00000                     0   \n",
       "\n",
       "title    Young Poisoner's Handbook, The (1995)  Zeus and Roxanne (1997)  \\\n",
       "user_id                                                                   \n",
       "1                                            0                        0   \n",
       "2                                            0                        0   \n",
       "3                                            0                        0   \n",
       "4                                            0                        0   \n",
       "5                                            0                        0   \n",
       "\n",
       "title    unknown  � k�ldum klaka (Cold Fever) (1994)  \n",
       "user_id                                               \n",
       "1        0.47014                                   0  \n",
       "2        0.00000                                   0  \n",
       "3        0.00000                                   0  \n",
       "4        0.00000                                   0  \n",
       "5        0.47014                                   0  \n",
       "\n",
       "[5 rows x 1664 columns]"
      ]
     },
<<<<<<< HEAD
     "execution_count": 15,
=======
     "execution_count": 12,
>>>>>>> upstream/master
     "metadata": {},
     "output_type": "execute_result"
    }
   ],
   "source": [
    "# Going to use pivot_table to create exactly the matrix we want of user x movie, where each entry is\n",
    "# the rating. We will 0 fill if there is no rating.\n",
    "user_item_df = df.pivot_table(values=\"rating_norm\",index=\"user_id\",columns=\"title\",fill_value=0)\n",
    "user_item_df.head()"
   ]
  },
  {
   "cell_type": "markdown",
   "metadata": {},
   "source": [
    "There are many similarity metrics we could use to create a similarity matrix. The similarity matrix is a square matrix of item x item, where each entry is a metric with how similar the two items are.\n",
    "\n",
    "In this instance, we're going to define the similarity by column wise correlations."
   ]
  },
  {
   "cell_type": "code",
<<<<<<< HEAD
   "execution_count": 16,
=======
   "execution_count": 13,
>>>>>>> upstream/master
   "metadata": {
    "collapsed": false
   },
   "outputs": [],
   "source": [
    "corr_mat = pd.DataFrame(np.corrcoef(user_item_df,rowvar=0,bias=1),\n",
    "                        index=user_item_df.columns,\n",
    "                        columns=user_item_df.columns)"
   ]
  },
  {
   "cell_type": "code",
<<<<<<< HEAD
   "execution_count": 17,
=======
   "execution_count": 14,
>>>>>>> upstream/master
   "metadata": {
    "collapsed": false,
    "scrolled": true
   },
   "outputs": [
    {
<<<<<<< HEAD
     "name": "stderr",
     "output_type": "stream",
     "text": [
      "/Users/mac/anaconda/lib/python2.7/site-packages/ipykernel/__main__.py:1: FutureWarning: order is deprecated, use sort_values(...)\n",
      "  if __name__ == '__main__':\n"
     ]
    },
    {
=======
>>>>>>> upstream/master
     "data": {
      "text/plain": [
       "title\n",
       "Toy Story (1995)                             1.000000\n",
       "Beauty and the Beast (1991)                  0.281575\n",
       "Aladdin (1992)                               0.270408\n",
       "Apollo 13 (1995)                             0.259016\n",
       "Lion King, The (1994)                        0.246914\n",
       "Raiders of the Lost Ark (1981)               0.236894\n",
       "Jurassic Park (1993)                         0.221541\n",
       "E.T. the Extra-Terrestrial (1982)            0.216962\n",
       "Indiana Jones and the Last Crusade (1989)    0.214377\n",
       "Back to the Future (1985)                    0.197925\n",
       "Name: Toy Story (1995), dtype: float64"
      ]
     },
<<<<<<< HEAD
     "execution_count": 17,
=======
     "execution_count": 14,
>>>>>>> upstream/master
     "metadata": {},
     "output_type": "execute_result"
    }
   ],
   "source": [
    "corr_mat.loc[:,\"Toy Story (1995)\"].order(ascending=False)[:10] "
   ]
  },
  {
   "cell_type": "markdown",
   "metadata": {},
   "source": [
    "Pretty good! \"Youve watched Toy Story. You might also like Beauty and the Beast and Aladdin. (And maybe Apollo 13)\""
   ]
  },
  {
   "cell_type": "markdown",
   "metadata": {
    "collapsed": true
   },
   "source": [
    "# Exercise 1:\n",
    "    \n"
   ]
  },
  {
   "cell_type": "markdown",
   "metadata": {},
   "source": [
    "**Part 1** \n",
    "\n",
    "If you create a similarity matrix using vector cosine similarity rather than correlation, how do the top 10 \"similar\" movies for \"Toy Story (1995)\" change? Do they make sense?\n",
    "\n",
    "<img src=\"https://upload.wikimedia.org/math/7/0/6/706e3fbc6408ba68798bc970fc8a1fc6.png\"/>\n",
    "\n",
    "Given two movies `a` and `b`, you could compute this quantity as:\n",
    "```\n",
    "a.dot(b)/( np.linalg.norm(a) * np.linalg.norm(b) )\n",
    "```\n",
    "Hint: Think about how you could make this into a matrix operation"
   ]
  },
  {
   "cell_type": "code",
<<<<<<< HEAD
   "execution_count": 39,
=======
   "execution_count": 59,
   "metadata": {
    "collapsed": false
   },
   "outputs": [
    {
     "data": {
      "text/plain": [
       "title\n",
       "Toy Story (1995)                             1.000000\n",
       "Raiders of the Lost Ark (1981)               0.310892\n",
       "Apollo 13 (1995)                             0.302507\n",
       "Beauty and the Beast (1991)                  0.300320\n",
       "Aladdin (1992)                               0.294422\n",
       "Star Wars (1977)                             0.292913\n",
       "Lion King, The (1994)                        0.267139\n",
       "Indiana Jones and the Last Crusade (1989)    0.261589\n",
       "Empire Strikes Back, The (1980)              0.260567\n",
       "Schindler's List (1993)                      0.255726\n",
       "Name: Toy Story (1995), dtype: float64"
      ]
     },
     "execution_count": 59,
     "metadata": {},
     "output_type": "execute_result"
    }
   ],
   "source": [
    "xx = user_item_df.apply(lambda x: x / np.linalg.norm(x),axis=0)\n",
    "\n",
    "vec_mat = xx.T.dot(xx)\n",
    "\n",
    "vec_mat.loc[:,\"Toy Story (1995)\"].order(ascending=False)[:10]"
   ]
  },
  {
   "cell_type": "code",
   "execution_count": 18,
>>>>>>> upstream/master
   "metadata": {
    "collapsed": false
   },
   "outputs": [
    {
<<<<<<< HEAD
     "name": "stderr",
     "output_type": "stream",
     "text": [
      "/Users/mac/anaconda/lib/python2.7/site-packages/ipykernel/__main__.py:5: FutureWarning: order is deprecated, use sort_values(...)\n"
     ]
    },
    {
     "data": {
      "text/plain": [
       "title\n",
       "Toy Story (1995)                             1.000000\n",
       "Raiders of the Lost Ark (1981)               0.310892\n",
       "Apollo 13 (1995)                             0.302507\n",
       "Beauty and the Beast (1991)                  0.300320\n",
       "Aladdin (1992)                               0.294422\n",
       "Star Wars (1977)                             0.292913\n",
       "Lion King, The (1994)                        0.267139\n",
       "Indiana Jones and the Last Crusade (1989)    0.261589\n",
       "Empire Strikes Back, The (1980)              0.260567\n",
       "Schindler's List (1993)                      0.255726\n",
       "Name: Toy Story (1995), dtype: float64"
      ]
     },
     "execution_count": 39,
     "metadata": {},
     "output_type": "execute_result"
    }
   ],
   "source": [
    "                          \n",
    "xx = user_item_df.apply(lambda x: x / np.linalg.norm(x), axis = 0)\n",
    "vec_mat = xx.T.dot(xx)\n",
    "                          \n",
    "vec_mat.loc[:,\"Toy Story (1995)\"].order(ascending=False)[:10]"
=======
     "ename": "KeyboardInterrupt",
     "evalue": "",
     "output_type": "error",
     "traceback": [
      "\u001b[0;31m---------------------------------------------------------------------------\u001b[0m",
      "\u001b[0;31mKeyboardInterrupt\u001b[0m                         Traceback (most recent call last)",
      "\u001b[0;32m<ipython-input-18-3d93c7a03efb>\u001b[0m in \u001b[0;36m<module>\u001b[0;34m()\u001b[0m\n\u001b[1;32m      7\u001b[0m \u001b[0;32mfor\u001b[0m \u001b[0mmovie_a\u001b[0m \u001b[0;32min\u001b[0m \u001b[0muser_item_df\u001b[0m\u001b[0;34m.\u001b[0m\u001b[0mcolumns\u001b[0m\u001b[0;34m:\u001b[0m\u001b[0;34m\u001b[0m\u001b[0m\n\u001b[1;32m      8\u001b[0m     \u001b[0;32mfor\u001b[0m \u001b[0mmovie_b\u001b[0m \u001b[0;32min\u001b[0m \u001b[0muser_item_df\u001b[0m\u001b[0;34m.\u001b[0m\u001b[0mcolumns\u001b[0m\u001b[0;34m:\u001b[0m\u001b[0;34m\u001b[0m\u001b[0m\n\u001b[0;32m----> 9\u001b[0;31m         \u001b[0mvec_mat\u001b[0m\u001b[0;34m.\u001b[0m\u001b[0mloc\u001b[0m\u001b[0;34m[\u001b[0m\u001b[0mmovie_a\u001b[0m\u001b[0;34m,\u001b[0m\u001b[0mmovie_b\u001b[0m\u001b[0;34m]\u001b[0m \u001b[0;34m=\u001b[0m \u001b[0muser_item_df\u001b[0m\u001b[0;34m.\u001b[0m\u001b[0mloc\u001b[0m\u001b[0;34m[\u001b[0m\u001b[0;34m:\u001b[0m\u001b[0;34m,\u001b[0m\u001b[0mmovie_a\u001b[0m\u001b[0;34m]\u001b[0m\u001b[0;34m.\u001b[0m\u001b[0mdot\u001b[0m\u001b[0;34m(\u001b[0m \u001b[0muser_item_df\u001b[0m\u001b[0;34m.\u001b[0m\u001b[0mloc\u001b[0m\u001b[0;34m[\u001b[0m\u001b[0;34m:\u001b[0m\u001b[0;34m,\u001b[0m\u001b[0mmovie_b\u001b[0m\u001b[0;34m]\u001b[0m\u001b[0;34m)\u001b[0m \u001b[0;34m/\u001b[0m \u001b[0mnp\u001b[0m\u001b[0;34m.\u001b[0m\u001b[0mlinalg\u001b[0m\u001b[0;34m.\u001b[0m\u001b[0mnorm\u001b[0m\u001b[0;34m(\u001b[0m\u001b[0muser_item_df\u001b[0m\u001b[0;34m.\u001b[0m\u001b[0mloc\u001b[0m\u001b[0;34m[\u001b[0m\u001b[0;34m:\u001b[0m\u001b[0;34m,\u001b[0m\u001b[0mmovie_a\u001b[0m\u001b[0;34m]\u001b[0m\u001b[0;34m)\u001b[0m \u001b[0;34m/\u001b[0m \u001b[0mnp\u001b[0m\u001b[0;34m.\u001b[0m\u001b[0mlinalg\u001b[0m\u001b[0;34m.\u001b[0m\u001b[0mnorm\u001b[0m\u001b[0;34m(\u001b[0m\u001b[0muser_item_df\u001b[0m\u001b[0;34m.\u001b[0m\u001b[0mloc\u001b[0m\u001b[0;34m[\u001b[0m\u001b[0;34m:\u001b[0m\u001b[0;34m,\u001b[0m\u001b[0mmovie_b\u001b[0m\u001b[0;34m]\u001b[0m\u001b[0;34m)\u001b[0m\u001b[0;34m\u001b[0m\u001b[0m\n\u001b[0m",
      "\u001b[0;32m/Users/brianchung/anaconda/lib/python2.7/site-packages/numpy/linalg/linalg.pyc\u001b[0m in \u001b[0;36mnorm\u001b[0;34m(x, ord, axis)\u001b[0m\n\u001b[1;32m   2050\u001b[0m \u001b[0;34m\u001b[0m\u001b[0m\n\u001b[1;32m   2051\u001b[0m     \"\"\"\n\u001b[0;32m-> 2052\u001b[0;31m     \u001b[0mx\u001b[0m \u001b[0;34m=\u001b[0m \u001b[0masarray\u001b[0m\u001b[0;34m(\u001b[0m\u001b[0mx\u001b[0m\u001b[0;34m)\u001b[0m\u001b[0;34m\u001b[0m\u001b[0m\n\u001b[0m\u001b[1;32m   2053\u001b[0m \u001b[0;34m\u001b[0m\u001b[0m\n\u001b[1;32m   2054\u001b[0m     \u001b[0;31m# Check the default case first and handle it immediately.\u001b[0m\u001b[0;34m\u001b[0m\u001b[0;34m\u001b[0m\u001b[0m\n",
      "\u001b[0;32m/Users/brianchung/anaconda/lib/python2.7/site-packages/numpy/core/numeric.pyc\u001b[0m in \u001b[0;36masarray\u001b[0;34m(a, dtype, order)\u001b[0m\n\u001b[1;32m    460\u001b[0m \u001b[0;34m\u001b[0m\u001b[0m\n\u001b[1;32m    461\u001b[0m     \"\"\"\n\u001b[0;32m--> 462\u001b[0;31m     \u001b[0;32mreturn\u001b[0m \u001b[0marray\u001b[0m\u001b[0;34m(\u001b[0m\u001b[0ma\u001b[0m\u001b[0;34m,\u001b[0m \u001b[0mdtype\u001b[0m\u001b[0;34m,\u001b[0m \u001b[0mcopy\u001b[0m\u001b[0;34m=\u001b[0m\u001b[0mFalse\u001b[0m\u001b[0;34m,\u001b[0m \u001b[0morder\u001b[0m\u001b[0;34m=\u001b[0m\u001b[0morder\u001b[0m\u001b[0;34m)\u001b[0m\u001b[0;34m\u001b[0m\u001b[0m\n\u001b[0m\u001b[1;32m    463\u001b[0m \u001b[0;34m\u001b[0m\u001b[0m\n\u001b[1;32m    464\u001b[0m \u001b[0;32mdef\u001b[0m \u001b[0masanyarray\u001b[0m\u001b[0;34m(\u001b[0m\u001b[0ma\u001b[0m\u001b[0;34m,\u001b[0m \u001b[0mdtype\u001b[0m\u001b[0;34m=\u001b[0m\u001b[0mNone\u001b[0m\u001b[0;34m,\u001b[0m \u001b[0morder\u001b[0m\u001b[0;34m=\u001b[0m\u001b[0mNone\u001b[0m\u001b[0;34m)\u001b[0m\u001b[0;34m:\u001b[0m\u001b[0;34m\u001b[0m\u001b[0m\n",
      "\u001b[0;31mKeyboardInterrupt\u001b[0m: "
     ]
    }
   ],
   "source": [
    "vec_mat = pd.DataFrame(0,\n",
    "                        index=user_item_df.columns,\n",
    "                        columns=user_item_df.columns)\n",
    "\n",
    "vec_mat\n",
    "\n",
    "for movie_a in user_item_df.columns:\n",
    "    for movie_b in user_item_df.columns:\n",
    "        vec_mat.loc[movie_a,movie_b] = user_item_df.loc[:,movie_a].dot( user_item_df.loc[:,movie_b]) / np.linalg.norm(user_item_df.loc[:,movie_a]) / np.linalg.norm(user_item_df.loc[:,movie_b])"
>>>>>>> upstream/master
   ]
  },
  {
   "cell_type": "code",
   "execution_count": null,
   "metadata": {
    "collapsed": true
   },
   "outputs": [],
   "source": [
    "veccos_mat = pd.DataFrame((0),\n",
    "                        index=user_item_df.columns,\n",
    "                        columns=user_item_df.columns)\n",
    "veccos_mat\n",
    "for a in user_item_df.columns:\n",
    "    for b in user_item_df.columns:\n",
    "        value = a.dot(b)/( np.linalg.norm(a) * np.linalg.norm(b)\n",
    "        veccos_mat.loc(a,b) = user_item_df.loc[:,a].dot(user_item_df.loc)"
   ]
  },
  {
   "cell_type": "markdown",
   "metadata": {},
   "source": [
    "Look at movie number 10. You would definitely want a hybrid approach here!!!"
   ]
  },
  {
   "cell_type": "markdown",
   "metadata": {},
   "source": [
    "**Part 2**\n",
    "\n",
    "We are going to go back to using the correlation matrix now. Let's do some predictions for user 224. (i.e. You will want to use the Pandas \"loc\" function to access the _label_ 224, and not the _index_ 224. [More here](http://pandas.pydata.org/pandas-docs/stable/indexing.html)\n",
    "\n",
    "\n",
    "What are the top 10 movies that user 224 liked?"
   ]
  },
  {
   "cell_type": "code",
<<<<<<< HEAD
   "execution_count": 40,
=======
   "execution_count": 19,
>>>>>>> upstream/master
   "metadata": {
    "collapsed": false
   },
   "outputs": [
    {
<<<<<<< HEAD
     "name": "stderr",
     "output_type": "stream",
     "text": [
      "/Users/mac/anaconda/lib/python2.7/site-packages/ipykernel/__main__.py:1: FutureWarning: order is deprecated, use sort_values(...)\n",
      "  if __name__ == '__main__':\n"
     ]
    },
    {
=======
>>>>>>> upstream/master
     "data": {
      "text/plain": [
       "title\n",
       "Titanic (1997)               1.47014\n",
       "Hamlet (1996)                1.47014\n",
       "Dances with Wolves (1990)    1.47014\n",
       "Somewhere in Time (1980)     1.47014\n",
       "Braveheart (1995)            1.47014\n",
       "Schindler's List (1993)      1.47014\n",
       "Ghost (1990)                 1.47014\n",
       "Forrest Gump (1994)          0.47014\n",
       "Little Women (1994)          0.47014\n",
       "Tombstone (1993)             0.47014\n",
       "Name: 224, dtype: float64"
      ]
     },
<<<<<<< HEAD
     "execution_count": 40,
=======
     "execution_count": 19,
>>>>>>> upstream/master
     "metadata": {},
     "output_type": "execute_result"
    }
   ],
   "source": [
    "user_item_df.loc[224,:].order(ascending=False)[:10]"
   ]
  },
  {
   "cell_type": "markdown",
   "metadata": {},
   "source": [
    "**Part 3**\n",
    "\n",
    "Now, we are going to recommend user 224 some movies! The simplest way to get a set of recommended movies is to take the dot product of user_224 with our correlation matrix.\n",
    "```\n",
    "user_224_recs = user_224_series.dot( corr_mat )\n",
    "```\n",
    "\n",
    "What are the top 10 movies we would recommend user 224?"
   ]
  },
  {
   "cell_type": "code",
<<<<<<< HEAD
   "execution_count": 41,
=======
   "execution_count": 20,
>>>>>>> upstream/master
   "metadata": {
    "collapsed": false
   },
   "outputs": [
    {
<<<<<<< HEAD
     "name": "stderr",
     "output_type": "stream",
     "text": [
      "/Users/mac/anaconda/lib/python2.7/site-packages/ipykernel/__main__.py:3: FutureWarning: order is deprecated, use sort_values(...)\n",
      "  app.launch_new_instance()\n"
     ]
    },
    {
=======
>>>>>>> upstream/master
     "data": {
      "text/plain": [
       "title\n",
       "Braveheart (1995)                 4.722225\n",
       "Hamlet (1996)                     4.646045\n",
       "Schindler's List (1993)           4.432198\n",
       "Spanish Prisoner, The (1997)      3.735947\n",
       "Brothers in Trouble (1995)        3.735947\n",
       "Butcher Boy, The (1998)           3.735947\n",
       "Glory (1989)                      3.705769\n",
       "Titanic (1997)                    3.657347\n",
       "Friday (1995)                     3.172157\n",
       "Man Without a Face, The (1993)    3.024315\n",
       "Name: 224, dtype: float64"
      ]
     },
<<<<<<< HEAD
     "execution_count": 41,
=======
     "execution_count": 20,
>>>>>>> upstream/master
     "metadata": {},
     "output_type": "execute_result"
    }
   ],
   "source": [
<<<<<<< HEAD
    "myUser = user_item_df.loc[224,:]\n",
    "myUserRecs = pd.Series(myUser.T.dot(corr_mat),index=corr_mat.index)\n",
=======
    "myUser = user_item_df.loc[224,:] \n",
    "myUserRecs = pd.Series(myUser.T.dot(corr_mat),index=corr_mat.index) \n",
>>>>>>> upstream/master
    "myUserRecs.order(ascending=False)[:10]"
   ]
  },
  {
   "cell_type": "markdown",
   "metadata": {},
   "source": [
    "**Part 4**\n",
    "\n",
    "This is hard to visualize if our item based collaborative filtering is working well or not. Let's use seaborn to plot out a scatter of the items they rated, and our predictions for those items.\n",
    "```\n",
    "sb.regplot( user_224_series, user_224_recs )\n",
    "```"
   ]
  },
  {
   "cell_type": "code",
<<<<<<< HEAD
   "execution_count": 43,
=======
   "execution_count": 21,
>>>>>>> upstream/master
   "metadata": {
    "collapsed": false
   },
   "outputs": [
    {
     "data": {
      "text/plain": [
<<<<<<< HEAD
       "<matplotlib.axes._subplots.AxesSubplot at 0x1083861d0>"
      ]
     },
     "execution_count": 43,
=======
       "<matplotlib.axes._subplots.AxesSubplot at 0x10a91d450>"
      ]
     },
     "execution_count": 21,
>>>>>>> upstream/master
     "metadata": {},
     "output_type": "execute_result"
    },
    {
<<<<<<< HEAD
     "name": "stderr",
     "output_type": "stream",
     "text": [
      "/Users/mac/anaconda/lib/python2.7/site-packages/matplotlib/collections.py:590: FutureWarning: elementwise comparison failed; returning scalar instead, but in the future will perform elementwise comparison\n",
      "  if self._edgecolors == str('face'):\n"
     ]
    },
    {
     "data": {
      "image/png": "iVBORw0KGgoAAAANSUhEUgAAAYUAAAERCAYAAACU1LsdAAAABHNCSVQICAgIfAhkiAAAAAlwSFlz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\nw96ZAAAAAElFTkSuQmCC\n",
      "text/plain": [
       "<matplotlib.figure.Figure at 0x10837df10>"
=======
     "data": {
      "image/png": "iVBORw0KGgoAAAANSUhEUgAAAYUAAAERCAYAAACU1LsdAAAABHNCSVQICAgIfAhkiAAAAAlwSFlz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\nYII=\n",
      "text/plain": [
       "<matplotlib.figure.Figure at 0x10aba4550>"
>>>>>>> upstream/master
      ]
     },
     "metadata": {},
     "output_type": "display_data"
    }
   ],
   "source": [
<<<<<<< HEAD
    "sb.regplot( myUser, myUserRecs,scatter_kws=dict(alpha=.4) )"
=======
    "sb.regplot(myUser,myUserRecs,scatter_kws=dict(alpha=.4))"
>>>>>>> upstream/master
   ]
  },
  {
   "cell_type": "markdown",
   "metadata": {},
   "source": [
    "Pretty good. We can ignore the actual numbers, but look at the trend. Roughly speaking, our predictions correlate well with their actually posted reviews. Now to be more accurate, we would have to run cross validation tests to confirm our recommendation engine.\n"
   ]
  },
  {
   "cell_type": "markdown",
   "metadata": {},
   "source": [
    "# Exercise 2:\n",
    "\n",
    "Recall the previous lecture's example on SVD. This time, use TruncatedSVD from the sklearn.decomposition module in order to decompose our data matrix of user x movie (where each item is the normalized rating).\n",
    "\n",
    "* Use TruncatedSVD to fit_transform our data matrix into a reduced matrix.\n",
    "* Plot the cumulative sum of explained\\_variance\\_ratio\\_.\n",
    "* Plot horizontal bargraphs of the first 8 components. What are the weights of the top 10 movies for each of these components?\n",
    "* Reconstruct the matrix using the svd.inverse_transform function and pass in your reduced matrix. This is equivalent to the following operation: reduced\\_matrix.dot( svd.components\\_ ). What are the top 10 recommendations for user 224?\n",
    "* Plot using sb.regplot user 224's ratings as well as the new recommendations for user 224."
   ]
  },
  {
   "cell_type": "code",
   "execution_count": 45,
   "metadata": {
    "collapsed": false
   },
   "outputs": [],
   "source": [
    "from sklearn.decomposition import TruncatedSVD"
   ]
  },
  {
   "cell_type": "code",
   "execution_count": null,
   "metadata": {
    "collapsed": true
   },
   "outputs": [],
   "source": []
  },
  {
   "cell_type": "code",
   "execution_count": null,
   "metadata": {
    "collapsed": true
   },
   "outputs": [],
   "source": []
  },
  {
   "cell_type": "code",
   "execution_count": null,
   "metadata": {
    "collapsed": true
   },
   "outputs": [],
   "source": []
  },
  {
   "cell_type": "markdown",
   "metadata": {
    "collapsed": true
   },
   "source": [
    "# Exercise 3 (Optional):\n",
    "\n",
    "\n",
    "The SVD method does not work as well when the matrix is very sparse (like now). Most recommendation systems instead try to model users and movies along some hidden feature space. The problem is having to solve for both some matrix X (user to feature) and some matrix Y (feature to movie). This can be solved using alternating least squares.\n",
    "\n",
    "Rough procedure, for N iterations:\n",
    "* Fix X. Solve for Y.\n",
    "* Fix Y. Solve for X.\n",
    "\n",
    "The following blog post has an example of alternative least squares solution. Try writing a version to solve and recommend based on the post:\n",
    "\n",
    "http://bugra.github.io/work/notes/2014-04-19/alternating-least-squares-method-for-collaborative-filtering/\n"
   ]
  },
  {
   "cell_type": "code",
   "execution_count": null,
   "metadata": {
    "collapsed": true
   },
   "outputs": [],
   "source": []
  },
  {
   "cell_type": "code",
   "execution_count": null,
   "metadata": {
    "collapsed": true
   },
   "outputs": [],
   "source": []
  },
  {
   "cell_type": "code",
   "execution_count": null,
   "metadata": {
    "collapsed": true
   },
   "outputs": [],
   "source": []
  },
  {
   "cell_type": "code",
   "execution_count": null,
   "metadata": {
    "collapsed": true
   },
   "outputs": [],
   "source": []
  },
  {
   "cell_type": "code",
   "execution_count": null,
   "metadata": {
    "collapsed": true
   },
   "outputs": [],
   "source": []
  },
  {
   "cell_type": "code",
   "execution_count": null,
   "metadata": {
    "collapsed": false
   },
   "outputs": [],
   "source": []
  },
  {
   "cell_type": "code",
   "execution_count": null,
   "metadata": {
    "collapsed": false
   },
   "outputs": [],
   "source": []
  },
  {
   "cell_type": "code",
   "execution_count": null,
   "metadata": {
    "collapsed": false
   },
   "outputs": [],
   "source": []
  },
  {
   "cell_type": "code",
   "execution_count": null,
   "metadata": {
    "collapsed": false
   },
   "outputs": [],
   "source": []
  },
  {
   "cell_type": "code",
   "execution_count": 15,
   "metadata": {
    "collapsed": true
   },
   "outputs": [],
   "source": [
    "from sklearn import decomposition"
   ]
  },
  {
   "cell_type": "code",
   "execution_count": 16,
   "metadata": {
    "collapsed": true
   },
   "outputs": [],
   "source": [
    "svd = decomposition.TruncatedSVD(n_components=500)"
   ]
  },
  {
   "cell_type": "code",
   "execution_count": 17,
   "metadata": {
    "collapsed": false
   },
   "outputs": [],
   "source": [
    "user_item_df_red = svd.fit_transform(user_item_df)"
   ]
  },
  {
   "cell_type": "code",
   "execution_count": 18,
   "metadata": {
    "collapsed": false
   },
   "outputs": [
    {
     "data": {
      "text/plain": [
       "[<matplotlib.lines.Line2D at 0x10b69c610>]"
      ]
     },
     "execution_count": 18,
     "metadata": {},
     "output_type": "execute_result"
    },
    {
     "data": {
      "image/png": "iVBORw0KGgoAAAANSUhEUgAAAXkAAAECCAYAAAAb5qc/AAAABHNCSVQICAgIfAhkiAAAAAlwSFlz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\nkBcRSWEKeRGRFKaQFxFJYf8fixifcpaExJUAAAAASUVORK5CYII=\n",
      "text/plain": [
       "<matplotlib.figure.Figure at 0x10c619e90>"
      ]
     },
     "metadata": {},
     "output_type": "display_data"
    }
   ],
   "source": [
    "plt.plot(np.cumsum(svd.explained_variance_ratio_))"
   ]
  },
  {
   "cell_type": "code",
   "execution_count": 19,
   "metadata": {
    "collapsed": false
   },
   "outputs": [
    {
     "data": {
      "image/png": "iVBORw0KGgoAAAANSUhEUgAACGgAAALHCAYAAADYCub2AAAABHNCSVQICAgIfAhkiAAAAAlwSFlz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\n",
      "text/plain": [
       "<matplotlib.figure.Figure at 0x10c044450>"
      ]
     },
     "metadata": {},
     "output_type": "display_data"
    }
   ],
   "source": [
    "top_components=8\n",
    "\n",
    "plt.figure(figsize=(30,10))\n",
    "\n",
    "#f, axes = plt.subplots(n_rows, n_cols, figsize=(20, n_rows * 3))\n",
    "\n",
    "for no, component in enumerate(svd.components_[:top_components]):\n",
    "    plt.subplot(2,4,no+1)\n",
    "    s = pd.Series(svd.components_[no], index=user_item_df.columns.values).sort(inplace=False)[-10:]\n",
    "    s.plot(kind='barh', title=\"Component %d\\nexplained variance %4.1f\" % (no, 100 * svd.explained_variance_ratio_[no]))\n",
    "\n",
    "f = plt.tight_layout()"
   ]
  },
  {
   "cell_type": "markdown",
   "metadata": {},
   "source": []
  },
  {
   "cell_type": "code",
   "execution_count": 26,
   "metadata": {
    "collapsed": false
   },
   "outputs": [],
   "source": [
    "user_item_df_rec = pd.DataFrame( svd.inverse_transform( user_item_df_red ), \n",
    "                                index= user_item_df.index, \n",
    "                                columns= user_item_df.columns )"
   ]
  },
  {
   "cell_type": "code",
   "execution_count": 38,
   "metadata": {
    "collapsed": false
   },
   "outputs": [
    {
     "data": {
      "text/plain": [
       "<matplotlib.axes._subplots.AxesSubplot at 0x10f924210>"
      ]
     },
     "execution_count": 38,
     "metadata": {},
     "output_type": "execute_result"
    },
    {
     "data": {
      "image/png": "iVBORw0KGgoAAAANSUhEUgAAAYAAAAERCAYAAABy/XBZAAAABHNCSVQICAgIfAhkiAAAAAlwSFlz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\n5yPRBlNJAuEAAAAASUVORK5CYII=\n",
      "text/plain": [
       "<matplotlib.figure.Figure at 0x10d0dbe90>"
      ]
     },
     "metadata": {},
     "output_type": "display_data"
    }
   ],
   "source": [
    "sb.regplot(user_item_df.loc[224,:],user_item_df_rec.loc[224,:])"
   ]
  },
  {
   "cell_type": "code",
   "execution_count": 42,
   "metadata": {
    "collapsed": false
   },
   "outputs": [
    {
     "name": "stdout",
     "output_type": "stream",
     "text": [
      "title\n",
      "Titanic (1997)               1.47014\n",
      "Hamlet (1996)                1.47014\n",
      "Dances with Wolves (1990)    1.47014\n",
      "Somewhere in Time (1980)     1.47014\n",
      "Braveheart (1995)            1.47014\n",
      "Schindler's List (1993)      1.47014\n",
      "Ghost (1990)                 1.47014\n",
      "Forrest Gump (1994)          0.47014\n",
      "Little Women (1994)          0.47014\n",
      "Tombstone (1993)             0.47014\n",
      "Name: 224, dtype: float64\n",
      "title\n",
      "Somewhere in Time (1980)         1.495525\n",
      "Ghost (1990)                     1.479694\n",
      "Dances with Wolves (1990)        1.475305\n",
      "Hamlet (1996)                    1.474767\n",
      "Titanic (1997)                   1.471440\n",
      "Braveheart (1995)                1.468243\n",
      "Schindler's List (1993)          1.459073\n",
      "Star Trek: Generations (1994)    0.512050\n",
      "Up Close and Personal (1996)     0.504793\n",
      "Piano, The (1993)                0.500854\n",
      "Name: 224, dtype: float64\n"
     ]
    }
   ],
   "source": [
    "print user_item_df.loc[224,:].order(ascending=False)[:10]\n",
    "\n",
    "print user_item_df_rec.loc[224,:].order(ascending=False)[:10]"
   ]
  },
  {
   "cell_type": "code",
   "execution_count": null,
   "metadata": {
    "collapsed": false
   },
   "outputs": [],
   "source": []
  },
  {
   "cell_type": "code",
   "execution_count": null,
   "metadata": {
    "collapsed": true
   },
   "outputs": [],
   "source": []
  }
 ],
 "metadata": {
  "kernelspec": {
   "display_name": "Python 2",
   "language": "python",
   "name": "python2"
  },
  "language_info": {
   "codemirror_mode": {
    "name": "ipython",
    "version": 2
   },
   "file_extension": ".py",
   "mimetype": "text/x-python",
   "name": "python",
   "nbconvert_exporter": "python",
   "pygments_lexer": "ipython2",
   "version": "2.7.11"
  }
 },
 "nbformat": 4,
 "nbformat_minor": 0
}
