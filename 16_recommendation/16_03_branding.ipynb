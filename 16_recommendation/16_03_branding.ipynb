{
 "cells": [
  {
   "cell_type": "markdown",
   "metadata": {},
   "source": [
    "# Who To Follow: Recommending Brands\n",
    "\n",
    "In this exercise, we consider a simple dataset: users following brands. We only know of a user follows a brand or not, but not how much he or she likes this brand.  Given the brands the user is following, we would like to recommend similar brands that s/he might be interested in.  \n",
    "\n",
    "\n",
    "This is another example of item-based collaborative filtering. Note! The original data comes in as a set of users following brands, so if we convert this data into a matrix of user x brand, we will encode each value as 0 (user does not follow brand) or 1 (user does follow brand). \n",
    "\n",
    "Given that we only have 1's and 0's, we probably should not use pearson correlation or vector cosine as a similarity metric.\n",
    "\n",
    "You could easily extend this to product recommendations (i.e. You purchase this product (1's and 0's). Here are some other products you might like).\n",
    "\n",
    "### Import code and data"
   ]
  },
  {
   "cell_type": "code",
   "execution_count": null,
   "metadata": {
    "collapsed": false
   },
   "outputs": [],
   "source": [
    "import numpy as np\n",
    "import pandas as pd\n",
    "import seaborn as sb\n",
    "from matplotlib import pyplot as plt\n",
    "%matplotlib inline"
   ]
  },
  {
   "cell_type": "code",
   "execution_count": null,
   "metadata": {
    "collapsed": false
   },
   "outputs": [],
   "source": [
    "data = pd.read_csv('user-brands.csv')\n",
    "data.head()"
   ]
  },
  {
   "cell_type": "code",
   "execution_count": null,
   "metadata": {
    "collapsed": false
   },
   "outputs": [],
   "source": [
    "print \"Shape:\", data.shape, \"Unique User IDs:\", data.id.nunique(), \"Unique Brands:\", data.brand.nunique()"
   ]
  },
  {
   "cell_type": "markdown",
   "metadata": {},
   "source": [
    "### User-by-brand matrix\n",
    "\n",
    "Note that our data above is in condensed format. We could make it into a sparse matrix, which might be easier to work with.  You could do this with `pd.pivot_table`:\n",
    "\n",
    "    M = pd.pivot_table(data, index='id', columns='brand', aggfunc='size', fill_value=0)\n",
    "\n",
    "We use a `groupby` statement, which gives us a multi-index series, and then we make an `unstack` call to transform it into a dataframe again.  \n",
    "\n",
    "Note that these steps are not necessary as you could complete this exercise in several different ways."
   ]
  },
  {
   "cell_type": "code",
   "execution_count": null,
   "metadata": {
    "collapsed": false
   },
   "outputs": [],
   "source": [
    "M = pd.pivot_table(data, index=\"id\",columns=\"brand\",aggfunc=\"size\",fill_value=0)"
   ]
  },
  {
   "cell_type": "code",
   "execution_count": null,
   "metadata": {
    "collapsed": false
   },
   "outputs": [],
   "source": [
    "M.head()"
   ]
  },
  {
   "cell_type": "markdown",
   "metadata": {},
   "source": [
    "### Jaccard distance\n",
    "\n",
    "Since we will use a neighborhood method, we need a definition of _distance_.  We'll use the _Jaccard distance_ for this. \n",
    "\n",
    "The [_Jaccard index_](https://en.wikipedia.org/wiki/Jaccard_index) is a similarity metric between two sets.  It measures how many elements two sets have in common, as a fraction of the total number of distinct elements in both sets.  \n",
    "\n",
    "$$\\text{Jaccard index} = \\frac{ |A \\cap B | }{ |A \\cup B| }$$\n",
    "\n",
    "We could make a Jaccard matrix $J$, with pairwise similarities $J_{ij}$ as entries.\n",
    "- `J[i, j]` = Jaccard similarity between doc _i_ and _j_ (between 0 and 1)\n",
    "- `J[i, i]` = 1, obviously, and\n",
    "- `J[i, j]` = `J[i, j]`, i.e., the matrix is symmetric.\n",
    "\n",
    "We could also define the _Jaccard distance_, which has $D_{ii} = 0$ for identical sets, and bigger values as the sets have less words in common.  We define: $D = 1 - J,$ which has values between 0 and 1.\n",
    "\n",
    "Common applications of the Jaccard index include text clustering, but we can use it for brand clustering as well, counting the number of followers they have in common."
   ]
  },
  {
   "cell_type": "markdown",
   "metadata": {},
   "source": [
    "<hr>\n",
    "## Exercise\n",
    "\n",
    "\n",
    "- Create a brand-by-brand matrix, with the similarity distances between two brands in each entry (i.e. create the D = 1 - J matrix)\n",
    "   - Obviously, you'd have $N_{ii} = 0$ for each brand $i$, and $N_{ij} = N_{ji}$ for each pair of brands.\n",
    "   - You can create a 2-dimenional `np.array` for this, or a nested dictionary `N = {i: {j: distance}}`, or anything you like.\n",
    "      \n",
    "      \n",
    "- For a few brands of your choice, show the top most similar brands.  \n",
    "   - Do your results make sense? Would you agree?\n",
    "   \n",
    "   \n",
    "- For a few users, make a few top recommendations.\n",
    "   - Per user, display the brands s/he's already following\n",
    "   - For each brand, compute the distance to all other brands\n",
    "   - Average all distances to find the few closest brands, with the shortest average distance\n",
    "   - Make sure you exclude the brands the user is already following from the recommendations\n",
    "   \n",
    "   \n",
    "**Hint: Remember that in this case, lower distances are closer matches!**"
   ]
  },
  {
   "cell_type": "code",
   "execution_count": null,
   "metadata": {
    "collapsed": false
   },
   "outputs": [],
   "source": []
  },
  {
   "cell_type": "code",
   "execution_count": null,
   "metadata": {
    "collapsed": true
   },
   "outputs": [],
   "source": []
  },
  {
   "cell_type": "code",
   "execution_count": null,
   "metadata": {
    "collapsed": true
   },
   "outputs": [],
   "source": []
  },
  {
   "cell_type": "code",
   "execution_count": null,
   "metadata": {
    "collapsed": true
   },
   "outputs": [],
   "source": []
  }
 ],
 "metadata": {
  "kernelspec": {
   "display_name": "Python 2",
   "language": "python",
   "name": "python2"
  },
  "language_info": {
   "codemirror_mode": {
    "name": "ipython",
    "version": 2
   },
   "file_extension": ".py",
   "mimetype": "text/x-python",
   "name": "python",
   "nbconvert_exporter": "python",
   "pygments_lexer": "ipython2",
   "version": "2.7.11"
  }
 },
 "nbformat": 4,
 "nbformat_minor": 0
}
