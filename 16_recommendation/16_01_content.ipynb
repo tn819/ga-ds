{
 "cells": [
  {
   "cell_type": "markdown",
   "metadata": {},
   "source": [
    "# Content Filtering - Movie Recommendations\n",
    "\n",
    "Content filtering (used by Pandora as well as NYT), involves mapping items as well as users onto a feature space.\n",
    "\n",
    "Let's do an in class example of this now using movie recommendations."
   ]
  },
  {
   "cell_type": "code",
   "execution_count": 2,
   "metadata": {
    "collapsed": true
   },
   "outputs": [],
   "source": [
    "import pandas as pd\n",
    "import numpy as np"
   ]
  },
  {
   "cell_type": "code",
   "execution_count": 3,
   "metadata": {
    "collapsed": false
   },
   "outputs": [],
   "source": [
    "features = ['child_friendly','action_packed','blockbusters','quirky','comedy']\n",
    "\n"
   ]
  },
  {
   "cell_type": "code",
   "execution_count": 4,
   "metadata": {
    "collapsed": false
   },
   "outputs": [
    {
     "data": {
      "text/html": [
       "<div>\n",
       "<table border=\"1\" class=\"dataframe\">\n",
       "  <thead>\n",
       "    <tr style=\"text-align: right;\">\n",
       "      <th></th>\n",
       "      <th>child_friendly</th>\n",
       "      <th>action_packed</th>\n",
       "      <th>blockbusters</th>\n",
       "      <th>quirky</th>\n",
       "      <th>comedy</th>\n",
       "    </tr>\n",
       "  </thead>\n",
       "  <tbody>\n",
       "    <tr>\n",
       "      <th>Peter</th>\n",
       "      <td>1</td>\n",
       "      <td>7</td>\n",
       "      <td>8</td>\n",
       "      <td>6</td>\n",
       "      <td>8</td>\n",
       "    </tr>\n",
       "    <tr>\n",
       "      <th>Walter</th>\n",
       "      <td>1</td>\n",
       "      <td>7</td>\n",
       "      <td>7</td>\n",
       "      <td>6</td>\n",
       "      <td>9</td>\n",
       "    </tr>\n",
       "    <tr>\n",
       "      <th>Erik</th>\n",
       "      <td>1</td>\n",
       "      <td>8</td>\n",
       "      <td>7</td>\n",
       "      <td>9</td>\n",
       "      <td>8</td>\n",
       "    </tr>\n",
       "    <tr>\n",
       "      <th>Dylan</th>\n",
       "      <td>9</td>\n",
       "      <td>9</td>\n",
       "      <td>10</td>\n",
       "      <td>8</td>\n",
       "      <td>7</td>\n",
       "    </tr>\n",
       "    <tr>\n",
       "      <th>Thomas</th>\n",
       "      <td>4</td>\n",
       "      <td>8</td>\n",
       "      <td>6</td>\n",
       "      <td>7</td>\n",
       "      <td>5</td>\n",
       "    </tr>\n",
       "    <tr>\n",
       "      <th>Song</th>\n",
       "      <td>1</td>\n",
       "      <td>4</td>\n",
       "      <td>7</td>\n",
       "      <td>6</td>\n",
       "      <td>8</td>\n",
       "    </tr>\n",
       "  </tbody>\n",
       "</table>\n",
       "</div>"
      ],
      "text/plain": [
       "        child_friendly  action_packed  blockbusters  quirky  comedy\n",
       "Peter                1              7             8       6       8\n",
       "Walter               1              7             7       6       9\n",
       "Erik                 1              8             7       9       8\n",
       "Dylan                9              9            10       8       7\n",
       "Thomas               4              8             6       7       5\n",
       "Song                 1              4             7       6       8"
      ]
     },
     "execution_count": 4,
     "metadata": {},
     "output_type": "execute_result"
    }
   ],
   "source": [
    "student_names = ['Peter','Walter','Erik','Dylan','Thomas','Song']\n",
    "\n",
    "user_matrix = pd.DataFrame([[1,7,8,6,8],\n",
    "                           [1,7,7,6,9],\n",
    "                           [1,8,7,9,8],\n",
    "                           [9,9,10,8,7],\n",
    "                           [4,8,6,7,5],\n",
    "                           [1,4,7,6,8] ],\n",
    "                           index=student_names,\n",
    "                           columns=features)\n",
    "\n",
    "user_matrix"
   ]
  },
  {
   "cell_type": "code",
   "execution_count": 5,
   "metadata": {
    "collapsed": false
   },
   "outputs": [
    {
     "data": {
      "text/html": [
       "<div>\n",
       "<table border=\"1\" class=\"dataframe\">\n",
       "  <thead>\n",
       "    <tr style=\"text-align: right;\">\n",
       "      <th></th>\n",
       "      <th>child_friendly</th>\n",
       "      <th>action_packed</th>\n",
       "      <th>blockbusters</th>\n",
       "      <th>quirky</th>\n",
       "      <th>comedy</th>\n",
       "    </tr>\n",
       "  </thead>\n",
       "  <tbody>\n",
       "    <tr>\n",
       "      <th>Peter</th>\n",
       "      <td>-4</td>\n",
       "      <td>2</td>\n",
       "      <td>3</td>\n",
       "      <td>1</td>\n",
       "      <td>3</td>\n",
       "    </tr>\n",
       "    <tr>\n",
       "      <th>Walter</th>\n",
       "      <td>-4</td>\n",
       "      <td>2</td>\n",
       "      <td>2</td>\n",
       "      <td>1</td>\n",
       "      <td>4</td>\n",
       "    </tr>\n",
       "    <tr>\n",
       "      <th>Erik</th>\n",
       "      <td>-4</td>\n",
       "      <td>3</td>\n",
       "      <td>2</td>\n",
       "      <td>4</td>\n",
       "      <td>3</td>\n",
       "    </tr>\n",
       "    <tr>\n",
       "      <th>Dylan</th>\n",
       "      <td>4</td>\n",
       "      <td>4</td>\n",
       "      <td>5</td>\n",
       "      <td>3</td>\n",
       "      <td>2</td>\n",
       "    </tr>\n",
       "    <tr>\n",
       "      <th>Thomas</th>\n",
       "      <td>-1</td>\n",
       "      <td>3</td>\n",
       "      <td>1</td>\n",
       "      <td>2</td>\n",
       "      <td>0</td>\n",
       "    </tr>\n",
       "    <tr>\n",
       "      <th>Song</th>\n",
       "      <td>-4</td>\n",
       "      <td>-1</td>\n",
       "      <td>2</td>\n",
       "      <td>1</td>\n",
       "      <td>3</td>\n",
       "    </tr>\n",
       "  </tbody>\n",
       "</table>\n",
       "</div>"
      ],
      "text/plain": [
       "        child_friendly  action_packed  blockbusters  quirky  comedy\n",
       "Peter               -4              2             3       1       3\n",
       "Walter              -4              2             2       1       4\n",
       "Erik                -4              3             2       4       3\n",
       "Dylan                4              4             5       3       2\n",
       "Thomas              -1              3             1       2       0\n",
       "Song                -4             -1             2       1       3"
      ]
     },
     "execution_count": 5,
     "metadata": {},
     "output_type": "execute_result"
    }
   ],
   "source": [
    "user_matrix - 5"
   ]
  },
  {
   "cell_type": "code",
   "execution_count": 8,
   "metadata": {
    "collapsed": false
   },
   "outputs": [
    {
     "data": {
      "text/html": [
       "<div>\n",
       "<table border=\"1\" class=\"dataframe\">\n",
       "  <thead>\n",
       "    <tr style=\"text-align: right;\">\n",
       "      <th></th>\n",
       "      <th>Finding Nemo</th>\n",
       "      <th>Die Hard</th>\n",
       "      <th>Grand Budapest Hotel</th>\n",
       "      <th>Dark Knight</th>\n",
       "      <th>Lion King</th>\n",
       "      <th>Amelie</th>\n",
       "      <th>Wolf of Wall Street</th>\n",
       "    </tr>\n",
       "  </thead>\n",
       "  <tbody>\n",
       "    <tr>\n",
       "      <th>child_friendly</th>\n",
       "      <td>10</td>\n",
       "      <td>0</td>\n",
       "      <td>0</td>\n",
       "      <td>1</td>\n",
       "      <td>10</td>\n",
       "      <td>1</td>\n",
       "      <td>0</td>\n",
       "    </tr>\n",
       "    <tr>\n",
       "      <th>action_packed</th>\n",
       "      <td>4</td>\n",
       "      <td>10</td>\n",
       "      <td>3</td>\n",
       "      <td>10</td>\n",
       "      <td>7</td>\n",
       "      <td>2</td>\n",
       "      <td>5</td>\n",
       "    </tr>\n",
       "    <tr>\n",
       "      <th>blockbusters</th>\n",
       "      <td>8</td>\n",
       "      <td>10</td>\n",
       "      <td>4</td>\n",
       "      <td>10</td>\n",
       "      <td>10</td>\n",
       "      <td>2</td>\n",
       "      <td>10</td>\n",
       "    </tr>\n",
       "    <tr>\n",
       "      <th>quirky</th>\n",
       "      <td>2</td>\n",
       "      <td>2</td>\n",
       "      <td>9</td>\n",
       "      <td>0</td>\n",
       "      <td>0</td>\n",
       "      <td>9</td>\n",
       "      <td>7</td>\n",
       "    </tr>\n",
       "    <tr>\n",
       "      <th>comedy</th>\n",
       "      <td>7</td>\n",
       "      <td>6</td>\n",
       "      <td>8</td>\n",
       "      <td>0</td>\n",
       "      <td>1</td>\n",
       "      <td>7</td>\n",
       "      <td>6</td>\n",
       "    </tr>\n",
       "  </tbody>\n",
       "</table>\n",
       "</div>"
      ],
      "text/plain": [
       "                Finding Nemo  Die Hard  Grand Budapest Hotel  Dark Knight  \\\n",
       "child_friendly            10         0                     0            1   \n",
       "action_packed              4        10                     3           10   \n",
       "blockbusters               8        10                     4           10   \n",
       "quirky                     2         2                     9            0   \n",
       "comedy                     7         6                     8            0   \n",
       "\n",
       "                Lion King  Amelie  Wolf of Wall Street  \n",
       "child_friendly         10       1                    0  \n",
       "action_packed           7       2                    5  \n",
       "blockbusters           10       2                   10  \n",
       "quirky                  0       9                    7  \n",
       "comedy                  1       7                    6  "
      ]
     },
     "execution_count": 8,
     "metadata": {},
     "output_type": "execute_result"
    }
   ],
   "source": [
    "movie_matrix.T"
   ]
  },
  {
   "cell_type": "code",
   "execution_count": 9,
   "metadata": {
    "collapsed": false
   },
   "outputs": [
    {
     "data": {
      "text/html": [
       "<div>\n",
       "<table border=\"1\" class=\"dataframe\">\n",
       "  <thead>\n",
       "    <tr style=\"text-align: right;\">\n",
       "      <th></th>\n",
       "      <th>Finding Nemo</th>\n",
       "      <th>Die Hard</th>\n",
       "      <th>Grand Budapest Hotel</th>\n",
       "      <th>Dark Knight</th>\n",
       "      <th>Lion King</th>\n",
       "      <th>Amelie</th>\n",
       "      <th>Wolf of Wall Street</th>\n",
       "    </tr>\n",
       "  </thead>\n",
       "  <tbody>\n",
       "    <tr>\n",
       "      <th>Peter</th>\n",
       "      <td>-10</td>\n",
       "      <td>45</td>\n",
       "      <td>26</td>\n",
       "      <td>21</td>\n",
       "      <td>-18</td>\n",
       "      <td>11</td>\n",
       "      <td>40</td>\n",
       "    </tr>\n",
       "    <tr>\n",
       "      <th>Walter</th>\n",
       "      <td>-11</td>\n",
       "      <td>41</td>\n",
       "      <td>30</td>\n",
       "      <td>11</td>\n",
       "      <td>-27</td>\n",
       "      <td>16</td>\n",
       "      <td>36</td>\n",
       "    </tr>\n",
       "    <tr>\n",
       "      <th>Erik</th>\n",
       "      <td>-23</td>\n",
       "      <td>36</td>\n",
       "      <td>37</td>\n",
       "      <td>6</td>\n",
       "      <td>-36</td>\n",
       "      <td>23</td>\n",
       "      <td>41</td>\n",
       "    </tr>\n",
       "    <tr>\n",
       "      <th>Dylan</th>\n",
       "      <td>26</td>\n",
       "      <td>18</td>\n",
       "      <td>-15</td>\n",
       "      <td>4</td>\n",
       "      <td>30</td>\n",
       "      <td>-27</td>\n",
       "      <td>13</td>\n",
       "    </tr>\n",
       "    <tr>\n",
       "      <th>Thomas</th>\n",
       "      <td>-11</td>\n",
       "      <td>19</td>\n",
       "      <td>6</td>\n",
       "      <td>14</td>\n",
       "      <td>-4</td>\n",
       "      <td>0</td>\n",
       "      <td>14</td>\n",
       "    </tr>\n",
       "    <tr>\n",
       "      <th>Song</th>\n",
       "      <td>-10</td>\n",
       "      <td>25</td>\n",
       "      <td>33</td>\n",
       "      <td>1</td>\n",
       "      <td>-29</td>\n",
       "      <td>23</td>\n",
       "      <td>35</td>\n",
       "    </tr>\n",
       "  </tbody>\n",
       "</table>\n",
       "</div>"
      ],
      "text/plain": [
       "        Finding Nemo  Die Hard  Grand Budapest Hotel  Dark Knight  Lion King  \\\n",
       "Peter            -10        45                    26           21        -18   \n",
       "Walter           -11        41                    30           11        -27   \n",
       "Erik             -23        36                    37            6        -36   \n",
       "Dylan             26        18                   -15            4         30   \n",
       "Thomas           -11        19                     6           14         -4   \n",
       "Song             -10        25                    33            1        -29   \n",
       "\n",
       "        Amelie  Wolf of Wall Street  \n",
       "Peter       11                   40  \n",
       "Walter      16                   36  \n",
       "Erik        23                   41  \n",
       "Dylan      -27                   13  \n",
       "Thomas       0                   14  \n",
       "Song        23                   35  "
      ]
     },
     "execution_count": 9,
     "metadata": {},
     "output_type": "execute_result"
    }
   ],
   "source": [
    "# Recommendations\n",
    "(user_matrix -5 ).dot( (movie_matrix -5).T )\n"
   ]
  },
  {
   "cell_type": "code",
   "execution_count": null,
   "metadata": {
    "collapsed": true
   },
   "outputs": [],
   "source": []
  },
  {
   "cell_type": "code",
   "execution_count": null,
   "metadata": {
    "collapsed": true
   },
   "outputs": [],
   "source": []
  },
  {
   "cell_type": "code",
   "execution_count": null,
   "metadata": {
    "collapsed": true
   },
   "outputs": [],
   "source": []
  },
  {
   "cell_type": "code",
   "execution_count": null,
   "metadata": {
    "collapsed": true
   },
   "outputs": [],
   "source": []
  },
  {
   "cell_type": "code",
   "execution_count": null,
   "metadata": {
    "collapsed": true
   },
   "outputs": [],
   "source": []
  },
  {
   "cell_type": "code",
   "execution_count": null,
   "metadata": {
    "collapsed": true
   },
   "outputs": [],
   "source": []
  },
  {
   "cell_type": "code",
   "execution_count": null,
   "metadata": {
    "collapsed": true
   },
   "outputs": [],
   "source": []
  },
  {
   "cell_type": "code",
   "execution_count": 6,
   "metadata": {
    "collapsed": false
   },
   "outputs": [
    {
     "data": {
      "text/html": [
       "<div>\n",
       "<table border=\"1\" class=\"dataframe\">\n",
       "  <thead>\n",
       "    <tr style=\"text-align: right;\">\n",
       "      <th></th>\n",
       "      <th>child_friendly</th>\n",
       "      <th>action_packed</th>\n",
       "      <th>blockbusters</th>\n",
       "      <th>quirky</th>\n",
       "      <th>comedy</th>\n",
       "    </tr>\n",
       "  </thead>\n",
       "  <tbody>\n",
       "    <tr>\n",
       "      <th>Finding Nemo</th>\n",
       "      <td>10</td>\n",
       "      <td>4</td>\n",
       "      <td>8</td>\n",
       "      <td>2</td>\n",
       "      <td>7</td>\n",
       "    </tr>\n",
       "    <tr>\n",
       "      <th>Die Hard</th>\n",
       "      <td>0</td>\n",
       "      <td>10</td>\n",
       "      <td>10</td>\n",
       "      <td>2</td>\n",
       "      <td>6</td>\n",
       "    </tr>\n",
       "    <tr>\n",
       "      <th>Grand Budapest Hotel</th>\n",
       "      <td>0</td>\n",
       "      <td>3</td>\n",
       "      <td>4</td>\n",
       "      <td>9</td>\n",
       "      <td>8</td>\n",
       "    </tr>\n",
       "    <tr>\n",
       "      <th>Dark Knight</th>\n",
       "      <td>1</td>\n",
       "      <td>10</td>\n",
       "      <td>10</td>\n",
       "      <td>0</td>\n",
       "      <td>0</td>\n",
       "    </tr>\n",
       "    <tr>\n",
       "      <th>Lion King</th>\n",
       "      <td>10</td>\n",
       "      <td>7</td>\n",
       "      <td>10</td>\n",
       "      <td>0</td>\n",
       "      <td>1</td>\n",
       "    </tr>\n",
       "    <tr>\n",
       "      <th>Amelie</th>\n",
       "      <td>1</td>\n",
       "      <td>2</td>\n",
       "      <td>2</td>\n",
       "      <td>9</td>\n",
       "      <td>7</td>\n",
       "    </tr>\n",
       "    <tr>\n",
       "      <th>Wolf of Wall Street</th>\n",
       "      <td>0</td>\n",
       "      <td>5</td>\n",
       "      <td>10</td>\n",
       "      <td>7</td>\n",
       "      <td>6</td>\n",
       "    </tr>\n",
       "  </tbody>\n",
       "</table>\n",
       "</div>"
      ],
      "text/plain": [
       "                      child_friendly  action_packed  blockbusters  quirky  \\\n",
       "Finding Nemo                      10              4             8       2   \n",
       "Die Hard                           0             10            10       2   \n",
       "Grand Budapest Hotel               0              3             4       9   \n",
       "Dark Knight                        1             10            10       0   \n",
       "Lion King                         10              7            10       0   \n",
       "Amelie                             1              2             2       9   \n",
       "Wolf of Wall Street                0              5            10       7   \n",
       "\n",
       "                      comedy  \n",
       "Finding Nemo               7  \n",
       "Die Hard                   6  \n",
       "Grand Budapest Hotel       8  \n",
       "Dark Knight                0  \n",
       "Lion King                  1  \n",
       "Amelie                     7  \n",
       "Wolf of Wall Street        6  "
      ]
     },
     "execution_count": 6,
     "metadata": {},
     "output_type": "execute_result"
    }
   ],
   "source": [
    "\n",
    "movie_matrix = pd.DataFrame([[10,4,8,2,7],\n",
    "                             [0,10,10,2,6],\n",
    "                             [0,3,4,9,8],\n",
    "                             [1,10,10,0,0],\n",
    "                             [10,7,10,0,1],\n",
    "                             [1,2,2,9,7],\n",
    "                             [0,5,10,7,6]],\n",
    "                            index=['Finding Nemo',\n",
    "                                   'Die Hard',\n",
    "                                   'Grand Budapest Hotel',\n",
    "                                   'Dark Knight',\n",
    "                                   'Lion King',\n",
    "                                   'Amelie',\n",
    "                                   'Wolf of Wall Street'],\n",
    "                            columns=features)\n",
    "\n",
    "movie_matrix"
   ]
  },
  {
   "cell_type": "code",
   "execution_count": null,
   "metadata": {
    "collapsed": false
   },
   "outputs": [],
   "source": [
    "user_matrix.dot(movie_matrix.T)"
   ]
  },
  {
   "cell_type": "code",
   "execution_count": 10,
   "metadata": {
    "collapsed": false
   },
   "outputs": [
    {
     "data": {
      "text/html": [
       "<div>\n",
       "<table border=\"1\" class=\"dataframe\">\n",
       "  <thead>\n",
       "    <tr style=\"text-align: right;\">\n",
       "      <th></th>\n",
       "      <th>Finding Nemo</th>\n",
       "      <th>Die Hard</th>\n",
       "      <th>Grand Budapest Hotel</th>\n",
       "      <th>Dark Knight</th>\n",
       "      <th>Lion King</th>\n",
       "      <th>Amelie</th>\n",
       "      <th>Wolf of Wall Street</th>\n",
       "    </tr>\n",
       "  </thead>\n",
       "  <tbody>\n",
       "    <tr>\n",
       "      <th>Peter</th>\n",
       "      <td>-10</td>\n",
       "      <td>45</td>\n",
       "      <td>26</td>\n",
       "      <td>21</td>\n",
       "      <td>-18</td>\n",
       "      <td>11</td>\n",
       "      <td>40</td>\n",
       "    </tr>\n",
       "    <tr>\n",
       "      <th>Walter</th>\n",
       "      <td>-11</td>\n",
       "      <td>41</td>\n",
       "      <td>30</td>\n",
       "      <td>11</td>\n",
       "      <td>-27</td>\n",
       "      <td>16</td>\n",
       "      <td>36</td>\n",
       "    </tr>\n",
       "    <tr>\n",
       "      <th>Erik</th>\n",
       "      <td>-23</td>\n",
       "      <td>36</td>\n",
       "      <td>37</td>\n",
       "      <td>6</td>\n",
       "      <td>-36</td>\n",
       "      <td>23</td>\n",
       "      <td>41</td>\n",
       "    </tr>\n",
       "    <tr>\n",
       "      <th>Dylan</th>\n",
       "      <td>26</td>\n",
       "      <td>18</td>\n",
       "      <td>-15</td>\n",
       "      <td>4</td>\n",
       "      <td>30</td>\n",
       "      <td>-27</td>\n",
       "      <td>13</td>\n",
       "    </tr>\n",
       "    <tr>\n",
       "      <th>Thomas</th>\n",
       "      <td>-11</td>\n",
       "      <td>19</td>\n",
       "      <td>6</td>\n",
       "      <td>14</td>\n",
       "      <td>-4</td>\n",
       "      <td>0</td>\n",
       "      <td>14</td>\n",
       "    </tr>\n",
       "    <tr>\n",
       "      <th>Song</th>\n",
       "      <td>-10</td>\n",
       "      <td>25</td>\n",
       "      <td>33</td>\n",
       "      <td>1</td>\n",
       "      <td>-29</td>\n",
       "      <td>23</td>\n",
       "      <td>35</td>\n",
       "    </tr>\n",
       "  </tbody>\n",
       "</table>\n",
       "</div>"
      ],
      "text/plain": [
       "        Finding Nemo  Die Hard  Grand Budapest Hotel  Dark Knight  Lion King  \\\n",
       "Peter            -10        45                    26           21        -18   \n",
       "Walter           -11        41                    30           11        -27   \n",
       "Erik             -23        36                    37            6        -36   \n",
       "Dylan             26        18                   -15            4         30   \n",
       "Thomas           -11        19                     6           14         -4   \n",
       "Song             -10        25                    33            1        -29   \n",
       "\n",
       "        Amelie  Wolf of Wall Street  \n",
       "Peter       11                   40  \n",
       "Walter      16                   36  \n",
       "Erik        23                   41  \n",
       "Dylan      -27                   13  \n",
       "Thomas       0                   14  \n",
       "Song        23                   35  "
      ]
     },
     "execution_count": 10,
     "metadata": {},
     "output_type": "execute_result"
    }
   ],
   "source": [
    "(user_matrix - 5).dot( (movie_matrix - 5).T )"
   ]
  },
  {
   "cell_type": "markdown",
   "metadata": {},
   "source": [
    "As you can see, content filtering involves a lot of manual labor. Not only do features need to be specified apriori, but users AND items need to be mapped onto these features. If new features arrive, the existing items and users can be mapped and new recommendations recalculated for all items."
   ]
  },
  {
   "cell_type": "code",
   "execution_count": null,
   "metadata": {
    "collapsed": true
   },
   "outputs": [],
   "source": []
  }
 ],
 "metadata": {
  "kernelspec": {
   "display_name": "Python 2",
   "language": "python",
   "name": "python2"
  },
  "language_info": {
   "codemirror_mode": {
    "name": "ipython",
    "version": 2
   },
   "file_extension": ".py",
   "mimetype": "text/x-python",
   "name": "python",
   "nbconvert_exporter": "python",
   "pygments_lexer": "ipython2",
   "version": "2.7.11"
  }
 },
 "nbformat": 4,
 "nbformat_minor": 0
}
